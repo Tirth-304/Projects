{
 "cells": [
  {
   "cell_type": "markdown",
   "metadata": {},
   "source": [
    "# Natural language processing"
   ]
  },
  {
   "cell_type": "markdown",
   "metadata": {},
   "source": [
    "## Import Dataset and go through Data"
   ]
  },
  {
   "cell_type": "code",
   "execution_count": 1,
   "metadata": {},
   "outputs": [],
   "source": [
    "import zipfile\n",
    "\n",
    "def unzip_data(filename):\n",
    "    zip_ref = zipfile.ZipFile(filename, \"r\")\n",
    "    zip_ref.extractall()\n",
    "    zip_ref.close()"
   ]
  },
  {
   "cell_type": "code",
   "execution_count": 2,
   "metadata": {},
   "outputs": [],
   "source": [
    "unzip_data(\"nlp_getting_started.zip\")"
   ]
  },
  {
   "cell_type": "code",
   "execution_count": 9,
   "metadata": {},
   "outputs": [],
   "source": [
    "# Now, let's see what is inside the dataset\n",
    "import os\n",
    "\n",
    "def walk_through_dir(dir_path):\n",
    "    for dirpath, dirnames, filenames in os.walk(dir_path):\n",
    "        print(f\"There are {len(dirnames)} directories and {len(filenames)} images in '{dirpath}'.\")"
   ]
  },
  {
   "cell_type": "code",
   "execution_count": 10,
   "metadata": {},
   "outputs": [],
   "source": [
    "walk_through_dir('nlp_getting_started')"
   ]
  },
  {
   "cell_type": "code",
   "execution_count": 11,
   "metadata": {},
   "outputs": [
    {
     "data": {
      "text/html": [
       "<div>\n",
       "<style scoped>\n",
       "    .dataframe tbody tr th:only-of-type {\n",
       "        vertical-align: middle;\n",
       "    }\n",
       "\n",
       "    .dataframe tbody tr th {\n",
       "        vertical-align: top;\n",
       "    }\n",
       "\n",
       "    .dataframe thead th {\n",
       "        text-align: right;\n",
       "    }\n",
       "</style>\n",
       "<table border=\"1\" class=\"dataframe\">\n",
       "  <thead>\n",
       "    <tr style=\"text-align: right;\">\n",
       "      <th></th>\n",
       "      <th>id</th>\n",
       "      <th>keyword</th>\n",
       "      <th>location</th>\n",
       "      <th>text</th>\n",
       "      <th>target</th>\n",
       "    </tr>\n",
       "  </thead>\n",
       "  <tbody>\n",
       "    <tr>\n",
       "      <th>0</th>\n",
       "      <td>1</td>\n",
       "      <td>NaN</td>\n",
       "      <td>NaN</td>\n",
       "      <td>Our Deeds are the Reason of this #earthquake M...</td>\n",
       "      <td>1</td>\n",
       "    </tr>\n",
       "    <tr>\n",
       "      <th>1</th>\n",
       "      <td>4</td>\n",
       "      <td>NaN</td>\n",
       "      <td>NaN</td>\n",
       "      <td>Forest fire near La Ronge Sask. Canada</td>\n",
       "      <td>1</td>\n",
       "    </tr>\n",
       "    <tr>\n",
       "      <th>2</th>\n",
       "      <td>5</td>\n",
       "      <td>NaN</td>\n",
       "      <td>NaN</td>\n",
       "      <td>All residents asked to 'shelter in place' are ...</td>\n",
       "      <td>1</td>\n",
       "    </tr>\n",
       "    <tr>\n",
       "      <th>3</th>\n",
       "      <td>6</td>\n",
       "      <td>NaN</td>\n",
       "      <td>NaN</td>\n",
       "      <td>13,000 people receive #wildfires evacuation or...</td>\n",
       "      <td>1</td>\n",
       "    </tr>\n",
       "    <tr>\n",
       "      <th>4</th>\n",
       "      <td>7</td>\n",
       "      <td>NaN</td>\n",
       "      <td>NaN</td>\n",
       "      <td>Just got sent this photo from Ruby #Alaska as ...</td>\n",
       "      <td>1</td>\n",
       "    </tr>\n",
       "  </tbody>\n",
       "</table>\n",
       "</div>"
      ],
      "text/plain": [
       "   id keyword location                                               text  \\\n",
       "0   1     NaN      NaN  Our Deeds are the Reason of this #earthquake M...   \n",
       "1   4     NaN      NaN             Forest fire near La Ronge Sask. Canada   \n",
       "2   5     NaN      NaN  All residents asked to 'shelter in place' are ...   \n",
       "3   6     NaN      NaN  13,000 people receive #wildfires evacuation or...   \n",
       "4   7     NaN      NaN  Just got sent this photo from Ruby #Alaska as ...   \n",
       "\n",
       "   target  \n",
       "0       1  \n",
       "1       1  \n",
       "2       1  \n",
       "3       1  \n",
       "4       1  "
      ]
     },
     "execution_count": 11,
     "metadata": {},
     "output_type": "execute_result"
    }
   ],
   "source": [
    "import pandas as pd\n",
    "train = pd.read_csv('train.csv')\n",
    "test = pd.read_csv('test.csv')\n",
    "train.head()"
   ]
  },
  {
   "cell_type": "code",
   "execution_count": 12,
   "metadata": {},
   "outputs": [
    {
     "data": {
      "text/html": [
       "<div>\n",
       "<style scoped>\n",
       "    .dataframe tbody tr th:only-of-type {\n",
       "        vertical-align: middle;\n",
       "    }\n",
       "\n",
       "    .dataframe tbody tr th {\n",
       "        vertical-align: top;\n",
       "    }\n",
       "\n",
       "    .dataframe thead th {\n",
       "        text-align: right;\n",
       "    }\n",
       "</style>\n",
       "<table border=\"1\" class=\"dataframe\">\n",
       "  <thead>\n",
       "    <tr style=\"text-align: right;\">\n",
       "      <th></th>\n",
       "      <th>id</th>\n",
       "      <th>keyword</th>\n",
       "      <th>location</th>\n",
       "      <th>text</th>\n",
       "      <th>target</th>\n",
       "    </tr>\n",
       "  </thead>\n",
       "  <tbody>\n",
       "    <tr>\n",
       "      <th>2644</th>\n",
       "      <td>3796</td>\n",
       "      <td>destruction</td>\n",
       "      <td>NaN</td>\n",
       "      <td>So you have a new weapon that can cause un-ima...</td>\n",
       "      <td>1</td>\n",
       "    </tr>\n",
       "    <tr>\n",
       "      <th>2227</th>\n",
       "      <td>3185</td>\n",
       "      <td>deluge</td>\n",
       "      <td>NaN</td>\n",
       "      <td>The f$&amp;amp;@ing things I do for #GISHWHES Just...</td>\n",
       "      <td>0</td>\n",
       "    </tr>\n",
       "    <tr>\n",
       "      <th>5448</th>\n",
       "      <td>7769</td>\n",
       "      <td>police</td>\n",
       "      <td>UK</td>\n",
       "      <td>DT @georgegalloway: RT @Galloway4Mayor: ÛÏThe...</td>\n",
       "      <td>1</td>\n",
       "    </tr>\n",
       "    <tr>\n",
       "      <th>132</th>\n",
       "      <td>191</td>\n",
       "      <td>aftershock</td>\n",
       "      <td>NaN</td>\n",
       "      <td>Aftershock back to school kick off was great. ...</td>\n",
       "      <td>0</td>\n",
       "    </tr>\n",
       "    <tr>\n",
       "      <th>6845</th>\n",
       "      <td>9810</td>\n",
       "      <td>trauma</td>\n",
       "      <td>Montgomery County, MD</td>\n",
       "      <td>in response to trauma Children of Addicts deve...</td>\n",
       "      <td>0</td>\n",
       "    </tr>\n",
       "  </tbody>\n",
       "</table>\n",
       "</div>"
      ],
      "text/plain": [
       "        id      keyword               location  \\\n",
       "2644  3796  destruction                    NaN   \n",
       "2227  3185       deluge                    NaN   \n",
       "5448  7769       police                     UK   \n",
       "132    191   aftershock                    NaN   \n",
       "6845  9810       trauma  Montgomery County, MD   \n",
       "\n",
       "                                                   text  target  \n",
       "2644  So you have a new weapon that can cause un-ima...       1  \n",
       "2227  The f$&amp;@ing things I do for #GISHWHES Just...       0  \n",
       "5448  DT @georgegalloway: RT @Galloway4Mayor: ÛÏThe...       1  \n",
       "132   Aftershock back to school kick off was great. ...       0  \n",
       "6845  in response to trauma Children of Addicts deve...       0  "
      ]
     },
     "execution_count": 12,
     "metadata": {},
     "output_type": "execute_result"
    }
   ],
   "source": [
    "# Here, we can see that trained data is not shuffled\n",
    "shuffled_train = train.sample(frac = 1 , random_state = 42)\n",
    "shuffled_train.head()"
   ]
  },
  {
   "cell_type": "code",
   "execution_count": 13,
   "metadata": {},
   "outputs": [
    {
     "data": {
      "text/plain": [
       "0    4342\n",
       "1    3271\n",
       "Name: target, dtype: int64"
      ]
     },
     "execution_count": 13,
     "metadata": {},
     "output_type": "execute_result"
    }
   ],
   "source": [
    "# Here, we can see that label in data is target\n",
    "train['target'].value_counts()"
   ]
  },
  {
   "cell_type": "code",
   "execution_count": 14,
   "metadata": {},
   "outputs": [
    {
     "name": "stdout",
     "output_type": "stream",
     "text": [
      "201 Target: 1      (Real Disaster)\n",
      "Text: http://t.co/FueRk0gWui Twelve feared killed in Pakistani air ambulance helicopter crash http://t.co/Mv7GgGlmVc\n",
      "---\n",
      "\n",
      "1332 Target: 0      (Normal)\n",
      "Text: I'm mentally preparing myself for a bomb ass school year if it's not I'm burning buildings ??\n",
      "---\n",
      "\n",
      "3502 Target: 1      (Real Disaster)\n",
      "Text: You Are Invited to The Expo Explosion Summer Event 2015! \n",
      "WHEN: August 14th Friday 2015\n",
      "WHERE: Ben E Keith... http://t.co/yh4R7Ug21a\n",
      "---\n",
      "\n",
      "2708 Target: 0      (Normal)\n",
      "Text: Ignition Knock (Detonation) Sensor Connector-Connecto Dorman 917-141 http://t.co/rfJZexQgxt http://t.co/WQGsmiOiMx\n",
      "---\n",
      "\n",
      "6030 Target: 1      (Real Disaster)\n",
      "Text: [Report 5] 18:22:45 Ibaraki Prefecture offing M5.5 Depth 60km Maximum seismic intensity 4 #Earthquake\n",
      "---\n",
      "\n"
     ]
    }
   ],
   "source": [
    "import random\n",
    "random_index = random.randint(0 , len(train) - 5)\n",
    "\n",
    "for row in shuffled_train[['text' , 'target']][random_index:random_index+5].itertuples():\n",
    "    index , text , target = row\n",
    "    print(f'{index} Target: {target}     ' , '(Real Disaster)' if(target > 0) else '(Normal)')\n",
    "    print(f'Text: {text}')\n",
    "    print('---\\n')"
   ]
  },
  {
   "cell_type": "markdown",
   "metadata": {},
   "source": [
    "## Split data into training and testing part"
   ]
  },
  {
   "cell_type": "code",
   "execution_count": 15,
   "metadata": {},
   "outputs": [],
   "source": [
    "from sklearn.model_selection import train_test_split\n",
    "\n",
    "# Here, we have to use to_numpy function because we know that tensorflow can only handle numpy array\n",
    "# If we don't convert data in to numpy then it stays in a format of series\n",
    "# And that will show error while we start to process on data\n",
    "train_data , val_data , train_label , val_label = train_test_split(shuffled_train['text'].to_numpy() , shuffled_train['target'].to_numpy() , \n",
    "                                                                  test_size = 0.1 , random_state = 42)"
   ]
  },
  {
   "cell_type": "code",
   "execution_count": 16,
   "metadata": {},
   "outputs": [
    {
     "data": {
      "text/plain": [
       "(6851, 762, 6851, 762)"
      ]
     },
     "execution_count": 16,
     "metadata": {},
     "output_type": "execute_result"
    }
   ],
   "source": [
    "len(train_data) , len(val_data) , len(train_label) , len(val_label)"
   ]
  },
  {
   "cell_type": "code",
   "execution_count": 17,
   "metadata": {},
   "outputs": [
    {
     "data": {
      "text/plain": [
       "(array(['@mogacola @zamtriossu i screamed after hitting tweet',\n",
       "        'Imagine getting flattened by Kurt Zouma',\n",
       "        '@Gurmeetramrahim #MSGDoing111WelfareWorks Green S welfare force ke appx 65000 members har time disaster victim ki help ke liye tyar hai....',\n",
       "        \"@shakjn @C7 @Magnums im shaking in fear he's gonna hack the planet\",\n",
       "        'Somehow find you and I collide http://t.co/Ee8RpOahPk',\n",
       "        '@EvaHanderek @MarleyKnysh great times until the bus driver held us hostage in the mall parking lot lmfao',\n",
       "        'destroy the free fandom honestly',\n",
       "        'Weapons stolen from National Guard Armory in New Albany still missing #Gunsense http://t.co/lKNU8902JE',\n",
       "        '@wfaaweather Pete when will the heat wave pass? Is it really going to be mid month? Frisco Boy Scouts have a canoe trip in Okla.',\n",
       "        'Patient-reported outcomes in long-term survivors of metastatic colorectal cancer - British Journal of Surgery http://t.co/5Yl4DC1Tqt'],\n",
       "       dtype=object),\n",
       " array([0, 0, 1, 0, 0, 1, 1, 0, 1, 1], dtype=int64))"
      ]
     },
     "execution_count": 17,
     "metadata": {},
     "output_type": "execute_result"
    }
   ],
   "source": [
    "train_data[:10], train_label[:10]"
   ]
  },
  {
   "cell_type": "markdown",
   "metadata": {},
   "source": [
    "## Convert data from String to Integer"
   ]
  },
  {
   "cell_type": "code",
   "execution_count": 18,
   "metadata": {},
   "outputs": [],
   "source": [
    "import tensorflow as tf\n",
    "from tensorflow.keras.layers.experimental.preprocessing import TextVectorization\n",
    "\n",
    "text_vectorise = TextVectorization(max_tokens = None , standardize = 'lower_and_strip_punctuation' , \n",
    "                                  split = 'whitespace' , ngrams = None , output_mode = 'int' , \n",
    "                                  output_sequence_length = None , pad_to_max_tokens = True)"
   ]
  },
  {
   "cell_type": "code",
   "execution_count": 19,
   "metadata": {},
   "outputs": [
    {
     "data": {
      "text/plain": [
       "15"
      ]
     },
     "execution_count": 19,
     "metadata": {},
     "output_type": "execute_result"
    }
   ],
   "source": [
    "round(sum([len(i.split()) for i in train_data]) / len(train_data))"
   ]
  },
  {
   "cell_type": "code",
   "execution_count": 20,
   "metadata": {},
   "outputs": [],
   "source": [
    "# Fit the text vectorizer to the training text\n",
    "text_vectorise.adapt(train_data)"
   ]
  },
  {
   "cell_type": "code",
   "execution_count": 21,
   "metadata": {},
   "outputs": [
    {
     "data": {
      "text/plain": [
       "<tf.Tensor: shape=(2, 17), dtype=int64, numpy=\n",
       "array([[  13,  735,    9,    1,    0,    0,    0,    0,    0,    0,    0,\n",
       "           0,    0,    0,    0,    0,    0],\n",
       "       [   7,    8,  160,    2, 1038,  627,    6,    1,   56,    9,   39,\n",
       "         335, 1890,    7,  435,    6,    1]], dtype=int64)>"
      ]
     },
     "execution_count": 21,
     "metadata": {},
     "output_type": "execute_result"
    }
   ],
   "source": [
    "# Now, our model is trained  let's give it a sample and see the output\n",
    "text_vectorise(['My name is Tirth' , 'And I am the biggest fan of Iron-man. He is an big brain and heart of Avenger'])"
   ]
  },
  {
   "cell_type": "code",
   "execution_count": 22,
   "metadata": {},
   "outputs": [
    {
     "data": {
      "text/plain": [
       "<tf.Tensor: shape=(1, 4), dtype=int64, numpy=array([[ 13, 735,   9,   1]], dtype=int64)>"
      ]
     },
     "execution_count": 22,
     "metadata": {},
     "output_type": "execute_result"
    }
   ],
   "source": [
    "text_vectorise(['My name is Tirth'])"
   ]
  },
  {
   "cell_type": "markdown",
   "metadata": {},
   "source": [
    "In the given data we can see that length of tensor varies on different inputs.\n",
    "\n",
    "So, we need to build the model such that it can work on every data and give same length of output"
   ]
  },
  {
   "cell_type": "code",
   "execution_count": 23,
   "metadata": {},
   "outputs": [],
   "source": [
    "# Let's define new text_vectorise\n",
    "# We have set this value which is average of number of words in review\n",
    "text_vectorise = TextVectorization(max_tokens = 10000 , output_mode = 'int' , output_sequence_length = 15)"
   ]
  },
  {
   "cell_type": "code",
   "execution_count": 24,
   "metadata": {},
   "outputs": [],
   "source": [
    "text_vectorise.adapt(train_data)"
   ]
  },
  {
   "cell_type": "code",
   "execution_count": 25,
   "metadata": {},
   "outputs": [
    {
     "data": {
      "text/plain": [
       "<tf.Tensor: shape=(2, 15), dtype=int64, numpy=\n",
       "array([[  13,  735,    9,    1,    0,    0,    0,    0,    0,    0,    0,\n",
       "           0,    0,    0,    0],\n",
       "       [   7,    8,  160,    2, 1038,  627,    6,    1,   56,    9,   39,\n",
       "         335, 1890,    7,  435]], dtype=int64)>"
      ]
     },
     "execution_count": 25,
     "metadata": {},
     "output_type": "execute_result"
    }
   ],
   "source": [
    "text_vectorise(['My name is Tirth' , 'And I am the biggest fan of Iron-man. He is an big brain and heart of Avenger'])"
   ]
  },
  {
   "cell_type": "markdown",
   "metadata": {},
   "source": [
    "We can see by this method we have ignored some of the words"
   ]
  },
  {
   "cell_type": "code",
   "execution_count": 26,
   "metadata": {},
   "outputs": [
    {
     "name": "stdout",
     "output_type": "stream",
     "text": [
      "Number of words in vocab: 10000\n",
      "Top 5 most common words: ['', '[UNK]', 'the', 'a', 'in']\n",
      "Bottom 5 least common words: ['pages', 'paeds', 'pads', 'padres', 'paddytomlinson1']\n"
     ]
    }
   ],
   "source": [
    "# Get the unique words in the vocabulary\n",
    "words_in_vocab = text_vectorise.get_vocabulary()\n",
    "top_5_words = words_in_vocab[:5] # most common tokens (notice the [UNK] token for \"unknown\" words)\n",
    "bottom_5_words = words_in_vocab[-5:] # least common tokens\n",
    "print(f\"Number of words in vocab: {len(words_in_vocab)}\")\n",
    "print(f\"Top 5 most common words: {top_5_words}\") \n",
    "print(f\"Bottom 5 least common words: {bottom_5_words}\")"
   ]
  },
  {
   "cell_type": "code",
   "execution_count": 27,
   "metadata": {},
   "outputs": [],
   "source": [
    "embedding = tf.keras.layers.Embedding(input_dim = 10000 , output_dim = 128 , embeddings_initializer = \"uniform\",\n",
    "                                     input_length = 15)"
   ]
  },
  {
   "cell_type": "code",
   "execution_count": 28,
   "metadata": {},
   "outputs": [
    {
     "name": "stdout",
     "output_type": "stream",
     "text": [
      "Original Text: \n",
      " 1st wk of Rainier Diet and my street Seward Park Ave is inundated w/ bypass traffic so @seattledot what's your plan? @seattletimes \n",
      " \n",
      " Embedded Text: \n",
      "tf.Tensor(\n",
      "[[[-0.02626486  0.02489677  0.01112913 ...  0.01352126  0.00101148\n",
      "    0.01081574]\n",
      "  [-0.04609059  0.0134044  -0.01486454 ... -0.00441498 -0.00672521\n",
      "    0.0460559 ]\n",
      "  [ 0.00816593 -0.01125602 -0.04205699 ...  0.04109145 -0.0233161\n",
      "    0.04142242]\n",
      "  ...\n",
      "  [ 0.01142497 -0.04072481 -0.04593381 ...  0.04848829 -0.01705253\n",
      "    0.01958149]\n",
      "  [-0.00746336 -0.01148746 -0.03377707 ...  0.04567236  0.01540879\n",
      "   -0.03558017]\n",
      "  [ 0.02687624  0.03552241 -0.04281583 ... -0.02507528  0.01344143\n",
      "   -0.02094606]]], shape=(1, 15, 128), dtype=float32)\n"
     ]
    }
   ],
   "source": [
    "random_sentence = random.choice(train_data)\n",
    "\n",
    "print(f'Original Text: \\n {random_sentence} \\n \\n Embedded Text: ')\n",
    "\n",
    "sample_embed = embedding(text_vectorise([random_sentence]))\n",
    "print(sample_embed)"
   ]
  },
  {
   "cell_type": "code",
   "execution_count": 29,
   "metadata": {},
   "outputs": [
    {
     "data": {
      "text/plain": [
       "<tf.Tensor: shape=(128,), dtype=float32, numpy=\n",
       "array([-0.02626486,  0.02489677,  0.01112913,  0.04187724,  0.04481247,\n",
       "       -0.0315122 ,  0.00878147, -0.01818307,  0.0492834 , -0.04160342,\n",
       "        0.00922357, -0.04125585,  0.00357901, -0.00918447,  0.00894312,\n",
       "       -0.01784341,  0.04365095,  0.02043324,  0.02753371,  0.02760328,\n",
       "        0.04119718, -0.01553487, -0.03304504,  0.04865879, -0.01335103,\n",
       "       -0.01705796,  0.03163668, -0.04309852, -0.00607691, -0.00525808,\n",
       "        0.03532673,  0.00556356, -0.03641491, -0.04626456,  0.00484885,\n",
       "        0.01985443,  0.03395336, -0.04723645, -0.00286195, -0.03695991,\n",
       "        0.01543332,  0.04720925, -0.04681224,  0.03206268,  0.04159439,\n",
       "        0.01647521, -0.02344722,  0.04380963, -0.01581519,  0.01042588,\n",
       "       -0.04905113,  0.04316131,  0.04988131,  0.02364052,  0.02025026,\n",
       "       -0.01603211, -0.04640582, -0.04577739, -0.04101448, -0.03161969,\n",
       "        0.00577699,  0.01080605,  0.04795852, -0.01462637, -0.00328917,\n",
       "       -0.00873214,  0.03547343, -0.03589863, -0.0090635 ,  0.02264805,\n",
       "        0.02725765, -0.03999539,  0.0283918 , -0.00572515,  0.01116691,\n",
       "       -0.03209509, -0.0128703 ,  0.02656886, -0.04713723,  0.03380809,\n",
       "        0.01621261, -0.00813634, -0.03022165,  0.01027902,  0.03692896,\n",
       "       -0.04305415,  0.04546816,  0.02647983, -0.00142472,  0.02550748,\n",
       "       -0.04370595,  0.03724268, -0.01318861,  0.02335337, -0.01932501,\n",
       "        0.03762242, -0.03648509, -0.02071583, -0.03907396,  0.00426197,\n",
       "        0.04567505, -0.02907586,  0.02128198, -0.01515276, -0.03368341,\n",
       "       -0.029707  ,  0.04591792, -0.02113481, -0.00547441,  0.02562021,\n",
       "       -0.03613226,  0.02628858, -0.00465081,  0.04618162, -0.01631551,\n",
       "       -0.02094572, -0.04461982, -0.04353001,  0.01687956,  0.01629963,\n",
       "        0.02670795,  0.03624235,  0.00814594, -0.01849128, -0.01660147,\n",
       "        0.01352126,  0.00101148,  0.01081574], dtype=float32)>"
      ]
     },
     "execution_count": 29,
     "metadata": {},
     "output_type": "execute_result"
    }
   ],
   "source": [
    "sample_embed[0][0]"
   ]
  },
  {
   "cell_type": "markdown",
   "metadata": {},
   "source": [
    "## Getting baseline(by naive_bayes model)"
   ]
  },
  {
   "cell_type": "code",
   "execution_count": 30,
   "metadata": {},
   "outputs": [
    {
     "data": {
      "text/plain": [
       "Pipeline(steps=[('tfidf', TfidfVectorizer()), ('clf', MultinomialNB())])"
      ]
     },
     "execution_count": 30,
     "metadata": {},
     "output_type": "execute_result"
    }
   ],
   "source": [
    "from sklearn.feature_extraction.text import TfidfVectorizer\n",
    "from sklearn.naive_bayes import MultinomialNB\n",
    "from sklearn.pipeline import Pipeline\n",
    "\n",
    "# Create tokenization and modelling pipeline\n",
    "model_0 = Pipeline([\n",
    "                    (\"tfidf\", TfidfVectorizer()), # convert words to numbers using tfidf\n",
    "                    (\"clf\", MultinomialNB()) # model the text\n",
    "])\n",
    "\n",
    "# Fit the pipeline to the training data\n",
    "model_0.fit(train_data, train_label)"
   ]
  },
  {
   "cell_type": "code",
   "execution_count": 31,
   "metadata": {},
   "outputs": [
    {
     "name": "stdout",
     "output_type": "stream",
     "text": [
      "Our baseline model achieves an accuracy of: 79.27%\n"
     ]
    }
   ],
   "source": [
    "baseline_score = model_0.score(val_data, val_label)\n",
    "print(f\"Our baseline model achieves an accuracy of: {baseline_score*100:.2f}%\")"
   ]
  },
  {
   "cell_type": "code",
   "execution_count": 32,
   "metadata": {},
   "outputs": [
    {
     "name": "stdout",
     "output_type": "stream",
     "text": [
      "[1 1 1 0 0 1 1 1 1 0 0 1 0 0 0 0 0 0 0 1]\n",
      "[0 0 1 1 1 1 1 1 1 0 0 0 0 0 0 0 0 0 1 0]\n"
     ]
    }
   ],
   "source": [
    "# Make predictions\n",
    "baseline_preds = model_0.predict(val_data)\n",
    "print(baseline_preds[:20])\n",
    "print(val_label[:20])"
   ]
  },
  {
   "cell_type": "code",
   "execution_count": 33,
   "metadata": {},
   "outputs": [],
   "source": [
    "from sklearn.metrics import accuracy_score, precision_recall_fscore_support\n",
    "\n",
    "def calculate_result(y_true , y_pred):\n",
    "    model_accuracy = accuracy_score(y_pred , y_true)\n",
    "    \n",
    "    model_precision , model_recall , model_f1 , _ = precision_recall_fscore_support(y_true , y_pred , average = 'weighted')\n",
    "    model_results = {'Accuracy' : model_accuracy , \n",
    "                    'Precision' : model_precision , \n",
    "                    'Recall' : model_recall , \n",
    "                    'F1 Score' : model_f1}\n",
    "    \n",
    "    return model_results"
   ]
  },
  {
   "cell_type": "code",
   "execution_count": 34,
   "metadata": {},
   "outputs": [
    {
     "name": "stdout",
     "output_type": "stream",
     "text": [
      "{'Accuracy': 0.7926509186351706, 'Precision': 0.8111390004213173, 'Recall': 0.7926509186351706, 'F1 Score': 0.7862189758049549}\n"
     ]
    }
   ],
   "source": [
    "baseline_results = calculate_result(val_label , baseline_preds)\n",
    "print(baseline_results)"
   ]
  },
  {
   "cell_type": "code",
   "execution_count": 35,
   "metadata": {},
   "outputs": [],
   "source": [
    "import matplotlib.pyplot as plt\n",
    "\n",
    "# Plot the validation and training data separately\n",
    "def plot_loss_curves(history):\n",
    "    loss = history.history['loss']\n",
    "    val_loss = history.history['val_loss']\n",
    "\n",
    "    accuracy = history.history['accuracy']\n",
    "    val_accuracy = history.history['val_accuracy']\n",
    "\n",
    "    epochs = range(len(history.history['loss']))\n",
    "\n",
    "  # Plot loss\n",
    "    plt.plot(epochs, loss, label='training_loss')\n",
    "    plt.plot(epochs, val_loss, label='val_loss')\n",
    "    plt.title('Loss')\n",
    "    plt.xlabel('Epochs')\n",
    "    plt.legend()\n",
    "\n",
    "  # Plot accuracy\n",
    "    plt.figure()\n",
    "    plt.plot(epochs, accuracy, label='training_accuracy')\n",
    "    plt.plot(epochs, val_accuracy, label='val_accuracy')\n",
    "    plt.title('Accuracy')\n",
    "    plt.xlabel('Epochs')\n",
    "    plt.legend();"
   ]
  },
  {
   "cell_type": "code",
   "execution_count": 36,
   "metadata": {},
   "outputs": [],
   "source": [
    "import datetime\n",
    "def create_tensorboard_callback(dir_name, experiment_name):\n",
    "    log_dir = dir_name + \"/\" + experiment_name + \"/\" + datetime.datetime.now().strftime(\"%Y%m%d-%H%M%S\")\n",
    "    tensorboard_callback = tf.keras.callbacks.TensorBoard(\n",
    "        log_dir=log_dir\n",
    "    )\n",
    "    print(f\"Saving TensorBoard log files to: {log_dir}\")\n",
    "    return tensorboard_callback"
   ]
  },
  {
   "cell_type": "markdown",
   "metadata": {},
   "source": [
    "## Model - 1 (Start with basic model)"
   ]
  },
  {
   "cell_type": "code",
   "execution_count": 37,
   "metadata": {},
   "outputs": [],
   "source": [
    "# Now let's built model with neural network\n",
    "\n",
    "inputs = tf.keras.layers.Input(shape = (1 , ) , dtype = 'string')\n",
    "x = text_vectorise(inputs)\n",
    "x = embedding(x)\n",
    "x = tf.keras.layers.GlobalAveragePooling1D()(x)\n",
    "outputs = tf.keras.layers.Dense(1 , activation = 'sigmoid')(x)\n",
    "\n",
    "model_1 = tf.keras.Model(inputs ,outputs , name = 'Model_1_Dense')"
   ]
  },
  {
   "cell_type": "code",
   "execution_count": 38,
   "metadata": {},
   "outputs": [],
   "source": [
    "model_1.compile(loss = 'binary_crossentropy' , optimizer = tf.keras.optimizers.Adam() , metrics = ['accuracy'])"
   ]
  },
  {
   "cell_type": "code",
   "execution_count": 39,
   "metadata": {},
   "outputs": [
    {
     "name": "stdout",
     "output_type": "stream",
     "text": [
      "Model: \"Model_1_Dense\"\n",
      "_________________________________________________________________\n",
      "Layer (type)                 Output Shape              Param #   \n",
      "=================================================================\n",
      "input_1 (InputLayer)         [(None, 1)]               0         \n",
      "_________________________________________________________________\n",
      "text_vectorization_1 (TextVe (None, 15)                0         \n",
      "_________________________________________________________________\n",
      "embedding (Embedding)        (None, 15, 128)           1280000   \n",
      "_________________________________________________________________\n",
      "global_average_pooling1d (Gl (None, 128)               0         \n",
      "_________________________________________________________________\n",
      "dense (Dense)                (None, 1)                 129       \n",
      "=================================================================\n",
      "Total params: 1,280,129\n",
      "Trainable params: 1,280,129\n",
      "Non-trainable params: 0\n",
      "_________________________________________________________________\n"
     ]
    }
   ],
   "source": [
    "model_1.summary()"
   ]
  },
  {
   "cell_type": "code",
   "execution_count": 40,
   "metadata": {},
   "outputs": [
    {
     "name": "stdout",
     "output_type": "stream",
     "text": [
      "Saving TensorBoard log files to: NLP/Simple_Dense_Model/20210707-121907\n",
      "Epoch 1/5\n",
      "215/215 [==============================] - 9s 35ms/step - loss: 0.6084 - accuracy: 0.7000 - val_loss: 0.5344 - val_accuracy: 0.7546\n",
      "Epoch 2/5\n",
      "215/215 [==============================] - 7s 34ms/step - loss: 0.4396 - accuracy: 0.8213 - val_loss: 0.4678 - val_accuracy: 0.7835\n",
      "Epoch 3/5\n",
      "215/215 [==============================] - 7s 33ms/step - loss: 0.3450 - accuracy: 0.8621 - val_loss: 0.4577 - val_accuracy: 0.7913\n",
      "Epoch 4/5\n",
      "215/215 [==============================] - 6s 27ms/step - loss: 0.2832 - accuracy: 0.8901 - val_loss: 0.4661 - val_accuracy: 0.7874\n",
      "Epoch 5/5\n",
      "215/215 [==============================] - 6s 29ms/step - loss: 0.2371 - accuracy: 0.9127 - val_loss: 0.4882 - val_accuracy: 0.7900\n"
     ]
    }
   ],
   "source": [
    "history_1 = model_1.fit(train_data , train_label , epochs = 5 , validation_data = (val_data , val_label) , \n",
    "                       callbacks = [create_tensorboard_callback('NLP' , 'Simple_Dense_Model')])"
   ]
  },
  {
   "cell_type": "code",
   "execution_count": 41,
   "metadata": {},
   "outputs": [
    {
     "data": {
      "image/png": "[encoded data removed]",
      "text/plain": [
       "<Figure size 432x288 with 1 Axes>"
      ]
     },
     "metadata": {
      "needs_background": "light"
     },
     "output_type": "display_data"
    },
    {
     "data": {
      "image/png": "[encoded data removed]",
      "text/plain": [
       "<Figure size 432x288 with 1 Axes>"
      ]
     },
     "metadata": {
      "needs_background": "light"
     },
     "output_type": "display_data"
    }
   ],
   "source": [
    "plot_loss_curves(history_1)"
   ]
  },
  {
   "cell_type": "code",
   "execution_count": 42,
   "metadata": {},
   "outputs": [
    {
     "data": {
      "text/plain": [
       "array([[0.25377542],\n",
       "       [0.76115525],\n",
       "       [0.9971333 ],\n",
       "       [0.10056716],\n",
       "       [0.10068658],\n",
       "       [0.92522883],\n",
       "       [0.9075671 ],\n",
       "       [0.9924644 ],\n",
       "       [0.9549676 ],\n",
       "       [0.26366365]], dtype=float32)"
      ]
     },
     "execution_count": 42,
     "metadata": {},
     "output_type": "execute_result"
    }
   ],
   "source": [
    "model_1_pred_prob = model_1.predict(val_data)\n",
    "model_1_pred_prob[:10]"
   ]
  },
  {
   "cell_type": "code",
   "execution_count": 43,
   "metadata": {},
   "outputs": [
    {
     "data": {
      "text/plain": [
       "<tf.Tensor: shape=(10,), dtype=float32, numpy=array([0., 1., 1., 0., 0., 1., 1., 1., 1., 0.], dtype=float32)>"
      ]
     },
     "execution_count": 43,
     "metadata": {},
     "output_type": "execute_result"
    }
   ],
   "source": [
    "model_1_pred = tf.squeeze(tf.round(model_1_pred_prob))\n",
    "model_1_pred[:10]"
   ]
  },
  {
   "cell_type": "code",
   "execution_count": 44,
   "metadata": {},
   "outputs": [
    {
     "name": "stdout",
     "output_type": "stream",
     "text": [
      "{'Accuracy': 0.7900262467191601, 'Precision': 0.7986440245389494, 'Recall': 0.7900262467191601, 'F1 Score': 0.7859832179841351}\n"
     ]
    }
   ],
   "source": [
    "model_1_results = calculate_result(val_label , model_1_pred)\n",
    "print(model_1_results)"
   ]
  },
  {
   "cell_type": "code",
   "execution_count": 45,
   "metadata": {},
   "outputs": [
    {
     "data": {
      "text/plain": [
       "array([False, False, False, False])"
      ]
     },
     "execution_count": 45,
     "metadata": {},
     "output_type": "execute_result"
    }
   ],
   "source": [
    "# Now let's check whether our model is predicting more precisely than base model or what\n",
    "import numpy as np\n",
    "np.array(list(model_1_results.values())) > np.array(list(baseline_results.values()))"
   ]
  },
  {
   "cell_type": "code",
   "execution_count": 46,
   "metadata": {},
   "outputs": [],
   "source": [
    "def comparator_function(baseline_results , new_model_results):\n",
    "    for key , value in baseline_results.items():\n",
    "        print(f'Baseline {key} : {value:.2f} , New {key} : {new_model_results[key]:.2f} , Difference : {new_model_results[key] - value:.2f}')"
   ]
  },
  {
   "cell_type": "code",
   "execution_count": 47,
   "metadata": {},
   "outputs": [
    {
     "name": "stdout",
     "output_type": "stream",
     "text": [
      "Baseline Accuracy : 0.79 , New Accuracy : 0.79 , Difference : -0.00\n",
      "Baseline Precision : 0.81 , New Precision : 0.80 , Difference : -0.01\n",
      "Baseline Recall : 0.79 , New Recall : 0.79 , Difference : -0.00\n",
      "Baseline F1 Score : 0.79 , New F1 Score : 0.79 , Difference : -0.00\n"
     ]
    }
   ],
   "source": [
    "comparator_function(baseline_results , model_1_results)"
   ]
  },
  {
   "cell_type": "code",
   "execution_count": 48,
   "metadata": {},
   "outputs": [
    {
     "data": {
      "text/plain": [
       "(10000, ['', '[UNK]', 'the', 'a', 'in', 'to', 'of', 'and', 'i', 'is'])"
      ]
     },
     "execution_count": 48,
     "metadata": {},
     "output_type": "execute_result"
    }
   ],
   "source": [
    "words_in_vocab = text_vectorise.get_vocabulary()\n",
    "len(words_in_vocab) , words_in_vocab[:10]"
   ]
  },
  {
   "cell_type": "code",
   "execution_count": 49,
   "metadata": {},
   "outputs": [
    {
     "name": "stdout",
     "output_type": "stream",
     "text": [
      "Model: \"Model_1_Dense\"\n",
      "_________________________________________________________________\n",
      "Layer (type)                 Output Shape              Param #   \n",
      "=================================================================\n",
      "input_1 (InputLayer)         [(None, 1)]               0         \n",
      "_________________________________________________________________\n",
      "text_vectorization_1 (TextVe (None, 15)                0         \n",
      "_________________________________________________________________\n",
      "embedding (Embedding)        (None, 15, 128)           1280000   \n",
      "_________________________________________________________________\n",
      "global_average_pooling1d (Gl (None, 128)               0         \n",
      "_________________________________________________________________\n",
      "dense (Dense)                (None, 1)                 129       \n",
      "=================================================================\n",
      "Total params: 1,280,129\n",
      "Trainable params: 1,280,129\n",
      "Non-trainable params: 0\n",
      "_________________________________________________________________\n"
     ]
    }
   ],
   "source": [
    "model_1.summary()"
   ]
  },
  {
   "cell_type": "markdown",
   "metadata": {},
   "source": [
    "## Model - 2(Using LSTM)"
   ]
  },
  {
   "cell_type": "code",
   "execution_count": 50,
   "metadata": {},
   "outputs": [
    {
     "name": "stdout",
     "output_type": "stream",
     "text": [
      "Shape after Embedding (None, 15, 128)\n",
      "Shape after LSTM (None, 64)\n"
     ]
    }
   ],
   "source": [
    "inputs = tf.keras.layers.Input(shape = (1 , ) , dtype = 'string')\n",
    "x = text_vectorise(inputs)\n",
    "x = embedding(x)\n",
    "print(f'Shape after Embedding {x.shape}')\n",
    "\n",
    "x = tf.keras.layers.LSTM(64)(x)\n",
    "print(f'Shape after LSTM {x.shape}')\n",
    "\n",
    "outputs = tf.keras.layers.Dense(1 , activation = 'sigmoid')(x)\n",
    "model_2 = tf.keras.Model(inputs , outputs , name = 'Model_2_LSTM')"
   ]
  },
  {
   "cell_type": "code",
   "execution_count": 51,
   "metadata": {},
   "outputs": [],
   "source": [
    "model_2.compile(loss = 'binary_crossentropy' , optimizer = tf.keras.optimizers.Adam() , metrics = ['accuracy'])"
   ]
  },
  {
   "cell_type": "code",
   "execution_count": 52,
   "metadata": {},
   "outputs": [
    {
     "name": "stdout",
     "output_type": "stream",
     "text": [
      "Model: \"Model_2_LSTM\"\n",
      "_________________________________________________________________\n",
      "Layer (type)                 Output Shape              Param #   \n",
      "=================================================================\n",
      "input_2 (InputLayer)         [(None, 1)]               0         \n",
      "_________________________________________________________________\n",
      "text_vectorization_1 (TextVe (None, 15)                0         \n",
      "_________________________________________________________________\n",
      "embedding (Embedding)        (None, 15, 128)           1280000   \n",
      "_________________________________________________________________\n",
      "lstm (LSTM)                  (None, 64)                49408     \n",
      "_________________________________________________________________\n",
      "dense_1 (Dense)              (None, 1)                 65        \n",
      "=================================================================\n",
      "Total params: 1,329,473\n",
      "Trainable params: 1,329,473\n",
      "Non-trainable params: 0\n",
      "_________________________________________________________________\n"
     ]
    }
   ],
   "source": [
    "model_2.summary()"
   ]
  },
  {
   "cell_type": "code",
   "execution_count": 53,
   "metadata": {},
   "outputs": [
    {
     "name": "stdout",
     "output_type": "stream",
     "text": [
      "Saving TensorBoard log files to: NLP/LSTM_Model/20210707-121955\n",
      "Epoch 1/5\n",
      "215/215 [==============================] - 20s 73ms/step - loss: 0.2190 - accuracy: 0.9175 - val_loss: 0.5488 - val_accuracy: 0.7782\n",
      "Epoch 2/5\n",
      "215/215 [==============================] - 11s 50ms/step - loss: 0.1561 - accuracy: 0.9416 - val_loss: 0.6581 - val_accuracy: 0.7822\n",
      "Epoch 3/5\n",
      "215/215 [==============================] - 11s 50ms/step - loss: 0.1292 - accuracy: 0.9508 - val_loss: 0.7076 - val_accuracy: 0.7782\n",
      "Epoch 4/5\n",
      "215/215 [==============================] - 11s 49ms/step - loss: 0.1041 - accuracy: 0.9604 - val_loss: 0.7767 - val_accuracy: 0.7690\n",
      "Epoch 5/5\n",
      "215/215 [==============================] - 11s 50ms/step - loss: 0.0841 - accuracy: 0.9675 - val_loss: 0.9601 - val_accuracy: 0.7703\n"
     ]
    }
   ],
   "source": [
    "history_2 = model_2.fit(train_data , train_label , epochs = 5 , validation_data = (val_data , val_label) , \n",
    "                       callbacks = [create_tensorboard_callback('NLP' , 'LSTM_Model')])"
   ]
  },
  {
   "cell_type": "code",
   "execution_count": 54,
   "metadata": {},
   "outputs": [
    {
     "data": {
      "image/png": "[encoded data removed]",
      "text/plain": [
       "<Figure size 432x288 with 1 Axes>"
      ]
     },
     "metadata": {
      "needs_background": "light"
     },
     "output_type": "display_data"
    },
    {
     "data": {
      "image/png": "[encoded data removed]",
      "text/plain": [
       "<Figure size 432x288 with 1 Axes>"
      ]
     },
     "metadata": {
      "needs_background": "light"
     },
     "output_type": "display_data"
    }
   ],
   "source": [
    "plot_loss_curves(history_2)"
   ]
  },
  {
   "cell_type": "code",
   "execution_count": 55,
   "metadata": {},
   "outputs": [
    {
     "data": {
      "text/plain": [
       "array([[9.7311288e-02],\n",
       "       [8.3769894e-01],\n",
       "       [9.9971426e-01],\n",
       "       [3.6389351e-02],\n",
       "       [4.2909384e-04],\n",
       "       [9.9867904e-01],\n",
       "       [7.9086322e-01],\n",
       "       [9.9983680e-01],\n",
       "       [9.9972665e-01],\n",
       "       [4.0880474e-01]], dtype=float32)"
      ]
     },
     "execution_count": 55,
     "metadata": {},
     "output_type": "execute_result"
    }
   ],
   "source": [
    "model_2_pred_prob = model_2.predict(val_data)\n",
    "model_2_pred_prob[:10]"
   ]
  },
  {
   "cell_type": "code",
   "execution_count": 56,
   "metadata": {},
   "outputs": [
    {
     "data": {
      "text/plain": [
       "<tf.Tensor: shape=(10,), dtype=float32, numpy=array([0., 1., 1., 0., 0., 1., 1., 1., 1., 0.], dtype=float32)>"
      ]
     },
     "execution_count": 56,
     "metadata": {},
     "output_type": "execute_result"
    }
   ],
   "source": [
    "model_2_pred = tf.squeeze(tf.round(model_2_pred_prob))\n",
    "model_2_pred[:10]"
   ]
  },
  {
   "cell_type": "code",
   "execution_count": 57,
   "metadata": {},
   "outputs": [
    {
     "name": "stdout",
     "output_type": "stream",
     "text": [
      "{'Accuracy': 0.7703412073490814, 'Precision': 0.7709806133638261, 'Recall': 0.7703412073490814, 'F1 Score': 0.7688058109983439}\n"
     ]
    }
   ],
   "source": [
    "model_2_results = calculate_result(val_label , model_2_pred)\n",
    "print(model_2_results)"
   ]
  },
  {
   "cell_type": "code",
   "execution_count": 58,
   "metadata": {},
   "outputs": [
    {
     "name": "stdout",
     "output_type": "stream",
     "text": [
      "Baseline Accuracy : 0.79 , New Accuracy : 0.77 , Difference : -0.02\n",
      "Baseline Precision : 0.81 , New Precision : 0.77 , Difference : -0.04\n",
      "Baseline Recall : 0.79 , New Recall : 0.77 , Difference : -0.02\n",
      "Baseline F1 Score : 0.79 , New F1 Score : 0.77 , Difference : -0.02\n"
     ]
    }
   ],
   "source": [
    "comparator_function(baseline_results , model_2_results)"
   ]
  },
  {
   "cell_type": "markdown",
   "metadata": {},
   "source": [
    "## Model - 3 (Using GRU)"
   ]
  },
  {
   "cell_type": "code",
   "execution_count": 59,
   "metadata": {},
   "outputs": [],
   "source": [
    "inputs = tf.keras.layers.Input(shape = (1 , ) , dtype = 'string')\n",
    "x = text_vectorise(inputs)\n",
    "x = embedding(x)\n",
    "x = tf.keras.layers.GRU(64)(x)\n",
    "outputs = tf.keras.layers.Dense(1 , activation = 'sigmoid')(x)\n",
    "\n",
    "model_3 = tf.keras.Model(inputs , outputs , name = 'Model_3_GRU')"
   ]
  },
  {
   "cell_type": "code",
   "execution_count": 60,
   "metadata": {},
   "outputs": [],
   "source": [
    "model_3.compile(loss = 'binary_crossentropy' , optimizer = tf.keras.optimizers.Adam() , metrics = ['accuracy'])"
   ]
  },
  {
   "cell_type": "code",
   "execution_count": 61,
   "metadata": {},
   "outputs": [
    {
     "name": "stdout",
     "output_type": "stream",
     "text": [
      "Model: \"Model_3_GRU\"\n",
      "_________________________________________________________________\n",
      "Layer (type)                 Output Shape              Param #   \n",
      "=================================================================\n",
      "input_3 (InputLayer)         [(None, 1)]               0         \n",
      "_________________________________________________________________\n",
      "text_vectorization_1 (TextVe (None, 15)                0         \n",
      "_________________________________________________________________\n",
      "embedding (Embedding)        (None, 15, 128)           1280000   \n",
      "_________________________________________________________________\n",
      "gru (GRU)                    (None, 64)                37248     \n",
      "_________________________________________________________________\n",
      "dense_2 (Dense)              (None, 1)                 65        \n",
      "=================================================================\n",
      "Total params: 1,317,313\n",
      "Trainable params: 1,317,313\n",
      "Non-trainable params: 0\n",
      "_________________________________________________________________\n"
     ]
    }
   ],
   "source": [
    "model_3.summary()"
   ]
  },
  {
   "cell_type": "code",
   "execution_count": 62,
   "metadata": {},
   "outputs": [
    {
     "name": "stdout",
     "output_type": "stream",
     "text": [
      "Saving TensorBoard log files to: NLP/GRU_Model/20210707-122141\n",
      "Epoch 1/5\n",
      "215/215 [==============================] - 26s 84ms/step - loss: 0.1492 - accuracy: 0.9434 - val_loss: 0.7095 - val_accuracy: 0.7756\n",
      "Epoch 2/5\n",
      "215/215 [==============================] - 11s 50ms/step - loss: 0.0840 - accuracy: 0.9693 - val_loss: 0.8825 - val_accuracy: 0.7769\n",
      "Epoch 3/5\n",
      "215/215 [==============================] - 11s 50ms/step - loss: 0.0742 - accuracy: 0.9714 - val_loss: 0.9733 - val_accuracy: 0.7769\n",
      "Epoch 4/5\n",
      "215/215 [==============================] - 11s 50ms/step - loss: 0.0612 - accuracy: 0.9772 - val_loss: 1.0322 - val_accuracy: 0.7717\n",
      "Epoch 5/5\n",
      "215/215 [==============================] - 11s 50ms/step - loss: 0.0532 - accuracy: 0.9766 - val_loss: 1.1124 - val_accuracy: 0.7638\n"
     ]
    }
   ],
   "source": [
    "history_3 = model_3.fit(train_data , train_label , epochs = 5 , validation_data = (val_data , val_label) , \n",
    "                       callbacks = [create_tensorboard_callback('NLP' , 'GRU_Model')])"
   ]
  },
  {
   "cell_type": "code",
   "execution_count": 63,
   "metadata": {},
   "outputs": [
    {
     "data": {
      "image/png": "[encoded data removed]",
      "text/plain": [
       "<Figure size 432x288 with 1 Axes>"
      ]
     },
     "metadata": {
      "needs_background": "light"
     },
     "output_type": "display_data"
    },
    {
     "data": {
      "image/png": "[encoded data removed]",
      "text/plain": [
       "<Figure size 432x288 with 1 Axes>"
      ]
     },
     "metadata": {
      "needs_background": "light"
     },
     "output_type": "display_data"
    }
   ],
   "source": [
    "plot_loss_curves(history_3)"
   ]
  },
  {
   "cell_type": "code",
   "execution_count": 64,
   "metadata": {},
   "outputs": [
    {
     "data": {
      "text/plain": [
       "array([[6.91184402e-03],\n",
       "       [7.38484740e-01],\n",
       "       [9.99743164e-01],\n",
       "       [1.25324875e-01],\n",
       "       [1.18842654e-04],\n",
       "       [9.99477923e-01],\n",
       "       [4.99998152e-01],\n",
       "       [9.99927759e-01],\n",
       "       [9.99814212e-01],\n",
       "       [8.11708033e-01]], dtype=float32)"
      ]
     },
     "execution_count": 64,
     "metadata": {},
     "output_type": "execute_result"
    }
   ],
   "source": [
    "model_3_pred_prob = model_3.predict(val_data)\n",
    "model_3_pred_prob[:10]"
   ]
  },
  {
   "cell_type": "code",
   "execution_count": 65,
   "metadata": {},
   "outputs": [
    {
     "data": {
      "text/plain": [
       "<tf.Tensor: shape=(10,), dtype=float32, numpy=array([0., 1., 1., 0., 0., 1., 0., 1., 1., 1.], dtype=float32)>"
      ]
     },
     "execution_count": 65,
     "metadata": {},
     "output_type": "execute_result"
    }
   ],
   "source": [
    "model_3_pred = tf.squeeze(tf.round(model_3_pred_prob))\n",
    "model_3_pred[:10]"
   ]
  },
  {
   "cell_type": "code",
   "execution_count": 66,
   "metadata": {},
   "outputs": [
    {
     "name": "stdout",
     "output_type": "stream",
     "text": [
      "{'Accuracy': 0.7637795275590551, 'Precision': 0.7639261289761722, 'Recall': 0.7637795275590551, 'F1 Score': 0.7624822674694383}\n"
     ]
    }
   ],
   "source": [
    "model_3_results = calculate_result(val_label , model_3_pred)\n",
    "print(model_3_results)"
   ]
  },
  {
   "cell_type": "code",
   "execution_count": 67,
   "metadata": {},
   "outputs": [
    {
     "name": "stdout",
     "output_type": "stream",
     "text": [
      "Baseline Accuracy : 0.79 , New Accuracy : 0.76 , Difference : -0.03\n",
      "Baseline Precision : 0.81 , New Precision : 0.76 , Difference : -0.05\n",
      "Baseline Recall : 0.79 , New Recall : 0.76 , Difference : -0.03\n",
      "Baseline F1 Score : 0.79 , New F1 Score : 0.76 , Difference : -0.02\n"
     ]
    }
   ],
   "source": [
    "comparator_function(baseline_results , model_3_results)"
   ]
  },
  {
   "cell_type": "markdown",
   "metadata": {},
   "source": [
    "## Model - 4 (Using Bidirectional RNN)"
   ]
  },
  {
   "cell_type": "code",
   "execution_count": 68,
   "metadata": {},
   "outputs": [],
   "source": [
    "inputs = tf.keras.layers.Input(shape = (1 , ) , dtype = 'string')\n",
    "x = text_vectorise(inputs)\n",
    "x = embedding(x)\n",
    "x = tf.keras.layers.Bidirectional(tf.keras.layers.LSTM(64))(x)\n",
    "outputs = tf.keras.layers.Dense(1 , activation = 'sigmoid')(x)\n",
    "\n",
    "model_4 = tf.keras.Model(inputs , outputs , name = 'Model_4_Bidirectional_RNN')"
   ]
  },
  {
   "cell_type": "code",
   "execution_count": 69,
   "metadata": {},
   "outputs": [],
   "source": [
    "model_4.compile(loss = 'binary_crossentropy' , optimizer = tf.keras.optimizers.Adam() , metrics = ['accuracy'])"
   ]
  },
  {
   "cell_type": "code",
   "execution_count": 70,
   "metadata": {},
   "outputs": [
    {
     "name": "stdout",
     "output_type": "stream",
     "text": [
      "Saving TensorBoard log files to: NLP/Bidirectional_LSTM_Model/20210707-122254\n",
      "Epoch 1/5\n",
      "215/215 [==============================] - 27s 90ms/step - loss: 0.1075 - accuracy: 0.9702 - val_loss: 1.0018 - val_accuracy: 0.7743\n",
      "Epoch 2/5\n",
      "215/215 [==============================] - 7s 35ms/step - loss: 0.0543 - accuracy: 0.9766 - val_loss: 1.2040 - val_accuracy: 0.7572\n",
      "Epoch 3/5\n",
      "215/215 [==============================] - 10s 44ms/step - loss: 0.0483 - accuracy: 0.9772 - val_loss: 1.2213 - val_accuracy: 0.7690\n",
      "Epoch 4/5\n",
      "215/215 [==============================] - 11s 51ms/step - loss: 0.0445 - accuracy: 0.9791 - val_loss: 1.4877 - val_accuracy: 0.7559\n",
      "Epoch 5/5\n",
      "215/215 [==============================] - 11s 51ms/step - loss: 0.0381 - accuracy: 0.9823 - val_loss: 1.5805 - val_accuracy: 0.7638\n"
     ]
    }
   ],
   "source": [
    "history_4 = model_4.fit(train_data , train_label , epochs = 5 , validation_data = (val_data , val_label) , \n",
    "                       callbacks = [create_tensorboard_callback('NLP' , 'Bidirectional_LSTM_Model')])"
   ]
  },
  {
   "cell_type": "code",
   "execution_count": 71,
   "metadata": {},
   "outputs": [
    {
     "name": "stdout",
     "output_type": "stream",
     "text": [
      "Model: \"Model_4_Bidirectional_RNN\"\n",
      "_________________________________________________________________\n",
      "Layer (type)                 Output Shape              Param #   \n",
      "=================================================================\n",
      "input_4 (InputLayer)         [(None, 1)]               0         \n",
      "_________________________________________________________________\n",
      "text_vectorization_1 (TextVe (None, 15)                0         \n",
      "_________________________________________________________________\n",
      "embedding (Embedding)        (None, 15, 128)           1280000   \n",
      "_________________________________________________________________\n",
      "bidirectional (Bidirectional (None, 128)               98816     \n",
      "_________________________________________________________________\n",
      "dense_3 (Dense)              (None, 1)                 129       \n",
      "=================================================================\n",
      "Total params: 1,378,945\n",
      "Trainable params: 1,378,945\n",
      "Non-trainable params: 0\n",
      "_________________________________________________________________\n"
     ]
    }
   ],
   "source": [
    "model_4.summary()"
   ]
  },
  {
   "cell_type": "code",
   "execution_count": 72,
   "metadata": {},
   "outputs": [
    {
     "data": {
      "image/png": "[encoded data removed]",
      "text/plain": [
       "<Figure size 432x288 with 1 Axes>"
      ]
     },
     "metadata": {
      "needs_background": "light"
     },
     "output_type": "display_data"
    },
    {
     "data": {
      "image/png": "[encoded data removed]",
      "text/plain": [
       "<Figure size 432x288 with 1 Axes>"
      ]
     },
     "metadata": {
      "needs_background": "light"
     },
     "output_type": "display_data"
    }
   ],
   "source": [
    "plot_loss_curves(history_4)"
   ]
  },
  {
   "cell_type": "code",
   "execution_count": 73,
   "metadata": {},
   "outputs": [
    {
     "data": {
      "text/plain": [
       "array([[1.3931692e-03],\n",
       "       [5.8133841e-01],\n",
       "       [9.9997574e-01],\n",
       "       [2.8942880e-01],\n",
       "       [8.9698287e-06],\n",
       "       [9.9984497e-01],\n",
       "       [1.4369118e-01],\n",
       "       [9.9999392e-01],\n",
       "       [9.9998188e-01],\n",
       "       [9.9909496e-01]], dtype=float32)"
      ]
     },
     "execution_count": 73,
     "metadata": {},
     "output_type": "execute_result"
    }
   ],
   "source": [
    "model_4_pred_prob = model_4.predict(val_data)\n",
    "model_4_pred_prob[:10]"
   ]
  },
  {
   "cell_type": "code",
   "execution_count": 74,
   "metadata": {},
   "outputs": [
    {
     "data": {
      "text/plain": [
       "<tf.Tensor: shape=(10,), dtype=float32, numpy=array([0., 1., 1., 0., 0., 1., 0., 1., 1., 1.], dtype=float32)>"
      ]
     },
     "execution_count": 74,
     "metadata": {},
     "output_type": "execute_result"
    }
   ],
   "source": [
    "model_4_pred = tf.squeeze(tf.round(model_4_pred_prob))\n",
    "model_4_pred[:10]"
   ]
  },
  {
   "cell_type": "code",
   "execution_count": 75,
   "metadata": {},
   "outputs": [
    {
     "name": "stdout",
     "output_type": "stream",
     "text": [
      "{'Accuracy': 0.7637795275590551, 'Precision': 0.7649838845988884, 'Recall': 0.7637795275590551, 'F1 Score': 0.761768588939328}\n"
     ]
    }
   ],
   "source": [
    "model_4_results = calculate_result(val_label , model_4_pred)\n",
    "print(model_4_results)"
   ]
  },
  {
   "cell_type": "code",
   "execution_count": 76,
   "metadata": {},
   "outputs": [
    {
     "name": "stdout",
     "output_type": "stream",
     "text": [
      "Baseline Accuracy : 0.79 , New Accuracy : 0.76 , Difference : -0.03\n",
      "Baseline Precision : 0.81 , New Precision : 0.76 , Difference : -0.05\n",
      "Baseline Recall : 0.79 , New Recall : 0.76 , Difference : -0.03\n",
      "Baseline F1 Score : 0.79 , New F1 Score : 0.76 , Difference : -0.02\n"
     ]
    }
   ],
   "source": [
    "comparator_function(baseline_results , model_4_results)"
   ]
  },
  {
   "cell_type": "markdown",
   "metadata": {},
   "source": [
    "## Model - 5 (Using CNN)"
   ]
  },
  {
   "cell_type": "code",
   "execution_count": 77,
   "metadata": {},
   "outputs": [
    {
     "name": "stdout",
     "output_type": "stream",
     "text": [
      "Model: \"Model_5_Cnv1D\"\n",
      "_________________________________________________________________\n",
      "Layer (type)                 Output Shape              Param #   \n",
      "=================================================================\n",
      "input_5 (InputLayer)         [(None, 1)]               0         \n",
      "_________________________________________________________________\n",
      "text_vectorization_1 (TextVe (None, 15)                0         \n",
      "_________________________________________________________________\n",
      "embedding (Embedding)        (None, 15, 128)           1280000   \n",
      "_________________________________________________________________\n",
      "conv1d (Conv1D)              (None, 11, 32)            20512     \n",
      "_________________________________________________________________\n",
      "global_max_pooling1d (Global (None, 32)                0         \n",
      "_________________________________________________________________\n",
      "dense_4 (Dense)              (None, 1)                 33        \n",
      "=================================================================\n",
      "Total params: 1,300,545\n",
      "Trainable params: 1,300,545\n",
      "Non-trainable params: 0\n",
      "_________________________________________________________________\n"
     ]
    }
   ],
   "source": [
    "inputs = tf.keras.layers.Input(shape = (1 , ) , dtype = 'string')\n",
    "x = text_vectorise(inputs)\n",
    "x = embedding(x)\n",
    "x = tf.keras.layers.Conv1D(filters = 32 , kernel_size = 5 , activation = 'relu')(x)\n",
    "x = tf.keras.layers.GlobalMaxPool1D()(x)\n",
    "outputs = tf.keras.layers.Dense(1 , activation = 'sigmoid')(x)\n",
    "model_5 = tf.keras.Model(inputs , outputs , name = 'Model_5_Cnv1D')\n",
    "\n",
    "model_5.compile(loss = 'binary_crossentropy' , optimizer = tf.keras.optimizers.Adam() , metrics = ['accuracy'])\n",
    "\n",
    "model_5.summary()"
   ]
  },
  {
   "cell_type": "code",
   "execution_count": 78,
   "metadata": {},
   "outputs": [
    {
     "name": "stdout",
     "output_type": "stream",
     "text": [
      "Saving TensorBoard log files to: NLP/Model_5_Conv1D/20210707-122404\n",
      "Epoch 1/5\n",
      "215/215 [==============================] - 12s 49ms/step - loss: 0.1365 - accuracy: 0.9585 - val_loss: 0.8511 - val_accuracy: 0.7743\n",
      "Epoch 2/5\n",
      "215/215 [==============================] - 5s 23ms/step - loss: 0.0756 - accuracy: 0.9723 - val_loss: 0.9954 - val_accuracy: 0.7638\n",
      "Epoch 3/5\n",
      "215/215 [==============================] - 6s 30ms/step - loss: 0.0605 - accuracy: 0.9759 - val_loss: 1.1308 - val_accuracy: 0.7559\n",
      "Epoch 4/5\n",
      "215/215 [==============================] - 5s 25ms/step - loss: 0.0557 - accuracy: 0.9769 - val_loss: 1.2031 - val_accuracy: 0.7585\n",
      "Epoch 5/5\n",
      "215/215 [==============================] - 5s 23ms/step - loss: 0.0503 - accuracy: 0.9793 - val_loss: 1.2021 - val_accuracy: 0.7533\n"
     ]
    }
   ],
   "source": [
    "history_5 = model_5.fit(train_data , train_label , epochs = 5 , validation_data = (val_data , val_label) , \n",
    "                       callbacks = [create_tensorboard_callback('NLP' , 'Model_5_Conv1D')])"
   ]
  },
  {
   "cell_type": "code",
   "execution_count": 79,
   "metadata": {},
   "outputs": [
    {
     "data": {
      "image/png": "[encoded data removed]",
      "text/plain": [
       "<Figure size 432x288 with 1 Axes>"
      ]
     },
     "metadata": {
      "needs_background": "light"
     },
     "output_type": "display_data"
    },
    {
     "data": {
      "image/png": "[encoded data removed]",
      "text/plain": [
       "<Figure size 432x288 with 1 Axes>"
      ]
     },
     "metadata": {
      "needs_background": "light"
     },
     "output_type": "display_data"
    }
   ],
   "source": [
    "plot_loss_curves(history_5)"
   ]
  },
  {
   "cell_type": "code",
   "execution_count": 80,
   "metadata": {},
   "outputs": [
    {
     "data": {
      "text/plain": [
       "array([[1.5232134e-01],\n",
       "       [7.5389886e-01],\n",
       "       [9.9982005e-01],\n",
       "       [7.0049524e-02],\n",
       "       [8.5470631e-08],\n",
       "       [9.9610251e-01],\n",
       "       [9.9051523e-01],\n",
       "       [9.9997294e-01],\n",
       "       [9.9999940e-01],\n",
       "       [9.3717408e-01]], dtype=float32)"
      ]
     },
     "execution_count": 80,
     "metadata": {},
     "output_type": "execute_result"
    }
   ],
   "source": [
    "model_5_pred_prob = model_5.predict(val_data)\n",
    "model_5_pred_prob[:10]"
   ]
  },
  {
   "cell_type": "code",
   "execution_count": 81,
   "metadata": {},
   "outputs": [
    {
     "data": {
      "text/plain": [
       "<tf.Tensor: shape=(10,), dtype=float32, numpy=array([0., 1., 1., 0., 0., 1., 1., 1., 1., 1.], dtype=float32)>"
      ]
     },
     "execution_count": 81,
     "metadata": {},
     "output_type": "execute_result"
    }
   ],
   "source": [
    "model_5_pred = tf.squeeze(tf.round(model_5_pred_prob))\n",
    "model_5_pred[:10]"
   ]
  },
  {
   "cell_type": "code",
   "execution_count": 82,
   "metadata": {},
   "outputs": [
    {
     "name": "stdout",
     "output_type": "stream",
     "text": [
      "{'Accuracy': 0.7532808398950132, 'Precision': 0.752883120923556, 'Recall': 0.7532808398950132, 'F1 Score': 0.7524471022550004}\n"
     ]
    }
   ],
   "source": [
    "model_5_results = calculate_result(val_label , model_5_pred)\n",
    "print(model_5_results)"
   ]
  },
  {
   "cell_type": "code",
   "execution_count": 83,
   "metadata": {},
   "outputs": [
    {
     "name": "stdout",
     "output_type": "stream",
     "text": [
      "Baseline Accuracy : 0.79 , New Accuracy : 0.75 , Difference : -0.04\n",
      "Baseline Precision : 0.81 , New Precision : 0.75 , Difference : -0.06\n",
      "Baseline Recall : 0.79 , New Recall : 0.75 , Difference : -0.04\n",
      "Baseline F1 Score : 0.79 , New F1 Score : 0.75 , Difference : -0.03\n"
     ]
    }
   ],
   "source": [
    "comparator_function(baseline_results , model_5_results)"
   ]
  },
  {
   "cell_type": "markdown",
   "metadata": {},
   "source": [
    "## Model - 6 (Using Pretrained Embedding)"
   ]
  },
  {
   "cell_type": "code",
   "execution_count": 84,
   "metadata": {},
   "outputs": [],
   "source": [
    "import tensorflow_hub as hub"
   ]
  },
  {
   "cell_type": "code",
   "execution_count": 85,
   "metadata": {},
   "outputs": [
    {
     "name": "stdout",
     "output_type": "stream",
     "text": [
      "tf.Tensor(\n",
      "[-0.0123927   0.03531608 -0.01099579  0.03277723 -0.00322147 -0.00548057\n",
      "  0.02194436  0.00097765 -0.06762277  0.02309461  0.04821928 -0.00733266\n",
      " -0.02917932 -0.05648516  0.00602341  0.01549809 -0.01048699 -0.02966837\n",
      " -0.00156175 -0.02509197  0.0314161   0.03668106  0.0108462  -0.01418025\n",
      "  0.00464824 -0.02344348 -0.00020681 -0.02815114  0.0449666   0.06649816\n",
      " -0.05020558  0.03961545  0.03515069  0.05097985 -0.00656219 -0.03058298\n",
      " -0.06412389 -0.01427408 -0.04210231 -0.01468411  0.01882669 -0.05180962\n",
      "  0.06604099  0.00261965  0.06654275 -0.01172857  0.04682045 -0.00521338\n",
      " -0.00678892 -0.00198042 -0.03923661 -0.01936459 -0.00104519 -0.05074507\n",
      " -0.00179133 -0.00167213 -0.0612305   0.08763769 -0.03494092 -0.01202764\n",
      "  0.01141352 -0.02393308 -0.06533754 -0.01329195  0.00926038  0.00476144\n",
      " -0.07817001 -0.0937283   0.0166667   0.04917971  0.06818111 -0.01122517\n",
      "  0.02474338 -0.00606533  0.03342634 -0.06347604 -0.01943606 -0.03990305\n",
      "  0.06308019  0.07469687  0.03577558  0.0317811   0.10109206  0.02712537\n",
      "  0.01065224 -0.03005385 -0.02739848  0.03803962 -0.10211092  0.04798407\n",
      "  0.140506   -0.00569815  0.0313709  -0.02318111 -0.03406788  0.02496728\n",
      "  0.05950157  0.06117766  0.00300868  0.00959338  0.01402168 -0.06403772\n",
      "  0.04375218 -0.01577166  0.07017001  0.11247009  0.00349567 -0.04203332\n",
      " -0.03012589  0.00429374 -0.0237264   0.01981684  0.02482213  0.03395529\n",
      "  0.02310314  0.0300833   0.06835382  0.04170384 -0.03606359 -0.04437403\n",
      "  0.02618291 -0.08834776 -0.04153578  0.01054145 -0.02571162 -0.01065697\n",
      "  0.00623831 -0.02930219 -0.04903686 -0.00673896  0.03122543  0.02897181\n",
      "  0.01978981 -0.04150206 -0.02690621  0.01866198  0.03120991 -0.01065506\n",
      " -0.04721187 -0.03965342 -0.09253062 -0.03814146 -0.1049274   0.06092494\n",
      " -0.0124523   0.01776632  0.07615869  0.00316157 -0.03485197 -0.03336053\n",
      " -0.03688717  0.05434978  0.07955466  0.1065297  -0.01722407 -0.03121562\n",
      "  0.014439    0.00599007  0.05459309 -0.02527077 -0.0747871  -0.04809939\n",
      " -0.02551294 -0.05463345  0.04960437  0.09007506  0.01758508  0.04926844\n",
      " -0.02491643  0.00226206 -0.00611301  0.00883477 -0.04441205 -0.05267724\n",
      " -0.05262573 -0.03344157 -0.0231889  -0.02166487  0.01918186  0.02970992\n",
      "  0.05302818 -0.01794486  0.04235691 -0.01625004 -0.05351722  0.02730323\n",
      " -0.0032064  -0.05960945 -0.0325677  -0.00542452  0.0995449   0.0035145\n",
      " -0.01680624 -0.05886927 -0.01827511  0.00503252 -0.01970838  0.01902267\n",
      "  0.02548977  0.00339971  0.06205884  0.05156615 -0.0739857  -0.1196727\n",
      "  0.06783051  0.02703374 -0.01113892 -0.01303328  0.07404907 -0.02898441\n",
      "  0.03887656  0.03603874 -0.0269607  -0.03913428  0.00127693 -0.0325383\n",
      "  0.04506811  0.00534669  0.06756023  0.00575089  0.03316029  0.05428163\n",
      " -0.01988877 -0.07391655 -0.03712756 -0.0736718   0.06832684  0.01287053\n",
      " -0.01118088 -0.02668341  0.00129821 -0.00474793 -0.02112928 -0.05988406\n",
      " -0.01344722 -0.07072876 -0.04501214  0.00645502 -0.00415277  0.05400709\n",
      "  0.06572659  0.06792742  0.00578996  0.10018744 -0.0040725  -0.04713741\n",
      "  0.01851424 -0.04207738  0.04513863  0.06526337  0.02453009  0.0790141\n",
      "  0.04713063 -0.01784299  0.10635182 -0.08827083 -0.05576175 -0.04759098\n",
      " -0.00593155 -0.01046817  0.06752706 -0.01699243  0.00436534 -0.02186231\n",
      "  0.02270301  0.00843297 -0.00424776 -0.02264128  0.05628004 -0.00775941\n",
      " -0.03568076 -0.07221924  0.00149981 -0.00044921 -0.14731373  0.05883126\n",
      " -0.01643152  0.00400169 -0.07799989  0.04730128  0.0301184   0.06175814\n",
      " -0.01680663 -0.08094056 -0.02204188 -0.10310565  0.11501042 -0.02990754\n",
      " -0.0074314   0.05272011  0.04239028 -0.02470049 -0.0860934   0.02605108\n",
      " -0.03011209 -0.04669083 -0.00353455  0.03986358 -0.02049471 -0.02483335\n",
      "  0.00067946 -0.00304881 -0.00064721  0.01854418 -0.02965177  0.07876418\n",
      " -0.06632785  0.04031792  0.09525897  0.04450371  0.02876951 -0.00492601\n",
      " -0.0329437  -0.01640559  0.0347077  -0.02961282  0.04711409  0.00027987\n",
      " -0.07947174 -0.05905758  0.01344806  0.08541299 -0.01455669 -0.03732063\n",
      "  0.03844964 -0.02235369  0.03529761  0.07498816 -0.08755055  0.01825916\n",
      " -0.04520645 -0.02669082 -0.0734308  -0.02924816  0.04463987  0.07255013\n",
      "  0.05237324 -0.00188749  0.02482298 -0.0430954  -0.00826485 -0.00209007\n",
      " -0.01656779  0.01155813  0.00460667  0.05526713 -0.01834299  0.01218006\n",
      "  0.00475156 -0.05742178  0.02136706 -0.0868132   0.02395337  0.0458865\n",
      "  0.06928464 -0.09260073 -0.1017833  -0.0249752  -0.0206544   0.0360787\n",
      "  0.03986052 -0.02626382 -0.00776198  0.07215051  0.05140953  0.0300967\n",
      "  0.00047458 -0.05226636 -0.01949122  0.07763398 -0.0362229  -0.02608445\n",
      "  0.03821104  0.02193462 -0.02407269  0.01355294 -0.00439975  0.03203329\n",
      " -0.05810692  0.02661963 -0.03680904 -0.0291551  -0.07519218  0.00727075\n",
      " -0.02984888 -0.00371723 -0.01502693 -0.00911743  0.08197448  0.02654908\n",
      " -0.085903    0.0159557   0.01794285  0.02823567 -0.04872641 -0.03793251\n",
      " -0.04246845  0.02413972 -0.03090691  0.00919988 -0.00337597  0.02230954\n",
      " -0.01542405 -0.00402713 -0.0418459   0.0016859   0.0174803  -0.01975394\n",
      " -0.02524798 -0.02115046  0.03412786 -0.0353969  -0.08428105 -0.0102005\n",
      " -0.02539854  0.02363551  0.00371026 -0.01200648 -0.02477875 -0.00884558\n",
      " -0.08404586 -0.04204969 -0.00782874  0.01663422  0.00371217 -0.02259282\n",
      " -0.00385153  0.0705598   0.02892606 -0.04575159 -0.06069116  0.05560647\n",
      "  0.04190709  0.00429621  0.03023358  0.02271781  0.04631463 -0.00719702\n",
      "  0.01359304 -0.05449018 -0.03298078 -0.04353112  0.03879839  0.07207061\n",
      " -0.00847566 -0.01545421  0.02687394  0.03118197 -0.03605372  0.0162796\n",
      "  0.0368441  -0.02183045 -0.02014648  0.02541564  0.01605003 -0.02920079\n",
      " -0.01305728  0.03819166  0.0410167   0.00258413  0.13352516  0.03141366\n",
      "  0.04529915  0.01702382  0.05544753  0.07334547  0.07200518 -0.01042183\n",
      " -0.05872842 -0.03082359  0.04780306  0.02372172 -0.02978129  0.00997161\n",
      " -0.07257816 -0.00246423 -0.02677705  0.01376766 -0.05383433  0.09746697\n",
      "  0.00247938 -0.00798614  0.05157466  0.02901008  0.03840505  0.11005522\n",
      "  0.01530185  0.02596618  0.03715082  0.02163237  0.04425923 -0.02390132\n",
      "  0.02420405  0.04733935  0.05045017  0.03215995 -0.03396934  0.01215855\n",
      " -0.03984645 -0.07356229 -0.00338596 -0.02787151 -0.04841728  0.04079231\n",
      " -0.00463115  0.00591398 -0.03248928  0.01199292 -0.04150629 -0.03512653\n",
      " -0.00190808 -0.03765129], shape=(512,), dtype=float32)\n"
     ]
    }
   ],
   "source": [
    "embed = hub.load(\"https://tfhub.dev/google/universal-sentence-encoder-large/5\")\n",
    "embed_samples = embed([\"When you call the universal sentence encoder on a sentence, it turns it into numbers.\"])\n",
    "\n",
    "# This embeded layer makes shape of input in (512 , )\n",
    "print(embed_samples[0])"
   ]
  },
  {
   "cell_type": "code",
   "execution_count": 86,
   "metadata": {},
   "outputs": [],
   "source": [
    "sentence_encoder = hub.KerasLayer(\"https://tfhub.dev/google/universal-sentence-encoder-large/5\" , \n",
    "                                 input_shape = [] , dtype = tf.string , trainable = False , name = 'USE')"
   ]
  },
  {
   "cell_type": "code",
   "execution_count": 87,
   "metadata": {},
   "outputs": [
    {
     "name": "stdout",
     "output_type": "stream",
     "text": [
      "Model: \"Model_6_USE\"\n",
      "_________________________________________________________________\n",
      "Layer (type)                 Output Shape              Param #   \n",
      "=================================================================\n",
      "USE (KerasLayer)             (None, 512)               147354880 \n",
      "_________________________________________________________________\n",
      "dense_5 (Dense)              (None, 64)                32832     \n",
      "_________________________________________________________________\n",
      "dense_6 (Dense)              (None, 1)                 65        \n",
      "=================================================================\n",
      "Total params: 147,387,777\n",
      "Trainable params: 32,897\n",
      "Non-trainable params: 147,354,880\n",
      "_________________________________________________________________\n"
     ]
    }
   ],
   "source": [
    "# USE is Using pretrained Sentence Encoder\n",
    "model_6 = tf.keras.Sequential([\n",
    "    sentence_encoder , \n",
    "    tf.keras.layers.Dense(64 , activation = 'relu') , \n",
    "    tf.keras.layers.Dense(1 , activation = 'sigmoid')\n",
    "] , name = 'Model_6_USE')\n",
    "\n",
    "model_6.compile(loss = 'binary_crossentropy' , optimizer = tf.keras.optimizers.Adam() , metrics = ['accuracy'])\n",
    "\n",
    "model_6.summary()"
   ]
  },
  {
   "cell_type": "code",
   "execution_count": 88,
   "metadata": {},
   "outputs": [
    {
     "name": "stdout",
     "output_type": "stream",
     "text": [
      "Saving TensorBoard log files to: NLP/Model_5_USE/20210707-122840\n",
      "Epoch 1/5\n",
      "215/215 [==============================] - 350s 1s/step - loss: 0.5043 - accuracy: 0.7859 - val_loss: 0.4266 - val_accuracy: 0.8215\n",
      "Epoch 2/5\n",
      "215/215 [==============================] - 110s 509ms/step - loss: 0.4002 - accuracy: 0.8270 - val_loss: 0.4179 - val_accuracy: 0.8176\n",
      "Epoch 3/5\n",
      "215/215 [==============================] - 106s 494ms/step - loss: 0.3827 - accuracy: 0.8343 - val_loss: 0.4152 - val_accuracy: 0.8097\n",
      "Epoch 4/5\n",
      "215/215 [==============================] - 108s 501ms/step - loss: 0.3729 - accuracy: 0.8364 - val_loss: 0.4149 - val_accuracy: 0.8176\n",
      "Epoch 5/5\n",
      "215/215 [==============================] - 107s 496ms/step - loss: 0.3642 - accuracy: 0.8421 - val_loss: 0.4160 - val_accuracy: 0.8202\n"
     ]
    }
   ],
   "source": [
    "history_6 = model_6.fit(train_data , train_label , epochs = 5 , validation_data = (val_data , val_label) , \n",
    "                       callbacks = [create_tensorboard_callback('NLP' , 'Model_5_USE')])"
   ]
  },
  {
   "cell_type": "code",
   "execution_count": 89,
   "metadata": {},
   "outputs": [
    {
     "data": {
      "image/png": "[encoded data removed]",
      "text/plain": [
       "<Figure size 432x288 with 1 Axes>"
      ]
     },
     "metadata": {
      "needs_background": "light"
     },
     "output_type": "display_data"
    },
    {
     "data": {
      "image/png": "[encoded data removed]",
      "text/plain": [
       "<Figure size 432x288 with 1 Axes>"
      ]
     },
     "metadata": {
      "needs_background": "light"
     },
     "output_type": "display_data"
    }
   ],
   "source": [
    "plot_loss_curves(history_6)"
   ]
  },
  {
   "cell_type": "code",
   "execution_count": 90,
   "metadata": {},
   "outputs": [
    {
     "data": {
      "text/plain": [
       "array([[0.26349106],\n",
       "       [0.7396594 ],\n",
       "       [0.9934038 ],\n",
       "       [0.14166772],\n",
       "       [0.7150407 ],\n",
       "       [0.73446494],\n",
       "       [0.9912586 ],\n",
       "       [0.97216344],\n",
       "       [0.98238313],\n",
       "       [0.14294809]], dtype=float32)"
      ]
     },
     "execution_count": 90,
     "metadata": {},
     "output_type": "execute_result"
    }
   ],
   "source": [
    "model_6_pred_prob = model_6.predict(val_data)\n",
    "model_6_pred_prob[:10]"
   ]
  },
  {
   "cell_type": "code",
   "execution_count": 91,
   "metadata": {},
   "outputs": [
    {
     "data": {
      "text/plain": [
       "<tf.Tensor: shape=(10,), dtype=float32, numpy=array([0., 1., 1., 0., 1., 1., 1., 1., 1., 0.], dtype=float32)>"
      ]
     },
     "execution_count": 91,
     "metadata": {},
     "output_type": "execute_result"
    }
   ],
   "source": [
    "model_6_pred = tf.squeeze(tf.round(model_6_pred_prob))\n",
    "model_6_pred[:10]"
   ]
  },
  {
   "cell_type": "code",
   "execution_count": 92,
   "metadata": {},
   "outputs": [
    {
     "name": "stdout",
     "output_type": "stream",
     "text": [
      "{'Accuracy': 0.8202099737532809, 'Precision': 0.8215235049766086, 'Recall': 0.8202099737532809, 'F1 Score': 0.8190958260772078}\n"
     ]
    }
   ],
   "source": [
    "model_6_results = calculate_result(val_label , model_6_pred)\n",
    "print(model_6_results)"
   ]
  },
  {
   "cell_type": "code",
   "execution_count": 93,
   "metadata": {},
   "outputs": [
    {
     "name": "stdout",
     "output_type": "stream",
     "text": [
      "Baseline Accuracy : 0.79 , New Accuracy : 0.82 , Difference : 0.03\n",
      "Baseline Precision : 0.81 , New Precision : 0.82 , Difference : 0.01\n",
      "Baseline Recall : 0.79 , New Recall : 0.82 , Difference : 0.03\n",
      "Baseline F1 Score : 0.79 , New F1 Score : 0.82 , Difference : 0.03\n"
     ]
    }
   ],
   "source": [
    "comparator_function(baseline_results , model_6_results)"
   ]
  },
  {
   "cell_type": "markdown",
   "metadata": {},
   "source": [
    "## Model - 7 (On 10% of data)"
   ]
  },
  {
   "cell_type": "code",
   "execution_count": 94,
   "metadata": {},
   "outputs": [],
   "source": [
    "train_data_90_precent , train_data_10_percent , train_label_90_percent , train_label_10_percent = train_test_split(np.array(train_data) , \n",
    "                                                                                                                 train_label , \n",
    "                                                                                                                 test_size = 0.1 , \n",
    "                                                                                                                 random_state = 42)"
   ]
  },
  {
   "cell_type": "code",
   "execution_count": 95,
   "metadata": {},
   "outputs": [
    {
     "name": "stdout",
     "output_type": "stream",
     "text": [
      "Total Train Data : 6851\n",
      "10% Train Data : 686\n"
     ]
    }
   ],
   "source": [
    "print(f'Total Train Data : {len(train_data)}')\n",
    "print(f'10% Train Data : {len(train_data_10_percent)}')"
   ]
  },
  {
   "cell_type": "code",
   "execution_count": 96,
   "metadata": {},
   "outputs": [
    {
     "data": {
      "text/plain": [
       "0    415\n",
       "1    271\n",
       "dtype: int64"
      ]
     },
     "execution_count": 96,
     "metadata": {},
     "output_type": "execute_result"
    }
   ],
   "source": [
    "pd.Series(train_label_10_percent).value_counts()"
   ]
  },
  {
   "cell_type": "code",
   "execution_count": 97,
   "metadata": {},
   "outputs": [
    {
     "name": "stdout",
     "output_type": "stream",
     "text": [
      "Model: \"Model_6_USE\"\n",
      "_________________________________________________________________\n",
      "Layer (type)                 Output Shape              Param #   \n",
      "=================================================================\n",
      "USE (KerasLayer)             (None, 512)               147354880 \n",
      "_________________________________________________________________\n",
      "dense_5 (Dense)              (None, 64)                32832     \n",
      "_________________________________________________________________\n",
      "dense_6 (Dense)              (None, 1)                 65        \n",
      "=================================================================\n",
      "Total params: 147,387,777\n",
      "Trainable params: 32,897\n",
      "Non-trainable params: 147,354,880\n",
      "_________________________________________________________________\n"
     ]
    }
   ],
   "source": [
    "model_7 = tf.keras.models.clone_model(model_6)\n",
    "\n",
    "model_7.compile(loss = 'binary_crossentropy' , optimizer = tf.keras.optimizers.Adam() , metrics = ['accuracy'])\n",
    "\n",
    "model_7.summary()"
   ]
  },
  {
   "cell_type": "code",
   "execution_count": 98,
   "metadata": {},
   "outputs": [
    {
     "name": "stdout",
     "output_type": "stream",
     "text": [
      "Saving TensorBoard log files to: NLP/Model_7_10%_data/20210707-124336\n",
      "Epoch 1/5\n",
      "22/22 [==============================] - 264s 10s/step - loss: 0.6703 - accuracy: 0.7143 - val_loss: 0.6440 - val_accuracy: 0.7493\n",
      "Epoch 2/5\n",
      "22/22 [==============================] - 29s 1s/step - loss: 0.5976 - accuracy: 0.8338 - val_loss: 0.5843 - val_accuracy: 0.7822\n",
      "Epoch 3/5\n",
      "22/22 [==============================] - 30s 1s/step - loss: 0.5209 - accuracy: 0.8469 - val_loss: 0.5259 - val_accuracy: 0.7861\n",
      "Epoch 4/5\n",
      "22/22 [==============================] - 29s 1s/step - loss: 0.4526 - accuracy: 0.8542 - val_loss: 0.4834 - val_accuracy: 0.7966\n",
      "Epoch 5/5\n",
      "22/22 [==============================] - 29s 1s/step - loss: 0.4043 - accuracy: 0.8644 - val_loss: 0.4631 - val_accuracy: 0.8045\n"
     ]
    }
   ],
   "source": [
    "history_7 = model_7.fit(train_data_10_percent , train_label_10_percent , epochs = 5 , validation_data = (val_data , val_label) ,\n",
    "                       callbacks = [create_tensorboard_callback('NLP' , 'Model_7_10%_data')])"
   ]
  },
  {
   "cell_type": "code",
   "execution_count": 99,
   "metadata": {},
   "outputs": [
    {
     "data": {
      "image/png": "[encoded data removed]",
      "text/plain": [
       "<Figure size 432x288 with 1 Axes>"
      ]
     },
     "metadata": {
      "needs_background": "light"
     },
     "output_type": "display_data"
    },
    {
     "data": {
      "image/png": "[encoded data removed]",
      "text/plain": [
       "<Figure size 432x288 with 1 Axes>"
      ]
     },
     "metadata": {
      "needs_background": "light"
     },
     "output_type": "display_data"
    }
   ],
   "source": [
    "plot_loss_curves(history_7)"
   ]
  },
  {
   "cell_type": "code",
   "execution_count": 100,
   "metadata": {},
   "outputs": [
    {
     "data": {
      "text/plain": [
       "array([[0.18344316],\n",
       "       [0.6125131 ],\n",
       "       [0.8902035 ],\n",
       "       [0.20702541],\n",
       "       [0.53495395],\n",
       "       [0.7817645 ],\n",
       "       [0.87579834],\n",
       "       [0.75686944],\n",
       "       [0.89692676],\n",
       "       [0.23162362]], dtype=float32)"
      ]
     },
     "execution_count": 100,
     "metadata": {},
     "output_type": "execute_result"
    }
   ],
   "source": [
    "model_7_pred_prob = model_7.predict(val_data)\n",
    "model_7_pred_prob[:10]"
   ]
  },
  {
   "cell_type": "code",
   "execution_count": 101,
   "metadata": {},
   "outputs": [
    {
     "data": {
      "text/plain": [
       "<tf.Tensor: shape=(10,), dtype=float32, numpy=array([0., 1., 1., 0., 1., 1., 1., 1., 1., 0.], dtype=float32)>"
      ]
     },
     "execution_count": 101,
     "metadata": {},
     "output_type": "execute_result"
    }
   ],
   "source": [
    "model_7_pred = tf.squeeze(tf.round(model_7_pred_prob))\n",
    "model_7_pred[:10]"
   ]
  },
  {
   "cell_type": "code",
   "execution_count": 102,
   "metadata": {},
   "outputs": [
    {
     "name": "stdout",
     "output_type": "stream",
     "text": [
      "{'Accuracy': 0.8044619422572179, 'Precision': 0.8103605470368835, 'Recall': 0.8044619422572179, 'F1 Score': 0.8016443370400904}\n"
     ]
    }
   ],
   "source": [
    "model_7_results = calculate_result(val_label , model_7_pred)\n",
    "print(model_7_results)"
   ]
  },
  {
   "cell_type": "code",
   "execution_count": 103,
   "metadata": {},
   "outputs": [
    {
     "name": "stdout",
     "output_type": "stream",
     "text": [
      "Baseline Accuracy : 0.79 , New Accuracy : 0.80 , Difference : 0.01\n",
      "Baseline Precision : 0.81 , New Precision : 0.81 , Difference : -0.00\n",
      "Baseline Recall : 0.79 , New Recall : 0.80 , Difference : 0.01\n",
      "Baseline F1 Score : 0.79 , New F1 Score : 0.80 , Difference : 0.02\n"
     ]
    }
   ],
   "source": [
    "comparator_function(baseline_results , model_7_results)"
   ]
  },
  {
   "cell_type": "code",
   "execution_count": null,
   "metadata": {},
   "outputs": [],
   "source": []
  },
  {
   "cell_type": "markdown",
   "metadata": {},
   "source": [
    "## All model results"
   ]
  },
  {
   "cell_type": "code",
   "execution_count": 104,
   "metadata": {},
   "outputs": [
    {
     "data": {
      "text/html": [
       "<div>\n",
       "<style scoped>\n",
       "    .dataframe tbody tr th:only-of-type {\n",
       "        vertical-align: middle;\n",
       "    }\n",
       "\n",
       "    .dataframe tbody tr th {\n",
       "        vertical-align: top;\n",
       "    }\n",
       "\n",
       "    .dataframe thead th {\n",
       "        text-align: right;\n",
       "    }\n",
       "</style>\n",
       "<table border=\"1\" class=\"dataframe\">\n",
       "  <thead>\n",
       "    <tr style=\"text-align: right;\">\n",
       "      <th></th>\n",
       "      <th>Accuracy</th>\n",
       "      <th>Precision</th>\n",
       "      <th>Recall</th>\n",
       "      <th>F1 Score</th>\n",
       "    </tr>\n",
       "  </thead>\n",
       "  <tbody>\n",
       "    <tr>\n",
       "      <th>baseline</th>\n",
       "      <td>0.792651</td>\n",
       "      <td>0.811139</td>\n",
       "      <td>0.792651</td>\n",
       "      <td>0.786219</td>\n",
       "    </tr>\n",
       "    <tr>\n",
       "      <th>simple_dense</th>\n",
       "      <td>0.790026</td>\n",
       "      <td>0.798644</td>\n",
       "      <td>0.790026</td>\n",
       "      <td>0.785983</td>\n",
       "    </tr>\n",
       "    <tr>\n",
       "      <th>lstm</th>\n",
       "      <td>0.770341</td>\n",
       "      <td>0.770981</td>\n",
       "      <td>0.770341</td>\n",
       "      <td>0.768806</td>\n",
       "    </tr>\n",
       "    <tr>\n",
       "      <th>gru</th>\n",
       "      <td>0.763780</td>\n",
       "      <td>0.763926</td>\n",
       "      <td>0.763780</td>\n",
       "      <td>0.762482</td>\n",
       "    </tr>\n",
       "    <tr>\n",
       "      <th>bidirectional</th>\n",
       "      <td>0.763780</td>\n",
       "      <td>0.764984</td>\n",
       "      <td>0.763780</td>\n",
       "      <td>0.761769</td>\n",
       "    </tr>\n",
       "    <tr>\n",
       "      <th>conv1d</th>\n",
       "      <td>0.753281</td>\n",
       "      <td>0.752883</td>\n",
       "      <td>0.753281</td>\n",
       "      <td>0.752447</td>\n",
       "    </tr>\n",
       "    <tr>\n",
       "      <th>tf_hub_sentence_encoder</th>\n",
       "      <td>0.820210</td>\n",
       "      <td>0.821524</td>\n",
       "      <td>0.820210</td>\n",
       "      <td>0.819096</td>\n",
       "    </tr>\n",
       "    <tr>\n",
       "      <th>tf_hub_10_percent_data</th>\n",
       "      <td>0.804462</td>\n",
       "      <td>0.810361</td>\n",
       "      <td>0.804462</td>\n",
       "      <td>0.801644</td>\n",
       "    </tr>\n",
       "  </tbody>\n",
       "</table>\n",
       "</div>"
      ],
      "text/plain": [
       "                         Accuracy  Precision    Recall  F1 Score\n",
       "baseline                 0.792651   0.811139  0.792651  0.786219\n",
       "simple_dense             0.790026   0.798644  0.790026  0.785983\n",
       "lstm                     0.770341   0.770981  0.770341  0.768806\n",
       "gru                      0.763780   0.763926  0.763780  0.762482\n",
       "bidirectional            0.763780   0.764984  0.763780  0.761769\n",
       "conv1d                   0.753281   0.752883  0.753281  0.752447\n",
       "tf_hub_sentence_encoder  0.820210   0.821524  0.820210  0.819096\n",
       "tf_hub_10_percent_data   0.804462   0.810361  0.804462  0.801644"
      ]
     },
     "execution_count": 104,
     "metadata": {},
     "output_type": "execute_result"
    }
   ],
   "source": [
    "all_model_results = pd.DataFrame({\"baseline\": baseline_results,\n",
    "                                  \"simple_dense\": model_1_results,\n",
    "                                  \"lstm\": model_2_results,\n",
    "                                  \"gru\": model_3_results,\n",
    "                                  \"bidirectional\": model_4_results,\n",
    "                                  \"conv1d\": model_5_results,\n",
    "                                  \"tf_hub_sentence_encoder\": model_6_results,\n",
    "                                  \"tf_hub_10_percent_data\": model_7_results})\n",
    "all_model_results = all_model_results.transpose()\n",
    "all_model_results"
   ]
  },
  {
   "cell_type": "code",
   "execution_count": 105,
   "metadata": {},
   "outputs": [
    {
     "data": {
      "image/png": "[encoded data removed]",
      "text/plain": [
       "<Figure size 720x504 with 1 Axes>"
      ]
     },
     "metadata": {
      "needs_background": "light"
     },
     "output_type": "display_data"
    }
   ],
   "source": [
    "all_model_results.plot(kind=\"bar\", figsize=(10, 7)).legend(bbox_to_anchor=(1.0, 1.0));"
   ]
  },
  {
   "cell_type": "code",
   "execution_count": 106,
   "metadata": {},
   "outputs": [
    {
     "data": {
      "image/png": "[encoded data removed]",
      "text/plain": [
       "<Figure size 720x504 with 1 Axes>"
      ]
     },
     "metadata": {
      "needs_background": "light"
     },
     "output_type": "display_data"
    }
   ],
   "source": [
    "# Sort model results by f1-score\n",
    "all_model_results.sort_values(\"F1 Score\", ascending=False)[\"F1 Score\"].plot(kind=\"bar\", figsize=(10, 7));"
   ]
  },
  {
   "cell_type": "markdown",
   "metadata": {},
   "source": [
    "## Combining Model(Model Ensembling/stacking)"
   ]
  },
  {
   "cell_type": "code",
   "execution_count": 107,
   "metadata": {},
   "outputs": [],
   "source": [
    "baseline_preds = np.max(model_0.predict_proba(val_data) , axis = 1)\n",
    "combined_pred_probs = baseline_preds + tf.squeeze(model_2_pred_prob) + tf.squeeze(model_6_pred_prob)"
   ]
  },
  {
   "cell_type": "code",
   "execution_count": 108,
   "metadata": {},
   "outputs": [
    {
     "name": "stdout",
     "output_type": "stream",
     "text": [
      "tf.Tensor(\n",
      "[0.9158778  2.279015   2.8595781  0.95817053 1.3473759  2.554807\n",
      " 2.3580441  2.8753586  2.713324   1.3735104 ], shape=(10,), dtype=float32)\n"
     ]
    }
   ],
   "source": [
    "print(combined_pred_probs[:10])"
   ]
  },
  {
   "cell_type": "code",
   "execution_count": 112,
   "metadata": {},
   "outputs": [
    {
     "name": "stdout",
     "output_type": "stream",
     "text": [
      "tf.Tensor([0. 1. 1. 0. 0. 1. 1. 1. 1. 0. 0. 1. 0. 1. 0. 0. 0. 0. 0. 1.], shape=(20,), dtype=float32)\n"
     ]
    }
   ],
   "source": [
    "combined_preds = tf.round(combined_pred_probs/3)\n",
    "print(combined_preds[:20])"
   ]
  },
  {
   "cell_type": "code",
   "execution_count": 113,
   "metadata": {},
   "outputs": [
    {
     "name": "stdout",
     "output_type": "stream",
     "text": [
      "{'Accuracy': 0.7939632545931758, 'Precision': 0.7939180808190444, 'Recall': 0.7939632545931758, 'F1 Score': 0.7939392949608854}\n"
     ]
    }
   ],
   "source": [
    "ensemble_results = calculate_result(val_label , combined_preds)\n",
    "print(ensemble_results)"
   ]
  },
  {
   "cell_type": "code",
   "execution_count": 114,
   "metadata": {},
   "outputs": [
    {
     "name": "stdout",
     "output_type": "stream",
     "text": [
      "Baseline Accuracy : 0.79 , New Accuracy : 0.79 , Difference : 0.00\n",
      "Baseline Precision : 0.81 , New Precision : 0.79 , Difference : -0.02\n",
      "Baseline Recall : 0.79 , New Recall : 0.79 , Difference : 0.00\n",
      "Baseline F1 Score : 0.79 , New F1 Score : 0.79 , Difference : 0.01\n"
     ]
    }
   ],
   "source": [
    "comparator_function(baseline_results , ensemble_results)"
   ]
  },
  {
   "cell_type": "code",
   "execution_count": 115,
   "metadata": {},
   "outputs": [],
   "source": [
    "# Add model result to all model results\n",
    "all_model_results.loc['ensemble_results'] = ensemble_results"
   ]
  },
  {
   "cell_type": "code",
   "execution_count": 116,
   "metadata": {},
   "outputs": [
    {
     "data": {
      "text/html": [
       "<div>\n",
       "<style scoped>\n",
       "    .dataframe tbody tr th:only-of-type {\n",
       "        vertical-align: middle;\n",
       "    }\n",
       "\n",
       "    .dataframe tbody tr th {\n",
       "        vertical-align: top;\n",
       "    }\n",
       "\n",
       "    .dataframe thead th {\n",
       "        text-align: right;\n",
       "    }\n",
       "</style>\n",
       "<table border=\"1\" class=\"dataframe\">\n",
       "  <thead>\n",
       "    <tr style=\"text-align: right;\">\n",
       "      <th></th>\n",
       "      <th>Accuracy</th>\n",
       "      <th>Precision</th>\n",
       "      <th>Recall</th>\n",
       "      <th>F1 Score</th>\n",
       "    </tr>\n",
       "  </thead>\n",
       "  <tbody>\n",
       "    <tr>\n",
       "      <th>baseline</th>\n",
       "      <td>0.792651</td>\n",
       "      <td>0.811139</td>\n",
       "      <td>0.792651</td>\n",
       "      <td>0.786219</td>\n",
       "    </tr>\n",
       "    <tr>\n",
       "      <th>simple_dense</th>\n",
       "      <td>0.790026</td>\n",
       "      <td>0.798644</td>\n",
       "      <td>0.790026</td>\n",
       "      <td>0.785983</td>\n",
       "    </tr>\n",
       "    <tr>\n",
       "      <th>lstm</th>\n",
       "      <td>0.770341</td>\n",
       "      <td>0.770981</td>\n",
       "      <td>0.770341</td>\n",
       "      <td>0.768806</td>\n",
       "    </tr>\n",
       "    <tr>\n",
       "      <th>gru</th>\n",
       "      <td>0.763780</td>\n",
       "      <td>0.763926</td>\n",
       "      <td>0.763780</td>\n",
       "      <td>0.762482</td>\n",
       "    </tr>\n",
       "    <tr>\n",
       "      <th>bidirectional</th>\n",
       "      <td>0.763780</td>\n",
       "      <td>0.764984</td>\n",
       "      <td>0.763780</td>\n",
       "      <td>0.761769</td>\n",
       "    </tr>\n",
       "    <tr>\n",
       "      <th>conv1d</th>\n",
       "      <td>0.753281</td>\n",
       "      <td>0.752883</td>\n",
       "      <td>0.753281</td>\n",
       "      <td>0.752447</td>\n",
       "    </tr>\n",
       "    <tr>\n",
       "      <th>tf_hub_sentence_encoder</th>\n",
       "      <td>0.820210</td>\n",
       "      <td>0.821524</td>\n",
       "      <td>0.820210</td>\n",
       "      <td>0.819096</td>\n",
       "    </tr>\n",
       "    <tr>\n",
       "      <th>tf_hub_10_percent_data</th>\n",
       "      <td>0.804462</td>\n",
       "      <td>0.810361</td>\n",
       "      <td>0.804462</td>\n",
       "      <td>0.801644</td>\n",
       "    </tr>\n",
       "    <tr>\n",
       "      <th>ensemble_results</th>\n",
       "      <td>0.793963</td>\n",
       "      <td>0.793918</td>\n",
       "      <td>0.793963</td>\n",
       "      <td>0.793939</td>\n",
       "    </tr>\n",
       "  </tbody>\n",
       "</table>\n",
       "</div>"
      ],
      "text/plain": [
       "                         Accuracy  Precision    Recall  F1 Score\n",
       "baseline                 0.792651   0.811139  0.792651  0.786219\n",
       "simple_dense             0.790026   0.798644  0.790026  0.785983\n",
       "lstm                     0.770341   0.770981  0.770341  0.768806\n",
       "gru                      0.763780   0.763926  0.763780  0.762482\n",
       "bidirectional            0.763780   0.764984  0.763780  0.761769\n",
       "conv1d                   0.753281   0.752883  0.753281  0.752447\n",
       "tf_hub_sentence_encoder  0.820210   0.821524  0.820210  0.819096\n",
       "tf_hub_10_percent_data   0.804462   0.810361  0.804462  0.801644\n",
       "ensemble_results         0.793963   0.793918  0.793963  0.793939"
      ]
     },
     "execution_count": 116,
     "metadata": {},
     "output_type": "execute_result"
    }
   ],
   "source": [
    "all_model_results"
   ]
  },
  {
   "cell_type": "markdown",
   "metadata": {},
   "source": [
    "## Most wrong Prediction"
   ]
  },
  {
   "cell_type": "code",
   "execution_count": 117,
   "metadata": {},
   "outputs": [
    {
     "data": {
      "text/html": [
       "<div>\n",
       "<style scoped>\n",
       "    .dataframe tbody tr th:only-of-type {\n",
       "        vertical-align: middle;\n",
       "    }\n",
       "\n",
       "    .dataframe tbody tr th {\n",
       "        vertical-align: top;\n",
       "    }\n",
       "\n",
       "    .dataframe thead th {\n",
       "        text-align: right;\n",
       "    }\n",
       "</style>\n",
       "<table border=\"1\" class=\"dataframe\">\n",
       "  <thead>\n",
       "    <tr style=\"text-align: right;\">\n",
       "      <th></th>\n",
       "      <th>text</th>\n",
       "      <th>target</th>\n",
       "      <th>pred</th>\n",
       "      <th>pred_prob</th>\n",
       "    </tr>\n",
       "  </thead>\n",
       "  <tbody>\n",
       "    <tr>\n",
       "      <th>0</th>\n",
       "      <td>DFR EP016 Monthly Meltdown - On Dnbheaven 2015...</td>\n",
       "      <td>0</td>\n",
       "      <td>0.0</td>\n",
       "      <td>0.263491</td>\n",
       "    </tr>\n",
       "    <tr>\n",
       "      <th>1</th>\n",
       "      <td>FedEx no longer to transport bioterror germs i...</td>\n",
       "      <td>0</td>\n",
       "      <td>1.0</td>\n",
       "      <td>0.739659</td>\n",
       "    </tr>\n",
       "    <tr>\n",
       "      <th>2</th>\n",
       "      <td>Gunmen kill four in El Salvador bus attack: Su...</td>\n",
       "      <td>1</td>\n",
       "      <td>1.0</td>\n",
       "      <td>0.993404</td>\n",
       "    </tr>\n",
       "    <tr>\n",
       "      <th>3</th>\n",
       "      <td>@camilacabello97 Internally and externally scr...</td>\n",
       "      <td>1</td>\n",
       "      <td>0.0</td>\n",
       "      <td>0.141668</td>\n",
       "    </tr>\n",
       "    <tr>\n",
       "      <th>4</th>\n",
       "      <td>Radiation emergency #preparedness starts with ...</td>\n",
       "      <td>1</td>\n",
       "      <td>1.0</td>\n",
       "      <td>0.715041</td>\n",
       "    </tr>\n",
       "  </tbody>\n",
       "</table>\n",
       "</div>"
      ],
      "text/plain": [
       "                                                text  target  pred  pred_prob\n",
       "0  DFR EP016 Monthly Meltdown - On Dnbheaven 2015...       0   0.0   0.263491\n",
       "1  FedEx no longer to transport bioterror germs i...       0   1.0   0.739659\n",
       "2  Gunmen kill four in El Salvador bus attack: Su...       1   1.0   0.993404\n",
       "3  @camilacabello97 Internally and externally scr...       1   0.0   0.141668\n",
       "4  Radiation emergency #preparedness starts with ...       1   1.0   0.715041"
      ]
     },
     "execution_count": 117,
     "metadata": {},
     "output_type": "execute_result"
    }
   ],
   "source": [
    "val_df = pd.DataFrame({'text' : val_data , 'target' : val_label , \n",
    "                       'pred' : model_6_pred , 'pred_prob' : tf.squeeze(model_6_pred_prob)})\n",
    "val_df.head()"
   ]
  },
  {
   "cell_type": "code",
   "execution_count": 118,
   "metadata": {},
   "outputs": [
    {
     "data": {
      "text/html": [
       "<div>\n",
       "<style scoped>\n",
       "    .dataframe tbody tr th:only-of-type {\n",
       "        vertical-align: middle;\n",
       "    }\n",
       "\n",
       "    .dataframe tbody tr th {\n",
       "        vertical-align: top;\n",
       "    }\n",
       "\n",
       "    .dataframe thead th {\n",
       "        text-align: right;\n",
       "    }\n",
       "</style>\n",
       "<table border=\"1\" class=\"dataframe\">\n",
       "  <thead>\n",
       "    <tr style=\"text-align: right;\">\n",
       "      <th></th>\n",
       "      <th>text</th>\n",
       "      <th>target</th>\n",
       "      <th>pred</th>\n",
       "      <th>pred_prob</th>\n",
       "    </tr>\n",
       "  </thead>\n",
       "  <tbody>\n",
       "    <tr>\n",
       "      <th>31</th>\n",
       "      <td>? High Skies - Burning Buildings ? http://t.co...</td>\n",
       "      <td>0</td>\n",
       "      <td>1.0</td>\n",
       "      <td>0.942066</td>\n",
       "    </tr>\n",
       "    <tr>\n",
       "      <th>619</th>\n",
       "      <td>Emergency Response and Hazardous Chemical Mana...</td>\n",
       "      <td>0</td>\n",
       "      <td>1.0</td>\n",
       "      <td>0.933560</td>\n",
       "    </tr>\n",
       "    <tr>\n",
       "      <th>49</th>\n",
       "      <td>@madonnamking RSPCA site multiple 7 story high...</td>\n",
       "      <td>0</td>\n",
       "      <td>1.0</td>\n",
       "      <td>0.908095</td>\n",
       "    </tr>\n",
       "    <tr>\n",
       "      <th>303</th>\n",
       "      <td>Trafford Centre film fans angry after Odeon ci...</td>\n",
       "      <td>0</td>\n",
       "      <td>1.0</td>\n",
       "      <td>0.890591</td>\n",
       "    </tr>\n",
       "    <tr>\n",
       "      <th>11</th>\n",
       "      <td>The Five Fatal Flaws in the Iran Deal https://...</td>\n",
       "      <td>0</td>\n",
       "      <td>1.0</td>\n",
       "      <td>0.880511</td>\n",
       "    </tr>\n",
       "    <tr>\n",
       "      <th>344</th>\n",
       "      <td>Air Group is here to the rescue! We have 24/7 ...</td>\n",
       "      <td>0</td>\n",
       "      <td>1.0</td>\n",
       "      <td>0.864481</td>\n",
       "    </tr>\n",
       "    <tr>\n",
       "      <th>317</th>\n",
       "      <td>Photo: postapocalypticflimflam: Prodding aroun...</td>\n",
       "      <td>0</td>\n",
       "      <td>1.0</td>\n",
       "      <td>0.832617</td>\n",
       "    </tr>\n",
       "    <tr>\n",
       "      <th>718</th>\n",
       "      <td>Haley Lu Richardson Fights for Water in The La...</td>\n",
       "      <td>0</td>\n",
       "      <td>1.0</td>\n",
       "      <td>0.824460</td>\n",
       "    </tr>\n",
       "    <tr>\n",
       "      <th>759</th>\n",
       "      <td>FedEx will no longer transport bioterror patho...</td>\n",
       "      <td>0</td>\n",
       "      <td>1.0</td>\n",
       "      <td>0.803175</td>\n",
       "    </tr>\n",
       "    <tr>\n",
       "      <th>209</th>\n",
       "      <td>Ashes 2015: AustraliaÛªs collapse at Trent Br...</td>\n",
       "      <td>0</td>\n",
       "      <td>1.0</td>\n",
       "      <td>0.789169</td>\n",
       "    </tr>\n",
       "  </tbody>\n",
       "</table>\n",
       "</div>"
      ],
      "text/plain": [
       "                                                  text  target  pred  \\\n",
       "31   ? High Skies - Burning Buildings ? http://t.co...       0   1.0   \n",
       "619  Emergency Response and Hazardous Chemical Mana...       0   1.0   \n",
       "49   @madonnamking RSPCA site multiple 7 story high...       0   1.0   \n",
       "303  Trafford Centre film fans angry after Odeon ci...       0   1.0   \n",
       "11   The Five Fatal Flaws in the Iran Deal https://...       0   1.0   \n",
       "344  Air Group is here to the rescue! We have 24/7 ...       0   1.0   \n",
       "317  Photo: postapocalypticflimflam: Prodding aroun...       0   1.0   \n",
       "718  Haley Lu Richardson Fights for Water in The La...       0   1.0   \n",
       "759  FedEx will no longer transport bioterror patho...       0   1.0   \n",
       "209  Ashes 2015: AustraliaÛªs collapse at Trent Br...       0   1.0   \n",
       "\n",
       "     pred_prob  \n",
       "31    0.942066  \n",
       "619   0.933560  \n",
       "49    0.908095  \n",
       "303   0.890591  \n",
       "11    0.880511  \n",
       "344   0.864481  \n",
       "317   0.832617  \n",
       "718   0.824460  \n",
       "759   0.803175  \n",
       "209   0.789169  "
      ]
     },
     "execution_count": 118,
     "metadata": {},
     "output_type": "execute_result"
    }
   ],
   "source": [
    "most_wrong = val_df[ val_df['target'] != val_df['pred']].sort_values('pred_prob' , ascending = False)\n",
    "most_wrong[:10]"
   ]
  },
  {
   "cell_type": "code",
   "execution_count": 119,
   "metadata": {},
   "outputs": [
    {
     "name": "stdout",
     "output_type": "stream",
     "text": [
      "137 762\n"
     ]
    }
   ],
   "source": [
    "print(len(most_wrong) , len(val_label))"
   ]
  },
  {
   "cell_type": "code",
   "execution_count": 120,
   "metadata": {},
   "outputs": [
    {
     "name": "stdout",
     "output_type": "stream",
     "text": [
      "Target: 0 , Prediction: 1.0 , Probability: 0.9420658349990845\n",
      "Text: ? High Skies - Burning Buildings ? http://t.co/uVq41i3Kx2 #nowplaying\n",
      "-------\n",
      "\n",
      "Target: 0 , Prediction: 1.0 , Probability: 0.933559775352478\n",
      "Text: Emergency Response and Hazardous Chemical Management: Principles and Practices http://t.co/4sSuyhkgRB http://t.co/TDerBtgZ2k\n",
      "-------\n",
      "\n",
      "Target: 0 , Prediction: 1.0 , Probability: 0.9080947637557983\n",
      "Text: @madonnamking RSPCA site multiple 7 story high rise buildings next to low density character residential in an area that floods\n",
      "-------\n",
      "\n",
      "Target: 0 , Prediction: 1.0 , Probability: 0.8905909061431885\n",
      "Text: Trafford Centre film fans angry after Odeon cinema evacuated following false fire alarm   http://t.co/6GLDwx71DA\n",
      "-------\n",
      "\n",
      "Target: 0 , Prediction: 1.0 , Probability: 0.8805114030838013\n",
      "Text: The Five Fatal Flaws in the Iran Deal https://t.co/ztfEAd8GId via @YouTube\n",
      "-------\n",
      "\n",
      "Target: 0 , Prediction: 1.0 , Probability: 0.8644809722900391\n",
      "Text: Air Group is here to the rescue! We have 24/7 Emergency Service! Learn more about it here - http://t.co/9lyx7zMtHE http://t.co/5PbC96rTMJ\n",
      "-------\n",
      "\n",
      "Target: 0 , Prediction: 1.0 , Probability: 0.8326165080070496\n",
      "Text: Photo: postapocalypticflimflam: Prodding around the rubble. http://t.co/Bgy4i47j70\n",
      "-------\n",
      "\n",
      "Target: 0 , Prediction: 1.0 , Probability: 0.8244602084159851\n",
      "Text: Haley Lu Richardson Fights for Water in The Last Survivors (Review) http://t.co/oObSCFOKtQ\n",
      "-------\n",
      "\n",
      "Target: 0 , Prediction: 1.0 , Probability: 0.8031750917434692\n",
      "Text: FedEx will no longer transport bioterror pathogens in wake of anthrax lab mishaps http://t.co/lHpgxc4b8J\n",
      "-------\n",
      "\n",
      "Target: 0 , Prediction: 1.0 , Probability: 0.7891685962677002\n",
      "Text: Ashes 2015: AustraliaÛªs collapse at Trent Bridge among worst in history: England bundled out Australia for 60 ... http://t.co/t5TrhjUAU0\n",
      "-------\n",
      "\n"
     ]
    }
   ],
   "source": [
    "for row in most_wrong[:10].itertuples():\n",
    "    _ , text , target , pred , prob = row\n",
    "    print(f'Target: {target} , Prediction: {pred} , Probability: {prob}')\n",
    "    print(f'Text: {text}')\n",
    "    print('-------\\n')"
   ]
  },
  {
   "cell_type": "code",
   "execution_count": 121,
   "metadata": {},
   "outputs": [
    {
     "name": "stdout",
     "output_type": "stream",
     "text": [
      "Target: 1 , Prediction: 0.0 , Probability: 0.05893748998641968\n",
      "Text: I Will Survive by Gloria Gaynor (with Oktaviana Devi) ÛÓ https://t.co/HUkJZ1wT36\n",
      "-------\n",
      "\n",
      "Target: 1 , Prediction: 0.0 , Probability: 0.05845153331756592\n",
      "Text: I get to smoke my shit in peace\n",
      "-------\n",
      "\n",
      "Target: 1 , Prediction: 0.0 , Probability: 0.053624123334884644\n",
      "Text: @SoonerMagic_ I mean I'm a fan but I don't need a girl sounding off like a damn siren\n",
      "-------\n",
      "\n",
      "Target: 1 , Prediction: 0.0 , Probability: 0.051804184913635254\n",
      "Text: VICTORINOX SWISS ARMY DATE WOMEN'S RUBBER MOP WATCH 241487 http://t.co/yFy3nkkcoH http://t.co/KNEhVvOHVK\n",
      "-------\n",
      "\n",
      "Target: 1 , Prediction: 0.0 , Probability: 0.049308210611343384\n",
      "Text: #download &amp; #watch Demolition Frog (2002) http://t.co/81nEizeknm #movie\n",
      "-------\n",
      "\n",
      "Target: 1 , Prediction: 0.0 , Probability: 0.04870036244392395\n",
      "Text: Ron &amp; Fez - Dave's High School Crush https://t.co/aN3W16c8F6 via @YouTube\n",
      "-------\n",
      "\n",
      "Target: 1 , Prediction: 0.0 , Probability: 0.045468270778656006\n",
      "Text: going to redo my nails and watch behind the scenes of desolation of smaug ayyy\n",
      "-------\n",
      "\n",
      "Target: 1 , Prediction: 0.0 , Probability: 0.040416210889816284\n",
      "Text: Next May I'll be free...from school from obligations like family.... Best of all that damn curfew...\n",
      "-------\n",
      "\n",
      "Target: 1 , Prediction: 0.0 , Probability: 0.03761482238769531\n",
      "Text: Leitchfield KY:\n",
      "\n",
      " Bella Edward &amp; Rosalie need rescue/adoption/local foster home(s)/sponsorships.\n",
      "\n",
      " Trapped &amp;... http://t.co/Ajay0sNPlg\n",
      "-------\n",
      "\n",
      "Target: 1 , Prediction: 0.0 , Probability: 0.035993367433547974\n",
      "Text: Why are you deluged with low self-image? Take the quiz: http://t.co/XsPqdOrIqj http://t.co/CQYvFR4UCy\n",
      "-------\n",
      "\n"
     ]
    }
   ],
   "source": [
    "for row in most_wrong[-10:].itertuples():\n",
    "    _ , text , target , pred , prob = row\n",
    "    print(f'Target: {target} , Prediction: {pred} , Probability: {prob}')\n",
    "    print(f'Text: {text}')\n",
    "    print('-------\\n')"
   ]
  },
  {
   "cell_type": "markdown",
   "metadata": {},
   "source": [
    "## Predictions on Test Dataset"
   ]
  },
  {
   "cell_type": "code",
   "execution_count": 122,
   "metadata": {},
   "outputs": [
    {
     "name": "stdout",
     "output_type": "stream",
     "text": [
      "Prediction: 1 , Probability: 0.9216587543487549\n",
      "Text: We dont really talk about the murder of the bombing campaigns in WWII because we won but murder it is. https://t.co/jsGwnY6kdJ\n",
      "------\n",
      "\n",
      "Prediction: 1 , Probability: 0.9884679913520813\n",
      "Text: Obama Declares Disaster for Typhoon-Devastated Saipan: Obama signs disaster declaration for Northern Marians a... http://t.co/9i6CrCRq2m\n",
      "------\n",
      "\n",
      "Prediction: 1 , Probability: 0.956251859664917\n",
      "Text: Twister hits 4 villages in Quezon province - http://t.co/ehJv0gvo47 http://t.co/pzJcRNrBSr #Quezon #news\n",
      "------\n",
      "\n",
      "Prediction: 0 , Probability: 0.23046258091926575\n",
      "Text: #AskConnor there's a zombie apocalypse. the item to your right is your weapon. you're either screwed or you're gonna live.\n",
      "------\n",
      "\n",
      "Prediction: 1 , Probability: 0.9979360699653625\n",
      "Text: Sinjar Massacre Yazidis Blast Lack of Action Over Hostages http://t.co/fdU8aCnC2W #denver #billings #rapidcity #seattle #cheyenne #lasvegas\n",
      "------\n",
      "\n",
      "Prediction: 1 , Probability: 0.7865294218063354\n",
      "Text: SPD OFFICER SHOT - PLEASE PRAY\n",
      "\n",
      "Please pray for the Shreveport Police Department and other first responders... http://t.co/Kx1YnSME5T\n",
      "------\n",
      "\n",
      "Prediction: 0 , Probability: 0.09006890654563904\n",
      "Text: Crush cars with wrestling stars in MMX Racing Featuring WWE - AppAdviceÛ_ http://t.co/5XvP1IfPmy #designgeeks\n",
      "------\n",
      "\n",
      "Prediction: 1 , Probability: 0.7411219477653503\n",
      "Text: 'We must educate first responders about how to adapt to emergencies involving an #autistic individuals.' | http://t.co/JIeB3lsZqc\n",
      "------\n",
      "\n",
      "Prediction: 1 , Probability: 0.5563021302223206\n",
      "Text: @RosieGray Now in all sincerety do you think the UN would move to Israel if there was a fraction of a chance of being annihilated?\n",
      "------\n",
      "\n",
      "Prediction: 1 , Probability: 0.9404484033584595\n",
      "Text: 5 injured in bridge collapse at Swiss kosher hotel: The accident occurred on Tuesday at the Metropol Hotel a ... http://t.co/sIGeZlynJ9\n",
      "------\n",
      "\n"
     ]
    }
   ],
   "source": [
    "test_sentences = test['text'].to_list()\n",
    "test_samples = random.sample(test_sentences , 10)\n",
    "\n",
    "for i in test_samples:\n",
    "    pred_prob = tf.squeeze(model_6.predict([i]))\n",
    "    pred = tf.round(pred_prob)\n",
    "    print(f'Prediction: {int(pred)} , Probability: {pred_prob}')\n",
    "    print(f'Text: {i}')\n",
    "    print('------\\n')"
   ]
  },
  {
   "cell_type": "markdown",
   "metadata": {},
   "source": [
    "## The speed/score tradeoff"
   ]
  },
  {
   "cell_type": "code",
   "execution_count": 123,
   "metadata": {},
   "outputs": [],
   "source": [
    "# Calculate the time of predictions\n",
    "import time\n",
    "def pred_timer(model, samples):\n",
    "    start_time = time.perf_counter() # get start time\n",
    "    model.predict(samples) # make predictions\n",
    "    end_time = time.perf_counter() # get finish time\n",
    "    total_time = end_time-start_time # calculate how long predictions took to make\n",
    "    time_per_pred = total_time/len(samples) # find prediction time per sample\n",
    "    return total_time, time_per_pred"
   ]
  },
  {
   "cell_type": "code",
   "execution_count": 124,
   "metadata": {},
   "outputs": [
    {
     "data": {
      "text/plain": [
       "(13.960657999999967, 0.018321073490813605)"
      ]
     },
     "execution_count": 124,
     "metadata": {},
     "output_type": "execute_result"
    }
   ],
   "source": [
    "model_6_total_pred_time, model_6_time_per_pred = pred_timer(model_6, val_data)\n",
    "model_6_total_pred_time, model_6_time_per_pred"
   ]
  },
  {
   "cell_type": "code",
   "execution_count": 125,
   "metadata": {},
   "outputs": [
    {
     "data": {
      "text/plain": [
       "(0.061952000000019325, 8.130183727036656e-05)"
      ]
     },
     "execution_count": 125,
     "metadata": {},
     "output_type": "execute_result"
    }
   ],
   "source": [
    "baseline_total_pred_time, baseline_time_per_pred = pred_timer(model_0, val_data)\n",
    "baseline_total_pred_time, baseline_time_per_pred"
   ]
  },
  {
   "cell_type": "code",
   "execution_count": 126,
   "metadata": {},
   "outputs": [
    {
     "data": {
      "image/png": "[encoded data removed]",
      "text/plain": [
       "<Figure size 720x504 with 1 Axes>"
      ]
     },
     "metadata": {
      "needs_background": "light"
     },
     "output_type": "display_data"
    }
   ],
   "source": [
    "# Neural network is slow compared to Naive Bayes\n",
    "plt.figure(figsize=(10, 7))\n",
    "plt.scatter(baseline_time_per_pred, baseline_results[\"F1 Score\"], label=\"baseline\")\n",
    "plt.scatter(model_6_time_per_pred, model_6_results[\"F1 Score\"], label=\"tf_hub_sentence_encoder\")\n",
    "plt.legend()\n",
    "plt.title(\"F1-score versus time per prediction\")\n",
    "plt.xlabel(\"Time per prediction\")\n",
    "plt.ylabel(\"F1-Score\");"
   ]
  }
 ],
 "metadata": {
  "kernelspec": {
   "display_name": "Python 3",
   "language": "python",
   "name": "python3"
  },
  "language_info": {
   "codemirror_mode": {
    "name": "ipython",
    "version": 3
   },
   "file_extension": ".py",
   "mimetype": "text/x-python",
   "name": "python",
   "nbconvert_exporter": "python",
   "pygments_lexer": "ipython3",
   "version": "3.8.8"
  }
 },
 "nbformat": 4,
 "nbformat_minor": 2
}
