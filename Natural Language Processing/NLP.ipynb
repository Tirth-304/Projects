{
 "cells": [
  {
   "cell_type": "markdown",
   "id": "f133fd99",
   "metadata": {},
   "source": [
    "# Natural Langeage Processing"
   ]
  },
  {
   "cell_type": "markdown",
   "id": "b220d4bb",
   "metadata": {},
   "source": [
    "## Import dataset"
   ]
  },
  {
   "cell_type": "code",
   "execution_count": 105,
   "id": "ad75d7a5",
   "metadata": {},
   "outputs": [],
   "source": [
    "# Start by using the 20k dataset\n",
    "data_dir = \"pubmed-rct-master/PubMed_20k_RCT_numbers_replaced_with_at_sign/\""
   ]
  },
  {
   "cell_type": "code",
   "execution_count": 106,
   "id": "1bb104e2",
   "metadata": {},
   "outputs": [],
   "source": [
    "import zipfile\n",
    "\n",
    "def unzip_data(filename):\n",
    "    zip_ref = zipfile.ZipFile(filename, \"r\")\n",
    "    zip_ref.extractall()\n",
    "    zip_ref.close()"
   ]
  },
  {
   "cell_type": "code",
   "execution_count": 107,
   "id": "127ee71c",
   "metadata": {},
   "outputs": [],
   "source": [
    "unzip_data(\"pubmed-rct-master.zip\")"
   ]
  },
  {
   "cell_type": "code",
   "execution_count": 108,
   "id": "9c71a8a2",
   "metadata": {},
   "outputs": [],
   "source": [
    "# Now, let's see what is inside the dataset\n",
    "import os\n",
    "\n",
    "def walk_through_dir(dir_path):\n",
    "    for dirpath, dirnames, filenames in os.walk(dir_path):\n",
    "        print(f\"There are {len(dirnames)} directories and {len(filenames)} images in '{dirpath}'.\")"
   ]
  },
  {
   "cell_type": "code",
   "execution_count": 109,
   "id": "dfd19e77",
   "metadata": {},
   "outputs": [
    {
     "name": "stdout",
     "output_type": "stream",
     "text": [
      "There are 0 directories and 3 images in 'pubmed-rct-master/PubMed_20k_RCT_numbers_replaced_with_at_sign/'.\n"
     ]
    }
   ],
   "source": [
    "walk_through_dir(\"pubmed-rct-master/PubMed_20k_RCT_numbers_replaced_with_at_sign/\")"
   ]
  },
  {
   "cell_type": "code",
   "execution_count": 110,
   "id": "e969579e",
   "metadata": {},
   "outputs": [],
   "source": [
    "# Create function to read the lines of a document\n",
    "def get_lines(filename):\n",
    "    with open(filename, \"r\") as f:\n",
    "        return f.readlines()"
   ]
  },
  {
   "cell_type": "code",
   "execution_count": 111,
   "id": "ce14742b",
   "metadata": {},
   "outputs": [
    {
     "data": {
      "text/plain": [
       "['###24293578\\n',\n",
       " 'OBJECTIVE\\tTo investigate the efficacy of @ weeks of daily low-dose oral prednisolone in improving pain , mobility , and systemic low-grade inflammation in the short term and whether the effect would be sustained at @ weeks in older adults with moderate to severe knee osteoarthritis ( OA ) .\\n',\n",
       " 'METHODS\\tA total of @ patients with primary knee OA were randomized @:@ ; @ received @ mg/day of prednisolone and @ received placebo for @ weeks .\\n',\n",
       " 'METHODS\\tOutcome measures included pain reduction and improvement in function scores and systemic inflammation markers .\\n',\n",
       " 'METHODS\\tPain was assessed using the visual analog pain scale ( @-@ mm ) .\\n',\n",
       " 'METHODS\\tSecondary outcome measures included the Western Ontario and McMaster Universities Osteoarthritis Index scores , patient global assessment ( PGA ) of the severity of knee OA , and @-min walk distance ( @MWD ) .\\n',\n",
       " 'METHODS\\tSerum levels of interleukin @ ( IL-@ ) , IL-@ , tumor necrosis factor ( TNF ) - , and high-sensitivity C-reactive protein ( hsCRP ) were measured .\\n',\n",
       " 'RESULTS\\tThere was a clinically relevant reduction in the intervention group compared to the placebo group for knee pain , physical function , PGA , and @MWD at @ weeks .\\n',\n",
       " 'RESULTS\\tThe mean difference between treatment arms ( @ % CI ) was @ ( @-@ @ ) , p < @ ; @ ( @-@ @ ) , p < @ ; @ ( @-@ @ ) , p < @ ; and @ ( @-@ @ ) , p < @ , respectively .\\n',\n",
       " 'RESULTS\\tFurther , there was a clinically relevant reduction in the serum levels of IL-@ , IL-@ , TNF - , and hsCRP at @ weeks in the intervention group when compared to the placebo group .\\n',\n",
       " 'RESULTS\\tThese differences remained significant at @ weeks .\\n',\n",
       " 'RESULTS\\tThe Outcome Measures in Rheumatology Clinical Trials-Osteoarthritis Research Society International responder rate was @ % in the intervention group and @ % in the placebo group ( p < @ ) .\\n',\n",
       " 'CONCLUSIONS\\tLow-dose oral prednisolone had both a short-term and a longer sustained effect resulting in less knee pain , better physical function , and attenuation of systemic inflammation in older patients with knee OA ( ClinicalTrials.gov identifier NCT@ ) .\\n',\n",
       " '\\n',\n",
       " '###24854809\\n',\n",
       " 'BACKGROUND\\tEmotional eating is associated with overeating and the development of obesity .\\n',\n",
       " 'BACKGROUND\\tYet , empirical evidence for individual ( trait ) differences in emotional eating and cognitive mechanisms that contribute to eating during sad mood remain equivocal .\\n',\n",
       " 'OBJECTIVE\\tThe aim of this study was to test if attention bias for food moderates the effect of self-reported emotional eating during sad mood ( vs neutral mood ) on actual food intake .\\n',\n",
       " 'OBJECTIVE\\tIt was expected that emotional eating is predictive of elevated attention for food and higher food intake after an experimentally induced sad mood and that attentional maintenance on food predicts food intake during a sad versus a neutral mood .\\n',\n",
       " 'METHODS\\tParticipants ( N = @ ) were randomly assigned to one of the two experimental mood induction conditions ( sad/neutral ) .\\n']"
      ]
     },
     "execution_count": 111,
     "metadata": {},
     "output_type": "execute_result"
    }
   ],
   "source": [
    "train_lines = get_lines(data_dir+\"train.txt\")\n",
    "train_lines[:20]"
   ]
  },
  {
   "cell_type": "markdown",
   "id": "117a973c",
   "metadata": {},
   "source": [
    "## Preprocess Data"
   ]
  },
  {
   "cell_type": "code",
   "execution_count": 112,
   "id": "af4dc2db",
   "metadata": {},
   "outputs": [],
   "source": [
    "# Now, we need to preprocess the data\n",
    "def preprocess_data(filename):\n",
    "    input_lines = get_lines(filename)\n",
    "#     Create an empty abstract\n",
    "    abstract_lines = ''\n",
    "#     Create an empty list of abstracts\n",
    "    abstract_sample = []\n",
    "    \n",
    "    for line in input_lines:\n",
    "#         If line starts with ### then it is start of new abstract\n",
    "        if line.startswith('###'):\n",
    "            abstract_id = line\n",
    "            abstract_lines = ''\n",
    "#         If line is a new line then it is end of abstract\n",
    "#         Now, start to process the data\n",
    "        elif line.isspace():\n",
    "            abstract_line_split = abstract_lines.splitlines()\n",
    "            \n",
    "            for abstract_line_number , abstract_line in enumerate(abstract_line_split):\n",
    "                line_data = {}\n",
    "#                 To get the heading of line split it with respect to \\t\n",
    "                target_text_split = abstract_line.split('\\t')\n",
    "                line_data['target'] = target_text_split[0]\n",
    "#                Lower the data in text\n",
    "                line_data['text'] = target_text_split[1].lower()\n",
    "                line_data['line_number'] = abstract_line_number + 1\n",
    "                line_data['total_lines'] = len(abstract_line_split)\n",
    "                abstract_sample.append(line_data)\n",
    "                \n",
    "            \n",
    "#         Now if this is none og the above that means it is line in one abstract\n",
    "#         So , add number of lines in abstract\n",
    "        else:\n",
    "            abstract_lines += line\n",
    "            \n",
    "    return abstract_sample"
   ]
  },
  {
   "cell_type": "code",
   "execution_count": 113,
   "id": "3e69b364",
   "metadata": {},
   "outputs": [
    {
     "data": {
      "text/plain": [
       "(180040, 30135, 30212)"
      ]
     },
     "execution_count": 113,
     "metadata": {},
     "output_type": "execute_result"
    }
   ],
   "source": [
    "train_data = preprocess_data(data_dir + 'train.txt')\n",
    "val_data = preprocess_data(data_dir + 'dev.txt')\n",
    "test_data = preprocess_data(data_dir + 'test.txt')\n",
    "\n",
    "len(train_data) , len(test_data) , len(val_data)"
   ]
  },
  {
   "cell_type": "code",
   "execution_count": 114,
   "id": "b75020fa",
   "metadata": {},
   "outputs": [
    {
     "data": {
      "text/plain": [
       "[{'target': 'OBJECTIVE',\n",
       "  'text': 'to investigate the efficacy of @ weeks of daily low-dose oral prednisolone in improving pain , mobility , and systemic low-grade inflammation in the short term and whether the effect would be sustained at @ weeks in older adults with moderate to severe knee osteoarthritis ( oa ) .',\n",
       "  'line_number': 1,\n",
       "  'total_lines': 12},\n",
       " {'target': 'METHODS',\n",
       "  'text': 'a total of @ patients with primary knee oa were randomized @:@ ; @ received @ mg/day of prednisolone and @ received placebo for @ weeks .',\n",
       "  'line_number': 2,\n",
       "  'total_lines': 12},\n",
       " {'target': 'METHODS',\n",
       "  'text': 'outcome measures included pain reduction and improvement in function scores and systemic inflammation markers .',\n",
       "  'line_number': 3,\n",
       "  'total_lines': 12},\n",
       " {'target': 'METHODS',\n",
       "  'text': 'pain was assessed using the visual analog pain scale ( @-@ mm ) .',\n",
       "  'line_number': 4,\n",
       "  'total_lines': 12},\n",
       " {'target': 'METHODS',\n",
       "  'text': 'secondary outcome measures included the western ontario and mcmaster universities osteoarthritis index scores , patient global assessment ( pga ) of the severity of knee oa , and @-min walk distance ( @mwd ) .',\n",
       "  'line_number': 5,\n",
       "  'total_lines': 12},\n",
       " {'target': 'METHODS',\n",
       "  'text': 'serum levels of interleukin @ ( il-@ ) , il-@ , tumor necrosis factor ( tnf ) - , and high-sensitivity c-reactive protein ( hscrp ) were measured .',\n",
       "  'line_number': 6,\n",
       "  'total_lines': 12},\n",
       " {'target': 'RESULTS',\n",
       "  'text': 'there was a clinically relevant reduction in the intervention group compared to the placebo group for knee pain , physical function , pga , and @mwd at @ weeks .',\n",
       "  'line_number': 7,\n",
       "  'total_lines': 12},\n",
       " {'target': 'RESULTS',\n",
       "  'text': 'the mean difference between treatment arms ( @ % ci ) was @ ( @-@ @ ) , p < @ ; @ ( @-@ @ ) , p < @ ; @ ( @-@ @ ) , p < @ ; and @ ( @-@ @ ) , p < @ , respectively .',\n",
       "  'line_number': 8,\n",
       "  'total_lines': 12},\n",
       " {'target': 'RESULTS',\n",
       "  'text': 'further , there was a clinically relevant reduction in the serum levels of il-@ , il-@ , tnf - , and hscrp at @ weeks in the intervention group when compared to the placebo group .',\n",
       "  'line_number': 9,\n",
       "  'total_lines': 12},\n",
       " {'target': 'RESULTS',\n",
       "  'text': 'these differences remained significant at @ weeks .',\n",
       "  'line_number': 10,\n",
       "  'total_lines': 12},\n",
       " {'target': 'RESULTS',\n",
       "  'text': 'the outcome measures in rheumatology clinical trials-osteoarthritis research society international responder rate was @ % in the intervention group and @ % in the placebo group ( p < @ ) .',\n",
       "  'line_number': 11,\n",
       "  'total_lines': 12},\n",
       " {'target': 'CONCLUSIONS',\n",
       "  'text': 'low-dose oral prednisolone had both a short-term and a longer sustained effect resulting in less knee pain , better physical function , and attenuation of systemic inflammation in older patients with knee oa ( clinicaltrials.gov identifier nct@ ) .',\n",
       "  'line_number': 12,\n",
       "  'total_lines': 12}]"
      ]
     },
     "execution_count": 114,
     "metadata": {},
     "output_type": "execute_result"
    }
   ],
   "source": [
    "train_data[:12]"
   ]
  },
  {
   "cell_type": "markdown",
   "id": "1c524f19",
   "metadata": {},
   "source": [
    "## Visualise Data"
   ]
  },
  {
   "cell_type": "code",
   "execution_count": 115,
   "id": "cd67c5e3",
   "metadata": {},
   "outputs": [
    {
     "data": {
      "text/html": [
       "<div>\n",
       "<style scoped>\n",
       "    .dataframe tbody tr th:only-of-type {\n",
       "        vertical-align: middle;\n",
       "    }\n",
       "\n",
       "    .dataframe tbody tr th {\n",
       "        vertical-align: top;\n",
       "    }\n",
       "\n",
       "    .dataframe thead th {\n",
       "        text-align: right;\n",
       "    }\n",
       "</style>\n",
       "<table border=\"1\" class=\"dataframe\">\n",
       "  <thead>\n",
       "    <tr style=\"text-align: right;\">\n",
       "      <th></th>\n",
       "      <th>target</th>\n",
       "      <th>text</th>\n",
       "      <th>line_number</th>\n",
       "      <th>total_lines</th>\n",
       "    </tr>\n",
       "  </thead>\n",
       "  <tbody>\n",
       "    <tr>\n",
       "      <th>0</th>\n",
       "      <td>OBJECTIVE</td>\n",
       "      <td>to investigate the efficacy of @ weeks of dail...</td>\n",
       "      <td>1</td>\n",
       "      <td>12</td>\n",
       "    </tr>\n",
       "    <tr>\n",
       "      <th>1</th>\n",
       "      <td>METHODS</td>\n",
       "      <td>a total of @ patients with primary knee oa wer...</td>\n",
       "      <td>2</td>\n",
       "      <td>12</td>\n",
       "    </tr>\n",
       "    <tr>\n",
       "      <th>2</th>\n",
       "      <td>METHODS</td>\n",
       "      <td>outcome measures included pain reduction and i...</td>\n",
       "      <td>3</td>\n",
       "      <td>12</td>\n",
       "    </tr>\n",
       "    <tr>\n",
       "      <th>3</th>\n",
       "      <td>METHODS</td>\n",
       "      <td>pain was assessed using the visual analog pain...</td>\n",
       "      <td>4</td>\n",
       "      <td>12</td>\n",
       "    </tr>\n",
       "    <tr>\n",
       "      <th>4</th>\n",
       "      <td>METHODS</td>\n",
       "      <td>secondary outcome measures included the wester...</td>\n",
       "      <td>5</td>\n",
       "      <td>12</td>\n",
       "    </tr>\n",
       "    <tr>\n",
       "      <th>5</th>\n",
       "      <td>METHODS</td>\n",
       "      <td>serum levels of interleukin @ ( il-@ ) , il-@ ...</td>\n",
       "      <td>6</td>\n",
       "      <td>12</td>\n",
       "    </tr>\n",
       "    <tr>\n",
       "      <th>6</th>\n",
       "      <td>RESULTS</td>\n",
       "      <td>there was a clinically relevant reduction in t...</td>\n",
       "      <td>7</td>\n",
       "      <td>12</td>\n",
       "    </tr>\n",
       "    <tr>\n",
       "      <th>7</th>\n",
       "      <td>RESULTS</td>\n",
       "      <td>the mean difference between treatment arms ( @...</td>\n",
       "      <td>8</td>\n",
       "      <td>12</td>\n",
       "    </tr>\n",
       "    <tr>\n",
       "      <th>8</th>\n",
       "      <td>RESULTS</td>\n",
       "      <td>further , there was a clinically relevant redu...</td>\n",
       "      <td>9</td>\n",
       "      <td>12</td>\n",
       "    </tr>\n",
       "    <tr>\n",
       "      <th>9</th>\n",
       "      <td>RESULTS</td>\n",
       "      <td>these differences remained significant at @ we...</td>\n",
       "      <td>10</td>\n",
       "      <td>12</td>\n",
       "    </tr>\n",
       "    <tr>\n",
       "      <th>10</th>\n",
       "      <td>RESULTS</td>\n",
       "      <td>the outcome measures in rheumatology clinical ...</td>\n",
       "      <td>11</td>\n",
       "      <td>12</td>\n",
       "    </tr>\n",
       "    <tr>\n",
       "      <th>11</th>\n",
       "      <td>CONCLUSIONS</td>\n",
       "      <td>low-dose oral prednisolone had both a short-te...</td>\n",
       "      <td>12</td>\n",
       "      <td>12</td>\n",
       "    </tr>\n",
       "  </tbody>\n",
       "</table>\n",
       "</div>"
      ],
      "text/plain": [
       "         target                                               text  \\\n",
       "0     OBJECTIVE  to investigate the efficacy of @ weeks of dail...   \n",
       "1       METHODS  a total of @ patients with primary knee oa wer...   \n",
       "2       METHODS  outcome measures included pain reduction and i...   \n",
       "3       METHODS  pain was assessed using the visual analog pain...   \n",
       "4       METHODS  secondary outcome measures included the wester...   \n",
       "5       METHODS  serum levels of interleukin @ ( il-@ ) , il-@ ...   \n",
       "6       RESULTS  there was a clinically relevant reduction in t...   \n",
       "7       RESULTS  the mean difference between treatment arms ( @...   \n",
       "8       RESULTS  further , there was a clinically relevant redu...   \n",
       "9       RESULTS  these differences remained significant at @ we...   \n",
       "10      RESULTS  the outcome measures in rheumatology clinical ...   \n",
       "11  CONCLUSIONS  low-dose oral prednisolone had both a short-te...   \n",
       "\n",
       "    line_number  total_lines  \n",
       "0             1           12  \n",
       "1             2           12  \n",
       "2             3           12  \n",
       "3             4           12  \n",
       "4             5           12  \n",
       "5             6           12  \n",
       "6             7           12  \n",
       "7             8           12  \n",
       "8             9           12  \n",
       "9            10           12  \n",
       "10           11           12  \n",
       "11           12           12  "
      ]
     },
     "execution_count": 115,
     "metadata": {},
     "output_type": "execute_result"
    }
   ],
   "source": [
    "# Now, convert data into pandas dataframe\n",
    "import pandas as pd\n",
    "train_frame = pd.DataFrame(train_data)\n",
    "val_frame = pd.DataFrame(val_data)\n",
    "test_frame = pd.DataFrame(test_data)\n",
    "train_frame.head(12)"
   ]
  },
  {
   "cell_type": "code",
   "execution_count": 116,
   "id": "6a779d37",
   "metadata": {},
   "outputs": [
    {
     "data": {
      "text/plain": [
       "METHODS        59353\n",
       "RESULTS        57953\n",
       "CONCLUSIONS    27168\n",
       "BACKGROUND     21727\n",
       "OBJECTIVE      13839\n",
       "Name: target, dtype: int64"
      ]
     },
     "execution_count": 116,
     "metadata": {},
     "output_type": "execute_result"
    }
   ],
   "source": [
    "train_frame['target'].value_counts()"
   ]
  },
  {
   "cell_type": "code",
   "execution_count": 117,
   "id": "1e3b96e3",
   "metadata": {},
   "outputs": [
    {
     "data": {
      "text/plain": [
       "<AxesSubplot:ylabel='Frequency'>"
      ]
     },
     "execution_count": 117,
     "metadata": {},
     "output_type": "execute_result"
    },
    {
     "data": {
      "image/png": "[encoded data removed]",
      "text/plain": [
       "<Figure size 432x288 with 1 Axes>"
      ]
     },
     "metadata": {
      "needs_background": "light"
     },
     "output_type": "display_data"
    }
   ],
   "source": [
    "train_frame['total_lines'].plot.hist()"
   ]
  },
  {
   "cell_type": "code",
   "execution_count": 118,
   "id": "74570e74",
   "metadata": {},
   "outputs": [
    {
     "data": {
      "text/plain": [
       "(180040, 30212, 30135)"
      ]
     },
     "execution_count": 118,
     "metadata": {},
     "output_type": "execute_result"
    }
   ],
   "source": [
    "# Seprating text data as it is our parameter\n",
    "train_sentence = train_frame['text'].tolist()\n",
    "val_sentence = val_frame['text'].tolist()\n",
    "test_sentence = test_frame['text'].tolist()\n",
    "len(train_sentence) , len(val_sentence) , len(test_sentence)"
   ]
  },
  {
   "cell_type": "code",
   "execution_count": 119,
   "id": "621500e7",
   "metadata": {},
   "outputs": [
    {
     "data": {
      "text/plain": [
       "['to investigate the efficacy of @ weeks of daily low-dose oral prednisolone in improving pain , mobility , and systemic low-grade inflammation in the short term and whether the effect would be sustained at @ weeks in older adults with moderate to severe knee osteoarthritis ( oa ) .',\n",
       " 'a total of @ patients with primary knee oa were randomized @:@ ; @ received @ mg/day of prednisolone and @ received placebo for @ weeks .',\n",
       " 'outcome measures included pain reduction and improvement in function scores and systemic inflammation markers .',\n",
       " 'pain was assessed using the visual analog pain scale ( @-@ mm ) .',\n",
       " 'secondary outcome measures included the western ontario and mcmaster universities osteoarthritis index scores , patient global assessment ( pga ) of the severity of knee oa , and @-min walk distance ( @mwd ) .',\n",
       " 'serum levels of interleukin @ ( il-@ ) , il-@ , tumor necrosis factor ( tnf ) - , and high-sensitivity c-reactive protein ( hscrp ) were measured .',\n",
       " 'there was a clinically relevant reduction in the intervention group compared to the placebo group for knee pain , physical function , pga , and @mwd at @ weeks .',\n",
       " 'the mean difference between treatment arms ( @ % ci ) was @ ( @-@ @ ) , p < @ ; @ ( @-@ @ ) , p < @ ; @ ( @-@ @ ) , p < @ ; and @ ( @-@ @ ) , p < @ , respectively .',\n",
       " 'further , there was a clinically relevant reduction in the serum levels of il-@ , il-@ , tnf - , and hscrp at @ weeks in the intervention group when compared to the placebo group .',\n",
       " 'these differences remained significant at @ weeks .']"
      ]
     },
     "execution_count": 119,
     "metadata": {},
     "output_type": "execute_result"
    }
   ],
   "source": [
    "train_sentence[:10]"
   ]
  },
  {
   "cell_type": "code",
   "execution_count": 122,
   "id": "68913d94",
   "metadata": {},
   "outputs": [
    {
     "data": {
      "text/plain": [
       "array([[0., 0., 0., 1., 0.],\n",
       "       [0., 0., 1., 0., 0.],\n",
       "       [0., 0., 1., 0., 0.],\n",
       "       [0., 0., 1., 0., 0.],\n",
       "       [0., 0., 1., 0., 0.],\n",
       "       [0., 0., 1., 0., 0.],\n",
       "       [0., 0., 0., 0., 1.],\n",
       "       [0., 0., 0., 0., 1.],\n",
       "       [0., 0., 0., 0., 1.],\n",
       "       [0., 0., 0., 0., 1.],\n",
       "       [0., 0., 0., 0., 1.],\n",
       "       [0., 1., 0., 0., 0.]])"
      ]
     },
     "execution_count": 122,
     "metadata": {},
     "output_type": "execute_result"
    }
   ],
   "source": [
    "# Now , OneHotCode target in numericals\n",
    "from sklearn.preprocessing import OneHotEncoder\n",
    "encoder = OneHotEncoder(sparse = False)\n",
    "\n",
    "train_label_onehot = encoder.fit_transform(train_frame['target'].to_numpy().reshape(-1 , 1))\n",
    "val_label_onehot = encoder.fit_transform(val_frame['target'].to_numpy().reshape(-1 , 1))\n",
    "test_label_onehot = encoder.fit_transform(test_frame['target'].to_numpy().reshape(-1 , 1))\n",
    "\n",
    "train_label_onehot[:12]"
   ]
  },
  {
   "cell_type": "code",
   "execution_count": 124,
   "id": "cd0a5905",
   "metadata": {},
   "outputs": [
    {
     "data": {
      "text/plain": [
       "array([3, 2, 2, 2, 2, 2, 4, 4, 4, 4, 4, 1])"
      ]
     },
     "execution_count": 124,
     "metadata": {},
     "output_type": "execute_result"
    }
   ],
   "source": [
    "# As we know, In this case labelencoder performs well so we are going to use it as labels\n",
    "from sklearn.preprocessing import LabelEncoder\n",
    "encoder = LabelEncoder()\n",
    "\n",
    "train_label = encoder.fit_transform(train_frame['target'].to_numpy())\n",
    "val_label = encoder.fit_transform(val_frame['target'].to_numpy())\n",
    "test_label = encoder.fit_transform(test_frame['target'].to_numpy())\n",
    "\n",
    "train_label[:12]"
   ]
  },
  {
   "cell_type": "code",
   "execution_count": 125,
   "id": "8282a6da",
   "metadata": {},
   "outputs": [
    {
     "name": "stdout",
     "output_type": "stream",
     "text": [
      "Number of classes are 5 which are named as ['BACKGROUND' 'CONCLUSIONS' 'METHODS' 'OBJECTIVE' 'RESULTS']\n"
     ]
    }
   ],
   "source": [
    "num_classes = len(encoder.classes_)\n",
    "class_names = encoder.classes_\n",
    "\n",
    "print(f'Number of classes are {num_classes} which are named as {class_names}')"
   ]
  },
  {
   "cell_type": "markdown",
   "id": "6251f5ef",
   "metadata": {},
   "source": [
    "Now our data is ready to go\n",
    "\n",
    "## Model - 0(Baseline)"
   ]
  },
  {
   "cell_type": "code",
   "execution_count": 19,
   "id": "2bbdf5fe",
   "metadata": {},
   "outputs": [
    {
     "data": {
      "text/plain": [
       "Pipeline(steps=[('Tf-idf', TfidfVectorizer()), ('NB', MultinomialNB())])"
      ]
     },
     "execution_count": 19,
     "metadata": {},
     "output_type": "execute_result"
    }
   ],
   "source": [
    "from sklearn.feature_extraction.text import TfidfVectorizer\n",
    "from sklearn.naive_bayes import MultinomialNB\n",
    "from sklearn.pipeline import Pipeline\n",
    "\n",
    "model_0 = Pipeline([\n",
    "    ('Tf-idf' , TfidfVectorizer()) , \n",
    "    ('NB' , MultinomialNB())\n",
    "])\n",
    "\n",
    "model_0.fit(train_sentence , train_label)"
   ]
  },
  {
   "cell_type": "code",
   "execution_count": 20,
   "id": "b7aad271",
   "metadata": {},
   "outputs": [
    {
     "data": {
      "text/plain": [
       "0.7218323844829869"
      ]
     },
     "execution_count": 20,
     "metadata": {},
     "output_type": "execute_result"
    }
   ],
   "source": [
    "model_0.score(val_sentence , val_label)"
   ]
  },
  {
   "cell_type": "code",
   "execution_count": 21,
   "id": "4cdcb119",
   "metadata": {},
   "outputs": [],
   "source": [
    "baseline_pred = model_0.predict(val_sentence)"
   ]
  },
  {
   "cell_type": "code",
   "execution_count": 22,
   "id": "4a8df112",
   "metadata": {},
   "outputs": [],
   "source": [
    "from sklearn.metrics import accuracy_score, precision_recall_fscore_support\n",
    "\n",
    "def calculate_result(y_true , y_pred):\n",
    "    model_accuracy = accuracy_score(y_pred , y_true)\n",
    "    \n",
    "    model_precision , model_recall , model_f1 , _ = precision_recall_fscore_support(y_true , y_pred , average = 'weighted')\n",
    "    model_results = {'Accuracy' : model_accuracy , \n",
    "                    'Precision' : model_precision , \n",
    "                    'Recall' : model_recall , \n",
    "                    'F1 Score' : model_f1}\n",
    "    \n",
    "    return model_results"
   ]
  },
  {
   "cell_type": "code",
   "execution_count": 23,
   "id": "6f847e56",
   "metadata": {},
   "outputs": [
    {
     "name": "stdout",
     "output_type": "stream",
     "text": [
      "{'Accuracy': 0.7218323844829869, 'Precision': 0.7186466952323352, 'Recall': 0.7218323844829869, 'F1 Score': 0.6989250353450294}\n"
     ]
    }
   ],
   "source": [
    "baseline_results = calculate_result(val_label , baseline_pred)\n",
    "print(baseline_results)"
   ]
  },
  {
   "cell_type": "markdown",
   "id": "7b75910a",
   "metadata": {},
   "source": [
    "Excellent! We've got a working baseline to try and improve upon.\n",
    "\n",
    "But before we start building deeper models, we've got to create vectorization and embedding layers.\n",
    "\n",
    "The vectorization layer will convert our text to numbers and the embedding layer will capture the relationships between those numbers."
   ]
  },
  {
   "cell_type": "markdown",
   "id": "4cda756f",
   "metadata": {},
   "source": [
    "## Text vectorization"
   ]
  },
  {
   "cell_type": "code",
   "execution_count": 24,
   "id": "cd9ba5d5",
   "metadata": {},
   "outputs": [],
   "source": [
    "import numpy as np\n",
    "import tensorflow as tf"
   ]
  },
  {
   "cell_type": "code",
   "execution_count": 25,
   "id": "761415e3",
   "metadata": {},
   "outputs": [
    {
     "name": "stdout",
     "output_type": "stream",
     "text": [
      "26.338269273494777\n"
     ]
    }
   ],
   "source": [
    "# Sentence length \n",
    "sent_length = [len(sentence.split()) for sentence in train_sentence]\n",
    "mean_len = np.mean(sent_length)\n",
    "print(mean_len)"
   ]
  },
  {
   "cell_type": "code",
   "execution_count": 26,
   "id": "00adba0b",
   "metadata": {},
   "outputs": [
    {
     "data": {
      "text/plain": [
       "(array([1.5999e+05, 1.8760e+04, 1.1510e+03, 9.9000e+01, 2.8000e+01,\n",
       "        1.0000e+01, 2.0000e+00]),\n",
       " array([  1.        ,  43.14285714,  85.28571429, 127.42857143,\n",
       "        169.57142857, 211.71428571, 253.85714286, 296.        ]),\n",
       " <BarContainer object of 7 artists>)"
      ]
     },
     "execution_count": 26,
     "metadata": {},
     "output_type": "execute_result"
    },
    {
     "data": {
      "image/png": "[encoded data removed]",
      "text/plain": [
       "<Figure size 432x288 with 1 Axes>"
      ]
     },
     "metadata": {
      "needs_background": "light"
     },
     "output_type": "display_data"
    }
   ],
   "source": [
    "import matplotlib.pyplot as plt\n",
    "plt.hist(sent_length , bins = 7)"
   ]
  },
  {
   "cell_type": "code",
   "execution_count": 27,
   "id": "c97ee425",
   "metadata": {},
   "outputs": [
    {
     "name": "stdout",
     "output_type": "stream",
     "text": [
      "55\n"
     ]
    }
   ],
   "source": [
    "# Length under which 55% of data lies\n",
    "len_95_percent = int(np.percentile(sent_length , 95))\n",
    "print(len_95_percent)"
   ]
  },
  {
   "cell_type": "code",
   "execution_count": 28,
   "id": "5628c6a8",
   "metadata": {},
   "outputs": [],
   "source": [
    "# How many words are in our vocabulary? (taken from 3.2 in https://arxiv.org/pdf/1710.06071.pdf)\n",
    "max_tokens = 68000"
   ]
  },
  {
   "cell_type": "code",
   "execution_count": 29,
   "id": "18090bf9",
   "metadata": {},
   "outputs": [],
   "source": [
    "from tensorflow.keras.layers.experimental.preprocessing import TextVectorization\n",
    "\n",
    "text_vectorizer = TextVectorization(max_tokens = max_tokens , output_sequence_length = 55)"
   ]
  },
  {
   "cell_type": "code",
   "execution_count": 30,
   "id": "9e4582a5",
   "metadata": {},
   "outputs": [],
   "source": [
    "text_vectorizer.adapt(train_sentence)"
   ]
  },
  {
   "cell_type": "code",
   "execution_count": 31,
   "id": "ccba5935",
   "metadata": {},
   "outputs": [
    {
     "name": "stdout",
     "output_type": "stream",
     "text": [
      "Text: both nsaids reduced urine flow rate and sodium excretion associated with dobutamine infusion and exercise but had no effect on glomerular filtration rate .\n",
      "Length of Text: 24\n",
      "Vectorized Text: [[  54 4150  191  943  765   78    3  764 2471   81    7 7239  525    3\n",
      "   177   72   55   33   70   18 2270 2123   78    0    0    0    0    0\n",
      "     0    0    0    0    0    0    0    0    0    0    0    0    0    0\n",
      "     0    0    0    0    0    0    0    0    0    0    0    0    0]]\n"
     ]
    }
   ],
   "source": [
    "import random\n",
    "target_sentence = random.choice(train_sentence)\n",
    "print(f'Text: {target_sentence}')\n",
    "print(f'Length of Text: {len(target_sentence.split())}')\n",
    "print(f'Vectorized Text: {text_vectorizer([target_sentence])}')"
   ]
  },
  {
   "cell_type": "code",
   "execution_count": 32,
   "id": "6f69ce9a",
   "metadata": {},
   "outputs": [
    {
     "name": "stdout",
     "output_type": "stream",
     "text": [
      "Number of words in vocabulary: 64841\n",
      "Most common words in the vocabulary: ['', '[UNK]', 'the', 'and', 'of']\n",
      "Least common words in the vocabulary: ['aainduced', 'aaigroup', 'aachener', 'aachen', 'aaacp']\n"
     ]
    }
   ],
   "source": [
    "rct_20k_text_vocab = text_vectorizer.get_vocabulary()\n",
    "print(f\"Number of words in vocabulary: {len(rct_20k_text_vocab)}\"), \n",
    "print(f\"Most common words in the vocabulary: {rct_20k_text_vocab[:5]}\")\n",
    "print(f\"Least common words in the vocabulary: {rct_20k_text_vocab[-5:]}\")"
   ]
  },
  {
   "cell_type": "code",
   "execution_count": 33,
   "id": "177ea76d",
   "metadata": {},
   "outputs": [
    {
     "data": {
      "text/plain": [
       "{'name': 'text_vectorization',\n",
       " 'trainable': True,\n",
       " 'dtype': 'string',\n",
       " 'max_tokens': 68000,\n",
       " 'standardize': 'lower_and_strip_punctuation',\n",
       " 'split': 'whitespace',\n",
       " 'ngrams': None,\n",
       " 'output_mode': 'int',\n",
       " 'output_sequence_length': 55,\n",
       " 'pad_to_max_tokens': False,\n",
       " 'vocabulary_size': 64841}"
      ]
     },
     "execution_count": 33,
     "metadata": {},
     "output_type": "execute_result"
    }
   ],
   "source": [
    "text_vectorizer.get_config()"
   ]
  },
  {
   "cell_type": "code",
   "execution_count": 34,
   "id": "cca5cbb2",
   "metadata": {},
   "outputs": [
    {
     "name": "stdout",
     "output_type": "stream",
     "text": [
      "Sentence before vectorization: \n",
      "both nsaids reduced urine flow rate and sodium excretion associated with dobutamine infusion and exercise but had no effect on glomerular filtration rate .\n",
      "\n",
      "Sentence after Vectorization: \n",
      "[[  54 4150  191  943  765   78    3  764 2471   81    7 7239  525    3\n",
      "   177   72   55   33   70   18 2270 2123   78    0    0    0    0    0\n",
      "     0    0    0    0    0    0    0    0    0    0    0    0    0    0\n",
      "     0    0    0    0    0    0    0    0    0    0    0    0    0]]\n",
      "\n",
      "Sentence after Embedding: \n",
      "[[[ 0.03732328 -0.04081316 -0.03000761 ...  0.00548623  0.02889374\n",
      "    0.03998907]\n",
      "  [-0.01392848 -0.01666921 -0.02207023 ...  0.01770854  0.04308584\n",
      "    0.00811696]\n",
      "  [-0.00203091 -0.02869782 -0.04433347 ...  0.03309682  0.04284379\n",
      "    0.04537267]\n",
      "  ...\n",
      "  [-0.01853166  0.02290901  0.01278274 ... -0.01107211  0.03686712\n",
      "   -0.00169795]\n",
      "  [-0.01853166  0.02290901  0.01278274 ... -0.01107211  0.03686712\n",
      "   -0.00169795]\n",
      "  [-0.01853166  0.02290901  0.01278274 ... -0.01107211  0.03686712\n",
      "   -0.00169795]]]\n",
      "\n",
      "Sentence after shape: \n",
      "(1, 55, 128)\n"
     ]
    }
   ],
   "source": [
    "token_embed = tf.keras.layers.Embedding(input_dim = len(rct_20k_text_vocab) , output_dim = 128 , \n",
    "                                       mask_zero = True , name = 'token_embedding')\n",
    "\n",
    "print(f'Sentence before vectorization: \\n{target_sentence}\\n')\n",
    "vectorized_sentence = text_vectorizer([target_sentence])\n",
    "print(f'Sentence after Vectorization: \\n{vectorized_sentence}\\n')\n",
    "embed_sentence = token_embed(vectorized_sentence)\n",
    "print(f'Sentence after Embedding: \\n{embed_sentence}\\n')\n",
    "print(f'Sentence after shape: \\n{embed_sentence.shape}')"
   ]
  },
  {
   "cell_type": "code",
   "execution_count": 35,
   "id": "9484dc5d",
   "metadata": {},
   "outputs": [
    {
     "data": {
      "text/plain": [
       "<TensorSliceDataset shapes: ((), (5,)), types: (tf.string, tf.float64)>"
      ]
     },
     "execution_count": 35,
     "metadata": {},
     "output_type": "execute_result"
    }
   ],
   "source": [
    "# Turn datasets into tensorflow datasets\n",
    "train_dataset = tf.data.Dataset.from_tensor_slices((train_sentence , train_label_onehot))\n",
    "valid_dataset = tf.data.Dataset.from_tensor_slices((val_sentence , val_label_onehot))\n",
    "test_dataset = tf.data.Dataset.from_tensor_slices((test_sentence , test_label_onehot))\n",
    "\n",
    "train_dataset"
   ]
  },
  {
   "cell_type": "code",
   "execution_count": 36,
   "id": "49bbdc41",
   "metadata": {},
   "outputs": [
    {
     "data": {
      "text/plain": [
       "<PrefetchDataset shapes: ((None,), (None, 5)), types: (tf.string, tf.float64)>"
      ]
     },
     "execution_count": 36,
     "metadata": {},
     "output_type": "execute_result"
    }
   ],
   "source": [
    "# Take the TensorSliceDataset's and turn them into prefetched batches\n",
    "train_dataset = train_dataset.batch(32).prefetch(tf.data.AUTOTUNE)\n",
    "valid_dataset = valid_dataset.batch(32).prefetch(tf.data.AUTOTUNE)\n",
    "test_dataset = test_dataset.batch(32).prefetch(tf.data.AUTOTUNE)\n",
    "\n",
    "train_dataset"
   ]
  },
  {
   "cell_type": "markdown",
   "id": "e17a64c0",
   "metadata": {},
   "source": [
    "## Model - 1(Conv1D)"
   ]
  },
  {
   "cell_type": "code",
   "execution_count": 37,
   "id": "42797fb4",
   "metadata": {},
   "outputs": [],
   "source": [
    "inputs = tf.keras.layers.Input(shape = (1 , ) , dtype = tf.string)\n",
    "text_vectors = text_vectorizer(inputs)\n",
    "token_embedding = token_embed(text_vectors)\n",
    "x = tf.keras.layers.Conv1D(64 , kernel_size = 5 , padding = 'same' , activation = 'relu')(token_embedding)\n",
    "x = tf.keras.layers.GlobalAveragePooling1D()(x)\n",
    "outputs = tf.keras.layers.Dense(num_classes , activation = 'softmax')(x)\n",
    "\n",
    "model_1 = tf.keras.Model(inputs , outputs)\n",
    "model_1.compile(loss = 'categorical_crossentropy' , optimizer = tf.keras.optimizers.Adam() , metrics = ['accuracy'])"
   ]
  },
  {
   "cell_type": "code",
   "execution_count": 38,
   "id": "78d3408e",
   "metadata": {},
   "outputs": [
    {
     "name": "stdout",
     "output_type": "stream",
     "text": [
      "Model: \"model\"\n",
      "_________________________________________________________________\n",
      "Layer (type)                 Output Shape              Param #   \n",
      "=================================================================\n",
      "input_1 (InputLayer)         [(None, 1)]               0         \n",
      "_________________________________________________________________\n",
      "text_vectorization (TextVect (None, 55)                0         \n",
      "_________________________________________________________________\n",
      "token_embedding (Embedding)  (None, 55, 128)           8299648   \n",
      "_________________________________________________________________\n",
      "conv1d (Conv1D)              (None, 55, 64)            41024     \n",
      "_________________________________________________________________\n",
      "global_average_pooling1d (Gl (None, 64)                0         \n",
      "_________________________________________________________________\n",
      "dense (Dense)                (None, 5)                 325       \n",
      "=================================================================\n",
      "Total params: 8,340,997\n",
      "Trainable params: 8,340,997\n",
      "Non-trainable params: 0\n",
      "_________________________________________________________________\n"
     ]
    }
   ],
   "source": [
    "model_1.summary()"
   ]
  },
  {
   "cell_type": "code",
   "execution_count": 39,
   "id": "dc003db1",
   "metadata": {},
   "outputs": [
    {
     "name": "stdout",
     "output_type": "stream",
     "text": [
      "Epoch 1/3\n",
      "562/562 [==============================] - 81s 140ms/step - loss: 0.9167 - accuracy: 0.6361 - val_loss: 0.6850 - val_accuracy: 0.7400\n",
      "Epoch 2/3\n",
      "562/562 [==============================] - 79s 141ms/step - loss: 0.6537 - accuracy: 0.7590 - val_loss: 0.6272 - val_accuracy: 0.7743\n",
      "Epoch 3/3\n",
      "562/562 [==============================] - 80s 142ms/step - loss: 0.6148 - accuracy: 0.7756 - val_loss: 0.5967 - val_accuracy: 0.7842\n"
     ]
    }
   ],
   "source": [
    "# Fit only 10% data & then validate on 10% of data\n",
    "history_1 = model_1.fit(train_dataset , steps_per_epoch = int(0.1 * len(train_dataset)) , epochs = 3 , \n",
    "                       validation_data = valid_dataset , validation_steps = int(0.1 * len(valid_dataset)))"
   ]
  },
  {
   "cell_type": "code",
   "execution_count": 40,
   "id": "62463710",
   "metadata": {},
   "outputs": [
    {
     "name": "stdout",
     "output_type": "stream",
     "text": [
      "945/945 [==============================] - 7s 7ms/step - loss: 0.5968 - accuracy: 0.7861\n"
     ]
    },
    {
     "data": {
      "text/plain": [
       "[0.5967995524406433, 0.7861114740371704]"
      ]
     },
     "execution_count": 40,
     "metadata": {},
     "output_type": "execute_result"
    }
   ],
   "source": [
    "model_1.evaluate(valid_dataset)"
   ]
  },
  {
   "cell_type": "code",
   "execution_count": 41,
   "id": "026a89fe",
   "metadata": {},
   "outputs": [
    {
     "data": {
      "text/plain": [
       "array([[4.38078195e-01, 1.60688117e-01, 7.65758604e-02, 2.98827618e-01,\n",
       "        2.58302335e-02],\n",
       "       [4.75408733e-01, 2.33321533e-01, 1.27171325e-02, 2.70797759e-01,\n",
       "        7.75489723e-03],\n",
       "       [1.41281307e-01, 6.70855166e-03, 1.46045815e-03, 8.50519657e-01,\n",
       "        3.00365373e-05],\n",
       "       [1.28723223e-05, 4.37402312e-04, 9.83023584e-01, 1.07089654e-05,\n",
       "        1.65154450e-02],\n",
       "       [9.73150425e-04, 3.50787938e-02, 3.24612647e-01, 7.23170931e-04,\n",
       "        6.38612270e-01],\n",
       "       [1.89696960e-02, 2.79219821e-02, 5.49506903e-01, 8.54065921e-03,\n",
       "        3.95060748e-01],\n",
       "       [3.91230045e-04, 3.91186774e-03, 2.52719045e-01, 1.83607495e-04,\n",
       "        7.42794275e-01],\n",
       "       [2.55683642e-02, 2.63371952e-02, 6.55237734e-01, 1.16379270e-02,\n",
       "        2.81218886e-01],\n",
       "       [3.58449625e-13, 1.55056199e-08, 1.05045864e-07, 1.45101853e-13,\n",
       "        9.99999881e-01],\n",
       "       [9.28479433e-03, 7.49283552e-01, 4.13402990e-02, 2.10455637e-02,\n",
       "        1.79045677e-01]], dtype=float32)"
      ]
     },
     "execution_count": 41,
     "metadata": {},
     "output_type": "execute_result"
    }
   ],
   "source": [
    "model_1_pred_prob = model_1.predict(valid_dataset)\n",
    "model_1_pred_prob[:10]"
   ]
  },
  {
   "cell_type": "code",
   "execution_count": 42,
   "id": "4a0a8b5f",
   "metadata": {},
   "outputs": [
    {
     "data": {
      "text/plain": [
       "<tf.Tensor: shape=(10,), dtype=int64, numpy=array([0, 0, 3, 2, 4, 2, 4, 2, 4, 1], dtype=int64)>"
      ]
     },
     "execution_count": 42,
     "metadata": {},
     "output_type": "execute_result"
    }
   ],
   "source": [
    "model_1_pred = tf.argmax(model_1_pred_prob , axis = 1)\n",
    "model_1_pred[:10]"
   ]
  },
  {
   "cell_type": "code",
   "execution_count": 43,
   "id": "f32ad199",
   "metadata": {},
   "outputs": [
    {
     "name": "stdout",
     "output_type": "stream",
     "text": [
      "{'Accuracy': 0.7861114788825633, 'Precision': 0.7830556751148493, 'Recall': 0.7861114788825633, 'F1 Score': 0.7833191111931113}\n"
     ]
    }
   ],
   "source": [
    "model_1_results = calculate_result(val_label , model_1_pred)\n",
    "print(model_1_results)"
   ]
  },
  {
   "cell_type": "code",
   "execution_count": 44,
   "id": "981e992b",
   "metadata": {},
   "outputs": [],
   "source": [
    "def comparator_function(baseline_results , new_model_results):\n",
    "    for key , value in baseline_results.items():\n",
    "        print(f'Baseline {key} : {value:.2f} , New {key} : {new_model_results[key]:.2f} , Difference : {new_model_results[key] - value:.2f}')"
   ]
  },
  {
   "cell_type": "code",
   "execution_count": 45,
   "id": "44a742a1",
   "metadata": {},
   "outputs": [
    {
     "name": "stdout",
     "output_type": "stream",
     "text": [
      "Baseline Accuracy : 0.72 , New Accuracy : 0.79 , Difference : 0.06\n",
      "Baseline Precision : 0.72 , New Precision : 0.78 , Difference : 0.06\n",
      "Baseline Recall : 0.72 , New Recall : 0.79 , Difference : 0.06\n",
      "Baseline F1 Score : 0.70 , New F1 Score : 0.78 , Difference : 0.08\n"
     ]
    }
   ],
   "source": [
    "comparator_function(baseline_results , model_1_results)"
   ]
  },
  {
   "cell_type": "markdown",
   "id": "93b69acf",
   "metadata": {},
   "source": [
    "## Model - 2 (Using Pre-trained Embedding layer)"
   ]
  },
  {
   "cell_type": "code",
   "execution_count": 46,
   "id": "b69c35ad",
   "metadata": {},
   "outputs": [],
   "source": [
    "# As we have seen our model are taking a long to train model\n",
    "# So, now we are just going to import pretrained models\n",
    "import tensorflow_hub as hub\n",
    "tf_hub_embedding_layer = hub.KerasLayer(\"https://tfhub.dev/google/universal-sentence-encoder/4\",\n",
    "                                        trainable=False,\n",
    "                                        name=\"universal_sentence_encoder\")"
   ]
  },
  {
   "cell_type": "code",
   "execution_count": 47,
   "id": "92c39147",
   "metadata": {},
   "outputs": [
    {
     "name": "stdout",
     "output_type": "stream",
     "text": [
      "Original Sentence: \n",
      "both nsaids reduced urine flow rate and sodium excretion associated with dobutamine infusion and exercise but had no effect on glomerular filtration rate .\n",
      "\n",
      "Sentence after Embedding: \n",
      "[[-0.03628267 -0.03457742 -0.00594233 -0.05035309  0.03963969 -0.00560504\n",
      "   0.05061338 -0.0665879   0.02417002  0.05720924  0.07615841 -0.01585705\n",
      "  -0.00713304  0.02780947 -0.05933351 -0.04796997 -0.07708652  0.06083098\n",
      "   0.01801686  0.05819071  0.00383059  0.04663662  0.04737812 -0.06490146\n",
      "   0.05101686 -0.06265462  0.06173467  0.03610799 -0.06479242 -0.00360954\n",
      "  -0.01230785  0.07781222 -0.04938849  0.04506385 -0.01358165 -0.05319095\n",
      "   0.05486546 -0.04204212 -0.02631875  0.05551073  0.05491883  0.04304826\n",
      "   0.02981741  0.01625711  0.06071406  0.0497753  -0.00840858  0.05412494\n",
      "   0.06784321  0.02412618 -0.05540965 -0.02297566 -0.05056119  0.04101723\n",
      "  -0.03570333  0.01916938  0.0032175  -0.01974642  0.06088658 -0.00353389\n",
      "  -0.01639154  0.0642509   0.05436966  0.04967099  0.01921934 -0.04313338\n",
      "  -0.02836749  0.0544775  -0.01908862 -0.06788299  0.04592275 -0.02313481\n",
      "   0.04679118 -0.02721252 -0.03287243 -0.01945546  0.00743461  0.05030107\n",
      "   0.02321334  0.01771132 -0.03652956  0.01899569  0.05290247  0.05626371\n",
      "  -0.04319866  0.04384167  0.06015932  0.00430495  0.0108374   0.0109591\n",
      "  -0.01229496  0.04600067 -0.01728166 -0.00839982 -0.07381354  0.03452513\n",
      "   0.0051563  -0.04161768  0.04166157 -0.04503128 -0.0138055  -0.00872503\n",
      "   0.07050725  0.03540834  0.05794257 -0.07140458  0.04779015  0.04337228\n",
      "   0.06076871 -0.04237871 -0.0143673  -0.03856864  0.05764526 -0.05760837\n",
      "  -0.06578908 -0.01419827  0.05610906 -0.05952192  0.04919917  0.02078767\n",
      "   0.0467008  -0.05872332 -0.06743044  0.06986748  0.01356613 -0.05256486\n",
      "  -0.06515693  0.01781718  0.0404029  -0.06046572  0.00317192  0.07837864\n",
      "   0.03294905 -0.03097082 -0.05283713  0.01883744  0.06665616 -0.07499333\n",
      "  -0.05863373 -0.05597227 -0.0306495   0.04031775 -0.03447751  0.04365538\n",
      "  -0.02804589  0.06029296  0.02251016 -0.07751742 -0.04975061 -0.02774261\n",
      "   0.06654776 -0.03309374 -0.06237365 -0.07491408  0.07813732  0.02976174\n",
      "  -0.02297524  0.01478846 -0.0670169   0.03179991  0.03597791 -0.00378289\n",
      "  -0.06691805  0.06448877  0.04261869 -0.03609351 -0.06702608  0.01874746\n",
      "   0.05099584  0.04501062 -0.05721435 -0.07037666  0.01923741 -0.07574166\n",
      "   0.05461283 -0.01126304 -0.01831239  0.01284168  0.01282948 -0.00576359\n",
      "  -0.06606667  0.04582981 -0.05770165  0.0422786  -0.00212555  0.03219302\n",
      "   0.07672345 -0.00912594  0.06299367  0.00960803 -0.04583648 -0.01058117\n",
      "  -0.05247439  0.04400684  0.05823756  0.02500189  0.02946884 -0.06698749\n",
      "   0.03633616 -0.05887241 -0.00211895 -0.03141431 -0.07710355  0.05275751\n",
      "  -0.07538743 -0.04484526  0.03275636 -0.02144151 -0.0370742   0.04956268\n",
      "  -0.0456621  -0.06439512 -0.07435064 -0.02754839 -0.00270098 -0.0070646\n",
      "  -0.03365382 -0.03819236  0.0613912  -0.07389747 -0.00663755 -0.01752739\n",
      "  -0.02135596 -0.00188997  0.00832533  0.06254097  0.00931407  0.03668188\n",
      "   0.06729132 -0.02735404  0.05099539  0.07267122 -0.00451264 -0.0614745\n",
      "  -0.03695423 -0.01928747  0.04927523  0.04430041 -0.02785216  0.06328237\n",
      "   0.02410048 -0.0083697  -0.06999711 -0.04827749 -0.03549195 -0.05384534\n",
      "  -0.00343021  0.03681945 -0.0161516  -0.07356831 -0.05398301  0.02007549\n",
      "   0.0507437  -0.00208947  0.06359637 -0.05494266 -0.05632123  0.0439197\n",
      "  -0.05947408 -0.01419246  0.01514619 -0.06328578 -0.04893064 -0.02541096\n",
      "   0.00829209  0.02768664  0.02465813  0.058781   -0.01427038  0.03220129\n",
      "  -0.02196311 -0.00915695  0.03945514 -0.0638499  -0.00878351 -0.05562838\n",
      "  -0.05277652 -0.06586356  0.06010275 -0.06477059  0.03203869  0.01334988\n",
      "   0.00403625  0.06992102  0.05188969 -0.02111785  0.01592034  0.06564475\n",
      "   0.02637622  0.00744     0.07593709 -0.00540828  0.04421915 -0.01309744\n",
      "  -0.02942204  0.00326989 -0.01627671 -0.06242213  0.02648734  0.01636874\n",
      "   0.02486912 -0.0344475  -0.04110295 -0.05775928 -0.02313001  0.02347599\n",
      "  -0.06717646  0.03036408  0.05593511  0.05002091 -0.07522504 -0.06391022\n",
      "   0.01704645 -0.06188202 -0.00139525 -0.0500291  -0.01416027  0.03783263\n",
      "  -0.0284187  -0.04998931  0.01410706 -0.03215732  0.00087395  0.06466193\n",
      "   0.04026963 -0.07364918 -0.05833792 -0.06254353 -0.04792144 -0.02045545\n",
      "  -0.0669306  -0.06924853 -0.01249455  0.02275052  0.05608697  0.05766737\n",
      "  -0.0369288   0.0102181  -0.00833722  0.03745672  0.01657718  0.00956655\n",
      "  -0.03512502 -0.03342131 -0.07230951 -0.07840835  0.00901604 -0.06322311\n",
      "  -0.03326983 -0.0061155  -0.05878818  0.05593833 -0.0604167   0.00030769\n",
      "   0.02582418 -0.01610942 -0.07030726 -0.02557625 -0.05142951 -0.02324637\n",
      "   0.03428164 -0.05587684 -0.07025376 -0.06946997  0.05299634 -0.00858463\n",
      "   0.03965466  0.0712051  -0.05392881  0.00641733 -0.03696714 -0.00261452\n",
      "  -0.07104435 -0.07824709  0.01187978 -0.03183476  0.01640662 -0.01850782\n",
      "  -0.02009625 -0.02351702 -0.0655586   0.00964028 -0.01069025 -0.03532258\n",
      "   0.07551195 -0.04231136  0.03600265  0.04419657 -0.04431441  0.01012665\n",
      "   0.05048408 -0.00627291 -0.02680625 -0.05356669  0.07003501 -0.04824527\n",
      "   0.03756901  0.02365984  0.00987443 -0.01562416  0.06665795 -0.02182429\n",
      "  -0.00739301  0.03834891  0.02521411 -0.06568895  0.03591396 -0.03903536\n",
      "   0.04337744 -0.01234392 -0.02981228 -0.02313996  0.0439417   0.03468923\n",
      "  -0.04382684 -0.0036312   0.03317844 -0.04083248  0.04720196 -0.06883284\n",
      "  -0.04416062 -0.05606298 -0.04337401  0.01296942 -0.06269516 -0.05266678\n",
      "   0.0317426   0.06855551  0.06016549 -0.00449368 -0.0303778   0.00258818\n",
      "   0.05228309  0.02138942 -0.04340072 -0.02840946 -0.05311065  0.02897202\n",
      "   0.00829647  0.01982846 -0.00442296 -0.02374848 -0.04345419  0.06401726\n",
      "   0.03084973 -0.06707074 -0.00940421 -0.05712093 -0.07221697  0.02035321\n",
      "   0.07174873 -0.04412434 -0.02301646  0.02901111 -0.03882203 -0.01561333\n",
      "  -0.07411983 -0.04690604  0.01303298 -0.01443821  0.05576848 -0.0209795\n",
      "  -0.06676432 -0.06342738  0.00723712 -0.05417266 -0.04700262  0.0569691\n",
      "  -0.06462695 -0.02191383 -0.06869303  0.06792539 -0.02764206  0.00591423\n",
      "  -0.05057528  0.01883104 -0.02744036 -0.0280922   0.02635606  0.02096429\n",
      "   0.01503756  0.02120837 -0.00569826 -0.03152126 -0.0004096  -0.01429706\n",
      "  -0.02042702 -0.00244341  0.05834033  0.00454635  0.02766737  0.03939066\n",
      "   0.00479548 -0.04776132  0.04925809  0.05365395  0.0627289  -0.01705243\n",
      "   0.0230967   0.05998124 -0.00842571 -0.01557338  0.02657988 -0.03461286\n",
      "   0.06209617 -0.07813019  0.03994643  0.0112278   0.06144515 -0.01197762\n",
      "  -0.06508952  0.01713374]]\n",
      "\n",
      "Sentence after shape: \n",
      "(1, 512)\n"
     ]
    }
   ],
   "source": [
    "print(f'Original Sentence: \\n{target_sentence}\\n')\n",
    "embed_sentence = tf_hub_embedding_layer([target_sentence])\n",
    "print(f'Sentence after Embedding: \\n{embed_sentence}\\n')\n",
    "print(f'Sentence after shape: \\n{embed_sentence.shape}')"
   ]
  },
  {
   "cell_type": "code",
   "execution_count": 48,
   "id": "2bfc92e2",
   "metadata": {},
   "outputs": [],
   "source": [
    "inputs = tf.keras.layers.Input(shape = [] , dtype = tf.string)\n",
    "embedding = tf_hub_embedding_layer(inputs)\n",
    "x = tf.keras.layers.Dense(128 , activation = 'relu')(embedding)\n",
    "outputs = tf.keras.layers.Dense(5 , activation= 'softmax')(x)\n",
    "\n",
    "model_2 = tf.keras.Model(inputs , outputs)\n",
    "\n",
    "model_2.compile(loss = 'categorical_crossentropy' , optimizer = tf.keras.optimizers.Adam() , metrics = ['accuracy'])"
   ]
  },
  {
   "cell_type": "code",
   "execution_count": 49,
   "id": "79116d27",
   "metadata": {},
   "outputs": [
    {
     "name": "stdout",
     "output_type": "stream",
     "text": [
      "Model: \"model_1\"\n",
      "_________________________________________________________________\n",
      "Layer (type)                 Output Shape              Param #   \n",
      "=================================================================\n",
      "input_2 (InputLayer)         [(None,)]                 0         \n",
      "_________________________________________________________________\n",
      "universal_sentence_encoder ( (None, 512)               256797824 \n",
      "_________________________________________________________________\n",
      "dense_1 (Dense)              (None, 128)               65664     \n",
      "_________________________________________________________________\n",
      "dense_2 (Dense)              (None, 5)                 645       \n",
      "=================================================================\n",
      "Total params: 256,864,133\n",
      "Trainable params: 66,309\n",
      "Non-trainable params: 256,797,824\n",
      "_________________________________________________________________\n"
     ]
    }
   ],
   "source": [
    "model_2.summary()"
   ]
  },
  {
   "cell_type": "code",
   "execution_count": 50,
   "id": "4ec3701b",
   "metadata": {},
   "outputs": [
    {
     "name": "stdout",
     "output_type": "stream",
     "text": [
      "Epoch 1/3\n",
      "562/562 [==============================] - 18s 21ms/step - loss: 0.9180 - accuracy: 0.6496 - val_loss: 0.8001 - val_accuracy: 0.6888\n",
      "Epoch 2/3\n",
      "562/562 [==============================] - 10s 18ms/step - loss: 0.7682 - accuracy: 0.7029 - val_loss: 0.7560 - val_accuracy: 0.7056\n",
      "Epoch 3/3\n",
      "562/562 [==============================] - 13s 23ms/step - loss: 0.7502 - accuracy: 0.7137 - val_loss: 0.7396 - val_accuracy: 0.7135\n"
     ]
    }
   ],
   "source": [
    "history_2 = model_2.fit(train_dataset , steps_per_epoch = (0.1 * len(train_dataset)) , epochs = 3 , \n",
    "                       validation_data = valid_dataset , validation_steps = (0.1 * len(valid_dataset)))"
   ]
  },
  {
   "cell_type": "code",
   "execution_count": 51,
   "id": "eef694f4",
   "metadata": {},
   "outputs": [
    {
     "name": "stdout",
     "output_type": "stream",
     "text": [
      "945/945 [==============================] - 16s 17ms/step - loss: 0.7377 - accuracy: 0.7146\n"
     ]
    },
    {
     "data": {
      "text/plain": [
       "[0.7377347946166992, 0.7145836353302002]"
      ]
     },
     "execution_count": 51,
     "metadata": {},
     "output_type": "execute_result"
    }
   ],
   "source": [
    "model_2.evaluate(valid_dataset)"
   ]
  },
  {
   "cell_type": "code",
   "execution_count": 52,
   "id": "70cc7532",
   "metadata": {},
   "outputs": [
    {
     "data": {
      "text/plain": [
       "array([[4.28608984e-01, 3.52688730e-01, 2.94512906e-03, 2.07178965e-01,\n",
       "        8.57819431e-03],\n",
       "       [3.69302034e-01, 4.66648102e-01, 4.81212279e-03, 1.55633107e-01,\n",
       "        3.60458437e-03],\n",
       "       [2.37338632e-01, 1.33527920e-01, 1.67619493e-02, 5.76161861e-01,\n",
       "        3.62096094e-02],\n",
       "       [1.31664546e-02, 4.60698381e-02, 8.12298954e-01, 8.86905938e-03,\n",
       "        1.19595654e-01],\n",
       "       [3.39222401e-02, 2.32863769e-01, 2.87224650e-01, 1.26876310e-02,\n",
       "        4.33301628e-01],\n",
       "       [9.56578762e-04, 2.05316744e-03, 6.82428718e-01, 1.12844005e-04,\n",
       "        3.14448714e-01],\n",
       "       [1.72771048e-03, 3.04535567e-03, 7.12523997e-01, 1.05034257e-03,\n",
       "        2.81652600e-01],\n",
       "       [4.42187209e-03, 2.44377665e-02, 4.30697113e-01, 1.07054936e-03,\n",
       "        5.39372623e-01],\n",
       "       [7.48391438e-04, 6.60938304e-03, 2.42198203e-02, 1.27894164e-03,\n",
       "        9.67143476e-01],\n",
       "       [1.38074666e-01, 6.79246008e-01, 2.62717512e-02, 8.49169269e-02,\n",
       "        7.14906305e-02]], dtype=float32)"
      ]
     },
     "execution_count": 52,
     "metadata": {},
     "output_type": "execute_result"
    }
   ],
   "source": [
    "model_2_pred_prob = model_2.predict(valid_dataset)\n",
    "model_2_pred_prob[:10]"
   ]
  },
  {
   "cell_type": "code",
   "execution_count": 53,
   "id": "3f9b4c85",
   "metadata": {},
   "outputs": [
    {
     "data": {
      "text/plain": [
       "<tf.Tensor: shape=(10,), dtype=int64, numpy=array([0, 1, 3, 2, 4, 2, 2, 4, 4, 1], dtype=int64)>"
      ]
     },
     "execution_count": 53,
     "metadata": {},
     "output_type": "execute_result"
    }
   ],
   "source": [
    "model_2_pred = tf.argmax(model_2_pred_prob , axis = 1)\n",
    "model_2_pred[:10]"
   ]
  },
  {
   "cell_type": "code",
   "execution_count": 54,
   "id": "8c819080",
   "metadata": {},
   "outputs": [
    {
     "name": "stdout",
     "output_type": "stream",
     "text": [
      "{'Accuracy': 0.7145836091619224, 'Precision': 0.7151163750002621, 'Recall': 0.7145836091619224, 'F1 Score': 0.7117703122611438}\n"
     ]
    }
   ],
   "source": [
    "model_2_results = calculate_result(val_label , model_2_pred)\n",
    "print(model_2_results)"
   ]
  },
  {
   "cell_type": "code",
   "execution_count": 55,
   "id": "ceea1537",
   "metadata": {},
   "outputs": [
    {
     "name": "stdout",
     "output_type": "stream",
     "text": [
      "Baseline Accuracy : 0.72 , New Accuracy : 0.71 , Difference : -0.01\n",
      "Baseline Precision : 0.72 , New Precision : 0.72 , Difference : -0.00\n",
      "Baseline Recall : 0.72 , New Recall : 0.71 , Difference : -0.01\n",
      "Baseline F1 Score : 0.70 , New F1 Score : 0.71 , Difference : 0.01\n"
     ]
    }
   ],
   "source": [
    "comparator_function(baseline_results , model_2_results)"
   ]
  },
  {
   "cell_type": "markdown",
   "id": "419fdda9",
   "metadata": {},
   "source": [
    "## Model - 3 (Conv1D with Character Embedding)"
   ]
  },
  {
   "cell_type": "code",
   "execution_count": 56,
   "id": "1ac90da3",
   "metadata": {},
   "outputs": [
    {
     "data": {
      "text/plain": [
       "'b o t h   n s a i d s   r e d u c e d   u r i n e   f l o w   r a t e   a n d   s o d i u m   e x c r e t i o n   a s s o c i a t e d   w i t h   d o b u t a m i n e   i n f u s i o n   a n d   e x e r c i s e   b u t   h a d   n o   e f f e c t   o n   g l o m e r u l a r   f i l t r a t i o n   r a t e   .'"
      ]
     },
     "execution_count": 56,
     "metadata": {},
     "output_type": "execute_result"
    }
   ],
   "source": [
    "# Make function to split sentences into characters\n",
    "def split_chars(text):\n",
    "  return \" \".join(list(text))\n",
    "\n",
    "# Test splitting non-character-level sequence into characters\n",
    "split_chars(target_sentence)"
   ]
  },
  {
   "cell_type": "code",
   "execution_count": 57,
   "id": "fb9fdc94",
   "metadata": {},
   "outputs": [
    {
     "name": "stdout",
     "output_type": "stream",
     "text": [
      "t o   i n v e s t i g a t e   t h e   e f f i c a c y   o f   @   w e e k s   o f   d a i l y   l o w - d o s e   o r a l   p r e d n i s o l o n e   i n   i m p r o v i n g   p a i n   ,   m o b i l i t y   ,   a n d   s y s t e m i c   l o w - g r a d e   i n f l a m m a t i o n   i n   t h e   s h o r t   t e r m   a n d   w h e t h e r   t h e   e f f e c t   w o u l d   b e   s u s t a i n e d   a t   @   w e e k s   i n   o l d e r   a d u l t s   w i t h   m o d e r a t e   t o   s e v e r e   k n e e   o s t e o a r t h r i t i s   (   o a   )   .\n"
     ]
    }
   ],
   "source": [
    "train_chars = [split_chars(sentence) for sentence in train_sentence]\n",
    "valid_chars = [split_chars(sentence) for sentence in val_sentence]\n",
    "test_chars = [split_chars(sentence) for sentence in test_sentence]\n",
    "\n",
    "print(train_chars[0])"
   ]
  },
  {
   "cell_type": "code",
   "execution_count": 58,
   "id": "be151c95",
   "metadata": {},
   "outputs": [
    {
     "name": "stdout",
     "output_type": "stream",
     "text": [
      "149.3662574983337\n"
     ]
    }
   ],
   "source": [
    "chars_lens = [len(sentence) for sentence in train_sentence]\n",
    "mean_char_length = np.mean(chars_lens)\n",
    "print(mean_char_length)"
   ]
  },
  {
   "cell_type": "code",
   "execution_count": 59,
   "id": "644bb275",
   "metadata": {},
   "outputs": [
    {
     "data": {
      "image/png": "[encoded data removed]",
      "text/plain": [
       "<Figure size 432x288 with 1 Axes>"
      ]
     },
     "metadata": {
      "needs_background": "light"
     },
     "output_type": "display_data"
    }
   ],
   "source": [
    "plt.hist(chars_lens, bins=7);"
   ]
  },
  {
   "cell_type": "code",
   "execution_count": 60,
   "id": "ad1ba088",
   "metadata": {},
   "outputs": [
    {
     "data": {
      "text/plain": [
       "290"
      ]
     },
     "execution_count": 60,
     "metadata": {},
     "output_type": "execute_result"
    }
   ],
   "source": [
    "output_seq_char_len = int(np.percentile(chars_lens, 95))\n",
    "output_seq_char_len"
   ]
  },
  {
   "cell_type": "code",
   "execution_count": 61,
   "id": "771eb4df",
   "metadata": {
    "scrolled": true
   },
   "outputs": [
    {
     "name": "stdout",
     "output_type": "stream",
     "text": [
      "abcdefghijklmnopqrstuvwxyz0123456789!\"#$%&'()*+,-./:;<=>?@[\\]^_`{|}~\n"
     ]
    }
   ],
   "source": [
    "import string\n",
    "alphabet = string.ascii_lowercase + string.digits + string.punctuation\n",
    "print(alphabet)"
   ]
  },
  {
   "cell_type": "code",
   "execution_count": 62,
   "id": "8b194490",
   "metadata": {},
   "outputs": [],
   "source": [
    "Num_char_tokens = len(alphabet) + 2\n",
    "char_vectorizer = TextVectorization(max_tokens=Num_char_tokens,  \n",
    "                                    output_sequence_length=output_seq_char_len,\n",
    "                                    standardize=\"lower_and_strip_punctuation\",\n",
    "                                    name=\"char_vectorizer\")\n",
    "\n",
    "char_vectorizer.adapt(train_chars)"
   ]
  },
  {
   "cell_type": "code",
   "execution_count": 63,
   "id": "b7a85fab",
   "metadata": {},
   "outputs": [
    {
     "name": "stdout",
     "output_type": "stream",
     "text": [
      "Number of different characters in character vocab: 28\n",
      "5 most common characters: ['', '[UNK]', 'e', 't', 'i']\n",
      "5 least common characters: ['k', 'x', 'z', 'q', 'j']\n"
     ]
    }
   ],
   "source": [
    "char_vocab = char_vectorizer.get_vocabulary()\n",
    "print(f\"Number of different characters in character vocab: {len(char_vocab)}\")\n",
    "print(f\"5 most common characters: {char_vocab[:5]}\")\n",
    "print(f\"5 least common characters: {char_vocab[-5:]}\")"
   ]
  },
  {
   "cell_type": "code",
   "execution_count": 64,
   "id": "c7bfaed8",
   "metadata": {},
   "outputs": [
    {
     "name": "stdout",
     "output_type": "stream",
     "text": [
      "Charified text:\n",
      "p r o g r e s s i o n   t o   a d v a n c e d   a m d   w a s   a n a l y z e d   b y   g e n o t y p e   a n d   t r e a t m e n t   u s i n g   c o x   p r o p o r t i o n a t e   h a z a r d s   e s t i m a t e s   a n d   @ - y e a r   e v e n t s   .\n",
      "\n",
      "Length of chars: 110\n",
      "\n",
      "Vectorized chars:\n",
      "[[14  8  7 18  8  2  9  9  4  7  6  3  7  5 10 21  5  6 11  2 10  5 15 10\n",
      "  20  5  9  5  6  5 12 19 25  2 10 22 19 18  2  6  7  3 19 14  2  5  6 10\n",
      "   3  8  2  5  3 15  2  6  3 16  9  4  6 18 11  7 24 14  8  7 14  7  8  3\n",
      "   4  7  6  5  3  2 13  5 25  5  8 10  9  2  9  3  4 15  5  3  2  9  5  6\n",
      "  10 19  2  5  8  2 21  2  6  3  9  0  0  0  0  0  0  0  0  0  0  0  0  0\n",
      "   0  0  0  0  0  0  0  0  0  0  0  0  0  0  0  0  0  0  0  0  0  0  0  0\n",
      "   0  0  0  0  0  0  0  0  0  0  0  0  0  0  0  0  0  0  0  0  0  0  0  0\n",
      "   0  0  0  0  0  0  0  0  0  0  0  0  0  0  0  0  0  0  0  0  0  0  0  0\n",
      "   0  0  0  0  0  0  0  0  0  0  0  0  0  0  0  0  0  0  0  0  0  0  0  0\n",
      "   0  0  0  0  0  0  0  0  0  0  0  0  0  0  0  0  0  0  0  0  0  0  0  0\n",
      "   0  0  0  0  0  0  0  0  0  0  0  0  0  0  0  0  0  0  0  0  0  0  0  0\n",
      "   0  0  0  0  0  0  0  0  0  0  0  0  0  0  0  0  0  0  0  0  0  0  0  0\n",
      "   0  0]]\n",
      "\n",
      "Length of vectorized chars: 290\n"
     ]
    }
   ],
   "source": [
    "random_train_chars = random.choice(train_chars)\n",
    "print(f\"Charified text:\\n{random_train_chars}\")\n",
    "print(f\"\\nLength of chars: {len(random_train_chars.split())}\")\n",
    "vectorized_chars = char_vectorizer([random_train_chars])\n",
    "print(f\"\\nVectorized chars:\\n{vectorized_chars}\")\n",
    "print(f\"\\nLength of vectorized chars: {len(vectorized_chars[0])}\")"
   ]
  },
  {
   "cell_type": "code",
   "execution_count": 65,
   "id": "95c83322",
   "metadata": {},
   "outputs": [
    {
     "name": "stdout",
     "output_type": "stream",
     "text": [
      "Charified text (before vectorization and embedding):\n",
      "p r o g r e s s i o n   t o   a d v a n c e d   a m d   w a s   a n a l y z e d   b y   g e n o t y p e   a n d   t r e a t m e n t   u s i n g   c o x   p r o p o r t i o n a t e   h a z a r d s   e s t i m a t e s   a n d   @ - y e a r   e v e n t s   .\n",
      "\n",
      "Embedded chars (after vectorization and embedding):\n",
      "[[[ 0.03747039  0.03107044  0.03118913 ...  0.01203393  0.03546928\n",
      "   -0.00542027]\n",
      "  [-0.02541127  0.02587204 -0.04962556 ...  0.03905273  0.03490932\n",
      "    0.00014862]\n",
      "  [-0.00788705  0.02950049  0.02954164 ... -0.03813249 -0.01912831\n",
      "    0.03893479]\n",
      "  ...\n",
      "  [-0.00869967  0.04230685 -0.03730805 ...  0.04171035 -0.00617158\n",
      "   -0.02959988]\n",
      "  [-0.00869967  0.04230685 -0.03730805 ...  0.04171035 -0.00617158\n",
      "   -0.02959988]\n",
      "  [-0.00869967  0.04230685 -0.03730805 ...  0.04171035 -0.00617158\n",
      "   -0.02959988]]]\n",
      "\n",
      "Character embedding shape: (1, 290, 25)\n"
     ]
    }
   ],
   "source": [
    "char_embed = tf.keras.layers.Embedding(input_dim=Num_char_tokens, # number of different characters\n",
    "                              output_dim=25, # embedding dimension of each character (same as Figure 1 in https://arxiv.org/pdf/1612.05251.pdf)\n",
    "                              mask_zero=True,\n",
    "                              name=\"char_embed\")\n",
    "\n",
    "# Test out character embedding layer\n",
    "print(f\"Charified text (before vectorization and embedding):\\n{random_train_chars}\\n\")\n",
    "char_embed_example = char_embed(char_vectorizer([random_train_chars]))\n",
    "print(f\"Embedded chars (after vectorization and embedding):\\n{char_embed_example}\\n\")\n",
    "print(f\"Character embedding shape: {char_embed_example.shape}\")"
   ]
  },
  {
   "cell_type": "code",
   "execution_count": 66,
   "id": "46ec127d",
   "metadata": {},
   "outputs": [],
   "source": [
    "inputs = tf.keras.layers.Input(shape = (1 , ) , dtype = tf.string)\n",
    "char_vectors = char_vectorizer(inputs)\n",
    "char_embedding = char_embed(char_vectors)\n",
    "x = tf.keras.layers.Conv1D(64 , kernel_size = 5 , padding = 'same' , activation = 'relu')(char_embedding)\n",
    "x = tf.keras.layers.GlobalMaxPool1D()(x)\n",
    "outputs = tf.keras.layers.Dense(num_classes , activation = 'softmax')(x)\n",
    "\n",
    "model_3 = tf.keras.Model(inputs , outputs , name = 'Model_3_Conv1D_CharEmbedding')\n",
    "\n",
    "model_3.compile(loss = 'categorical_crossentropy' , optimizer = tf.keras.optimizers.Adam() , metrics = ['accuracy'])"
   ]
  },
  {
   "cell_type": "code",
   "execution_count": 67,
   "id": "ca9c03e6",
   "metadata": {},
   "outputs": [
    {
     "name": "stdout",
     "output_type": "stream",
     "text": [
      "Model: \"Model_3_Conv1D_CharEmbedding\"\n",
      "_________________________________________________________________\n",
      "Layer (type)                 Output Shape              Param #   \n",
      "=================================================================\n",
      "input_3 (InputLayer)         [(None, 1)]               0         \n",
      "_________________________________________________________________\n",
      "char_vectorizer (TextVectori (None, 290)               0         \n",
      "_________________________________________________________________\n",
      "char_embed (Embedding)       (None, 290, 25)           1750      \n",
      "_________________________________________________________________\n",
      "conv1d_1 (Conv1D)            (None, 290, 64)           8064      \n",
      "_________________________________________________________________\n",
      "global_max_pooling1d (Global (None, 64)                0         \n",
      "_________________________________________________________________\n",
      "dense_3 (Dense)              (None, 5)                 325       \n",
      "=================================================================\n",
      "Total params: 10,139\n",
      "Trainable params: 10,139\n",
      "Non-trainable params: 0\n",
      "_________________________________________________________________\n"
     ]
    }
   ],
   "source": [
    "model_3.summary()"
   ]
  },
  {
   "cell_type": "code",
   "execution_count": 68,
   "id": "48893523",
   "metadata": {},
   "outputs": [
    {
     "data": {
      "text/plain": [
       "<PrefetchDataset shapes: ((None,), (None, 5)), types: (tf.string, tf.float64)>"
      ]
     },
     "execution_count": 68,
     "metadata": {},
     "output_type": "execute_result"
    }
   ],
   "source": [
    "train_char_dataset = tf.data.Dataset.from_tensor_slices((train_chars , train_label_onehot)).batch(32).prefetch(tf.data.AUTOTUNE)\n",
    "val_char_dataset = tf.data.Dataset.from_tensor_slices((valid_chars , val_label_onehot)).batch(32).prefetch(tf.data.AUTOTUNE)\n",
    "\n",
    "train_char_dataset"
   ]
  },
  {
   "cell_type": "code",
   "execution_count": 69,
   "id": "1371b63e",
   "metadata": {},
   "outputs": [
    {
     "name": "stdout",
     "output_type": "stream",
     "text": [
      "Epoch 1/3\n",
      "562/562 [==============================] - 14s 22ms/step - loss: 1.2591 - accuracy: 0.4917 - val_loss: 1.0461 - val_accuracy: 0.5824\n",
      "Epoch 2/3\n",
      "562/562 [==============================] - 13s 24ms/step - loss: 1.0126 - accuracy: 0.5954 - val_loss: 0.9417 - val_accuracy: 0.6233\n",
      "Epoch 3/3\n",
      "562/562 [==============================] - 13s 24ms/step - loss: 0.9330 - accuracy: 0.6287 - val_loss: 0.8695 - val_accuracy: 0.6582\n"
     ]
    }
   ],
   "source": [
    "history_3 = model_3.fit(train_char_dataset , steps_per_epoch = int(0.1 * len(train_char_dataset)) , epochs = 3 ,\n",
    "                       validation_data = val_char_dataset , validation_steps = int(0.1 * len(val_char_dataset)))"
   ]
  },
  {
   "cell_type": "code",
   "execution_count": 70,
   "id": "167001b2",
   "metadata": {},
   "outputs": [
    {
     "name": "stdout",
     "output_type": "stream",
     "text": [
      "945/945 [==============================] - 8s 9ms/step - loss: 0.8933 - accuracy: 0.6521\n"
     ]
    },
    {
     "data": {
      "text/plain": [
       "[0.893330991268158, 0.6521250009536743]"
      ]
     },
     "execution_count": 70,
     "metadata": {},
     "output_type": "execute_result"
    }
   ],
   "source": [
    "model_3.evaluate(val_char_dataset)"
   ]
  },
  {
   "cell_type": "code",
   "execution_count": 71,
   "id": "645f3c16",
   "metadata": {},
   "outputs": [
    {
     "name": "stdout",
     "output_type": "stream",
     "text": [
      "[[9.9517368e-02 2.9386184e-01 2.0932768e-01 3.3443066e-01 6.2862441e-02]\n",
      " [1.6420479e-01 2.6514044e-01 1.3974559e-01 2.4909742e-01 1.8181175e-01]\n",
      " [1.1418172e-01 2.2380735e-01 1.9008204e-01 3.8989642e-01 8.2032472e-02]\n",
      " [1.9320967e-02 3.5199091e-02 8.0655533e-01 3.4615766e-02 1.0430889e-01]\n",
      " [5.8880686e-03 1.0722188e-01 2.4304628e-01 2.1523850e-02 6.2231988e-01]\n",
      " [3.2249076e-04 4.1469670e-04 8.6087102e-01 4.5100303e-04 1.3794075e-01]\n",
      " [1.8698290e-02 2.7667997e-02 5.9997064e-01 1.5675876e-02 3.3798724e-01]\n",
      " [1.9341947e-01 3.3113623e-01 1.2250068e-01 2.8164482e-01 7.1298748e-02]\n",
      " [2.4462393e-03 8.9335227e-03 1.2347507e-01 4.5754705e-03 8.6056972e-01]\n",
      " [9.2575818e-02 4.1792536e-01 1.3326968e-01 1.5470134e-01 2.0152777e-01]]\n"
     ]
    }
   ],
   "source": [
    "model_3_pred_prob = model_3.predict(val_char_dataset)\n",
    "print(model_3_pred_prob[:10])"
   ]
  },
  {
   "cell_type": "code",
   "execution_count": 72,
   "id": "eca17c1a",
   "metadata": {},
   "outputs": [
    {
     "name": "stdout",
     "output_type": "stream",
     "text": [
      "tf.Tensor([3 1 3 ... 4 4 0], shape=(30212,), dtype=int64)\n"
     ]
    }
   ],
   "source": [
    "model_3_pred = tf.argmax(model_3_pred_prob , axis = 1)\n",
    "print(model_3_pred)"
   ]
  },
  {
   "cell_type": "code",
   "execution_count": 73,
   "id": "3cf1882d",
   "metadata": {},
   "outputs": [
    {
     "name": "stdout",
     "output_type": "stream",
     "text": [
      "{'Accuracy': 0.6521249834502847, 'Precision': 0.6454674380291474, 'Recall': 0.6521249834502847, 'F1 Score': 0.6429120143125591}\n"
     ]
    }
   ],
   "source": [
    "model_3_results = calculate_result(val_label , model_3_pred)\n",
    "print(model_3_results)"
   ]
  },
  {
   "cell_type": "markdown",
   "id": "852b8958",
   "metadata": {},
   "source": [
    "## Model - 4 (Combine Pretrained token embedding + character embedding (Hybrid Embedding layer))\n",
    "\n",
    "Dropout may be implemented on any or all hidden layers in the network as well as the visible or input layer. It is not used on the output layer. The term “dropout” refers to dropping out units (hidden and visible) in a neural network. — Dropout: A Simple Way to Prevent Neural Networks from Overfitting"
   ]
  },
  {
   "cell_type": "code",
   "execution_count": 74,
   "id": "96e13583",
   "metadata": {},
   "outputs": [],
   "source": [
    "from tensorflow.keras import layers\n",
    "\n",
    "# Token layer\n",
    "token_input = layers.Input(shape = [] , dtype = tf.string , name = 'token_input')\n",
    "token_embedding = tf_hub_embedding_layer(token_input)\n",
    "token_output = layers.Dense(128 , activation = 'relu')(token_embedding)\n",
    "token_model = tf.keras.Model(token_input , token_output)\n",
    "\n",
    "# Char layer\n",
    "char_input = layers.Input(shape = [] , dtype = tf.string , name = 'char_input')\n",
    "char_vectors = char_vectorizer(char_input)\n",
    "char_embedding = char_embed(char_vectors)\n",
    "char_bilstm = layers.Bidirectional(layers.LSTM(25))(char_embedding)\n",
    "char_model = tf.keras.Model(char_input , char_bilstm)\n",
    "\n",
    "# Now concate these layers\n",
    "token_char_concat = layers.Concatenate(name = 'token_char_hybrid')([token_model.output , char_model.output])\n",
    "\n",
    "combined_dropout = layers.Dropout(0.5)(token_char_concat)\n",
    "x = layers.Dense(200 , activation = 'relu')(combined_dropout)\n",
    "final_dropout = layers.Dropout(0.5)(x)\n",
    "outputs = layers.Dense(num_classes , activation = 'softmax')(final_dropout)\n",
    "\n",
    "model_4 = tf.keras.Model([token_model.input , char_model.input] , \n",
    "                        outputs , name = 'Model_4_token_and_char_embedded')"
   ]
  },
  {
   "cell_type": "code",
   "execution_count": 75,
   "id": "6260cca0",
   "metadata": {},
   "outputs": [
    {
     "name": "stdout",
     "output_type": "stream",
     "text": [
      "Model: \"Model_4_token_and_char_embedded\"\n",
      "__________________________________________________________________________________________________\n",
      "Layer (type)                    Output Shape         Param #     Connected to                     \n",
      "==================================================================================================\n",
      "char_input (InputLayer)         [(None,)]            0                                            \n",
      "__________________________________________________________________________________________________\n",
      "token_input (InputLayer)        [(None,)]            0                                            \n",
      "__________________________________________________________________________________________________\n",
      "char_vectorizer (TextVectorizat (None, 290)          0           char_input[0][0]                 \n",
      "__________________________________________________________________________________________________\n",
      "universal_sentence_encoder (Ker (None, 512)          256797824   token_input[0][0]                \n",
      "__________________________________________________________________________________________________\n",
      "char_embed (Embedding)          (None, 290, 25)      1750        char_vectorizer[1][0]            \n",
      "__________________________________________________________________________________________________\n",
      "dense_4 (Dense)                 (None, 128)          65664       universal_sentence_encoder[1][0] \n",
      "__________________________________________________________________________________________________\n",
      "bidirectional (Bidirectional)   (None, 50)           10200       char_embed[1][0]                 \n",
      "__________________________________________________________________________________________________\n",
      "token_char_hybrid (Concatenate) (None, 178)          0           dense_4[0][0]                    \n",
      "                                                                 bidirectional[0][0]              \n",
      "__________________________________________________________________________________________________\n",
      "dropout (Dropout)               (None, 178)          0           token_char_hybrid[0][0]          \n",
      "__________________________________________________________________________________________________\n",
      "dense_5 (Dense)                 (None, 200)          35800       dropout[0][0]                    \n",
      "__________________________________________________________________________________________________\n",
      "dropout_1 (Dropout)             (None, 200)          0           dense_5[0][0]                    \n",
      "__________________________________________________________________________________________________\n",
      "dense_6 (Dense)                 (None, 5)            1005        dropout_1[0][0]                  \n",
      "==================================================================================================\n",
      "Total params: 256,912,243\n",
      "Trainable params: 114,419\n",
      "Non-trainable params: 256,797,824\n",
      "__________________________________________________________________________________________________\n"
     ]
    }
   ],
   "source": [
    "model_4.summary()"
   ]
  },
  {
   "cell_type": "code",
   "execution_count": 76,
   "id": "955c1177",
   "metadata": {},
   "outputs": [],
   "source": [
    "model_4.compile(loss = 'categorical_crossentropy' , optimizer = tf.keras.optimizers.Adam() , metrics = ['accuracy'])"
   ]
  },
  {
   "cell_type": "markdown",
   "id": "0f63bc6b",
   "metadata": {},
   "source": [
    "### Combine token and char data into dataset before fitting model"
   ]
  },
  {
   "cell_type": "code",
   "execution_count": 77,
   "id": "8b5c8fea",
   "metadata": {},
   "outputs": [],
   "source": [
    "# Make data\n",
    "train_char_token_data = tf.data.Dataset.from_tensor_slices((train_sentence , train_chars))\n",
    "# Make labels\n",
    "train_char_tokens_label = tf.data.Dataset.from_tensor_slices(train_label_onehot)\n",
    "# Mix the data and label\n",
    "train_char_token_dataset = tf.data.Dataset.zip((train_char_token_data , train_char_tokens_label))\n",
    "\n",
    "train_char_token_dataset = train_char_token_dataset.batch(32).prefetch(tf.data.AUTOTUNE)\n",
    "\n",
    "# Make data\n",
    "val_char_token_data = tf.data.Dataset.from_tensor_slices((val_sentence , valid_chars))\n",
    "# Make labels\n",
    "val_char_tokens_label = tf.data.Dataset.from_tensor_slices(val_label_onehot)\n",
    "# Mix the data and label\n",
    "val_char_token_dataset = tf.data.Dataset.zip((val_char_token_data , val_char_tokens_label))\n",
    "\n",
    "val_char_token_dataset = val_char_token_dataset.batch(32).prefetch(tf.data.AUTOTUNE)"
   ]
  },
  {
   "cell_type": "code",
   "execution_count": 78,
   "id": "95e9813d",
   "metadata": {},
   "outputs": [
    {
     "data": {
      "text/plain": [
       "(<PrefetchDataset shapes: (((None,), (None,)), (None, 5)), types: ((tf.string, tf.string), tf.float64)>,\n",
       " <PrefetchDataset shapes: (((None,), (None,)), (None, 5)), types: ((tf.string, tf.string), tf.float64)>)"
      ]
     },
     "execution_count": 78,
     "metadata": {},
     "output_type": "execute_result"
    }
   ],
   "source": [
    "train_char_token_dataset, val_char_token_dataset"
   ]
  },
  {
   "cell_type": "code",
   "execution_count": 79,
   "id": "609558fc",
   "metadata": {},
   "outputs": [
    {
     "name": "stdout",
     "output_type": "stream",
     "text": [
      "Epoch 1/3\n",
      "562/562 [==============================] - 186s 297ms/step - loss: 0.9627 - accuracy: 0.6169 - val_loss: 0.7707 - val_accuracy: 0.7021\n",
      "Epoch 2/3\n",
      "562/562 [==============================] - 159s 283ms/step - loss: 0.7861 - accuracy: 0.6959 - val_loss: 0.7058 - val_accuracy: 0.7330\n",
      "Epoch 3/3\n",
      "562/562 [==============================] - 159s 284ms/step - loss: 0.7631 - accuracy: 0.7106 - val_loss: 0.6896 - val_accuracy: 0.7424\n"
     ]
    }
   ],
   "source": [
    "history_4 = model_4.fit(train_char_token_dataset , epochs = 3 , steps_per_epoch = int(0.1 * len(train_char_token_dataset)) , \n",
    "                       validation_data = val_char_token_dataset , validation_steps = int(0.1 * len(val_char_token_dataset)))"
   ]
  },
  {
   "cell_type": "code",
   "execution_count": 80,
   "id": "2a63ceff",
   "metadata": {},
   "outputs": [
    {
     "name": "stdout",
     "output_type": "stream",
     "text": [
      "945/945 [==============================] - 67s 71ms/step - loss: 0.6897 - accuracy: 0.73730s - loss: 0.6888 - accuracy\n"
     ]
    },
    {
     "data": {
      "text/plain": [
       "[0.6896829009056091, 0.7372898459434509]"
      ]
     },
     "execution_count": 80,
     "metadata": {},
     "output_type": "execute_result"
    }
   ],
   "source": [
    "model_4.evaluate(val_char_token_dataset)"
   ]
  },
  {
   "cell_type": "code",
   "execution_count": 81,
   "id": "ef0b1df6",
   "metadata": {},
   "outputs": [
    {
     "data": {
      "text/plain": [
       "array([[4.7654286e-01, 3.1368697e-01, 2.8495158e-03, 2.0296040e-01,\n",
       "        3.9602639e-03],\n",
       "       [3.5263392e-01, 4.6631518e-01, 2.7715054e-03, 1.7708966e-01,\n",
       "        1.1896769e-03],\n",
       "       [3.3603945e-01, 1.6079836e-01, 6.3883722e-02, 4.0036759e-01,\n",
       "        3.8910784e-02],\n",
       "       ...,\n",
       "       [8.8841433e-04, 8.3863921e-03, 6.1407700e-02, 4.0774385e-04,\n",
       "        9.2890978e-01],\n",
       "       [6.0263653e-03, 6.1218698e-02, 2.4122009e-01, 2.7172465e-03,\n",
       "        6.8881762e-01],\n",
       "       [3.4033751e-01, 3.5014030e-01, 2.3370188e-01, 3.5509806e-02,\n",
       "        4.0310510e-02]], dtype=float32)"
      ]
     },
     "execution_count": 81,
     "metadata": {},
     "output_type": "execute_result"
    }
   ],
   "source": [
    "model_4_pred_prob = model_4.predict(val_char_token_dataset)\n",
    "model_4_pred_prob"
   ]
  },
  {
   "cell_type": "code",
   "execution_count": 82,
   "id": "8f94a7af",
   "metadata": {},
   "outputs": [
    {
     "data": {
      "text/plain": [
       "<tf.Tensor: shape=(30212,), dtype=int64, numpy=array([0, 1, 3, ..., 4, 4, 1], dtype=int64)>"
      ]
     },
     "execution_count": 82,
     "metadata": {},
     "output_type": "execute_result"
    }
   ],
   "source": [
    "model_4_pred = tf.argmax(model_4_pred_prob, axis=1)\n",
    "model_4_pred"
   ]
  },
  {
   "cell_type": "code",
   "execution_count": 83,
   "id": "2397a7cd",
   "metadata": {},
   "outputs": [
    {
     "name": "stdout",
     "output_type": "stream",
     "text": [
      "{'Accuracy': 0.7372898186151198, 'Precision': 0.7373673961455989, 'Recall': 0.7372898186151198, 'F1 Score': 0.7346521050051102}\n"
     ]
    }
   ],
   "source": [
    "model_4_results = calculate_result(val_label , model_4_pred)\n",
    "print(model_4_results)"
   ]
  },
  {
   "cell_type": "markdown",
   "id": "157fad96",
   "metadata": {},
   "source": [
    "## Model - 5 (Transfer Learning with pretrained token embeddings + character embeddings + positional embeddings)"
   ]
  },
  {
   "cell_type": "code",
   "execution_count": 84,
   "id": "02629557",
   "metadata": {},
   "outputs": [
    {
     "data": {
      "text/html": [
       "<div>\n",
       "<style scoped>\n",
       "    .dataframe tbody tr th:only-of-type {\n",
       "        vertical-align: middle;\n",
       "    }\n",
       "\n",
       "    .dataframe tbody tr th {\n",
       "        vertical-align: top;\n",
       "    }\n",
       "\n",
       "    .dataframe thead th {\n",
       "        text-align: right;\n",
       "    }\n",
       "</style>\n",
       "<table border=\"1\" class=\"dataframe\">\n",
       "  <thead>\n",
       "    <tr style=\"text-align: right;\">\n",
       "      <th></th>\n",
       "      <th>target</th>\n",
       "      <th>text</th>\n",
       "      <th>line_number</th>\n",
       "      <th>total_lines</th>\n",
       "    </tr>\n",
       "  </thead>\n",
       "  <tbody>\n",
       "    <tr>\n",
       "      <th>0</th>\n",
       "      <td>OBJECTIVE</td>\n",
       "      <td>to investigate the efficacy of @ weeks of dail...</td>\n",
       "      <td>1</td>\n",
       "      <td>12</td>\n",
       "    </tr>\n",
       "    <tr>\n",
       "      <th>1</th>\n",
       "      <td>METHODS</td>\n",
       "      <td>a total of @ patients with primary knee oa wer...</td>\n",
       "      <td>2</td>\n",
       "      <td>12</td>\n",
       "    </tr>\n",
       "    <tr>\n",
       "      <th>2</th>\n",
       "      <td>METHODS</td>\n",
       "      <td>outcome measures included pain reduction and i...</td>\n",
       "      <td>3</td>\n",
       "      <td>12</td>\n",
       "    </tr>\n",
       "    <tr>\n",
       "      <th>3</th>\n",
       "      <td>METHODS</td>\n",
       "      <td>pain was assessed using the visual analog pain...</td>\n",
       "      <td>4</td>\n",
       "      <td>12</td>\n",
       "    </tr>\n",
       "    <tr>\n",
       "      <th>4</th>\n",
       "      <td>METHODS</td>\n",
       "      <td>secondary outcome measures included the wester...</td>\n",
       "      <td>5</td>\n",
       "      <td>12</td>\n",
       "    </tr>\n",
       "  </tbody>\n",
       "</table>\n",
       "</div>"
      ],
      "text/plain": [
       "      target                                               text  line_number  \\\n",
       "0  OBJECTIVE  to investigate the efficacy of @ weeks of dail...            1   \n",
       "1    METHODS  a total of @ patients with primary knee oa wer...            2   \n",
       "2    METHODS  outcome measures included pain reduction and i...            3   \n",
       "3    METHODS  pain was assessed using the visual analog pain...            4   \n",
       "4    METHODS  secondary outcome measures included the wester...            5   \n",
       "\n",
       "   total_lines  \n",
       "0           12  \n",
       "1           12  \n",
       "2           12  \n",
       "3           12  \n",
       "4           12  "
      ]
     },
     "execution_count": 84,
     "metadata": {},
     "output_type": "execute_result"
    }
   ],
   "source": [
    "train_frame.head()"
   ]
  },
  {
   "cell_type": "code",
   "execution_count": 85,
   "id": "51729a95",
   "metadata": {},
   "outputs": [
    {
     "data": {
      "text/plain": [
       "1     15000\n",
       "2     15000\n",
       "3     15000\n",
       "4     15000\n",
       "5     14992\n",
       "6     14949\n",
       "7     14758\n",
       "8     14279\n",
       "9     13346\n",
       "10    11981\n",
       "11    10041\n",
       "12     7892\n",
       "13     5853\n",
       "14     4152\n",
       "15     2835\n",
       "16     1861\n",
       "17     1188\n",
       "18      751\n",
       "19      462\n",
       "20      286\n",
       "21      162\n",
       "22      101\n",
       "23       66\n",
       "24       33\n",
       "25       22\n",
       "26       14\n",
       "27        7\n",
       "28        4\n",
       "29        3\n",
       "30        1\n",
       "31        1\n",
       "Name: line_number, dtype: int64"
      ]
     },
     "execution_count": 85,
     "metadata": {},
     "output_type": "execute_result"
    }
   ],
   "source": [
    "train_frame['line_number'].value_counts()"
   ]
  },
  {
   "cell_type": "code",
   "execution_count": 86,
   "id": "3ba89c60",
   "metadata": {},
   "outputs": [
    {
     "data": {
      "text/plain": [
       "<AxesSubplot:ylabel='Frequency'>"
      ]
     },
     "execution_count": 86,
     "metadata": {},
     "output_type": "execute_result"
    },
    {
     "data": {
      "image/png": "[encoded data removed]",
      "text/plain": [
       "<Figure size 432x288 with 1 Axes>"
      ]
     },
     "metadata": {
      "needs_background": "light"
     },
     "output_type": "display_data"
    }
   ],
   "source": [
    "train_frame['line_number'].plot.hist()"
   ]
  },
  {
   "cell_type": "code",
   "execution_count": 90,
   "id": "18090dc4",
   "metadata": {},
   "outputs": [],
   "source": [
    "train_line_onehot = tf.one_hot(train_frame['line_number'].to_numpy() , depth = 15)\n",
    "val_line_onehot = tf.one_hot(val_frame['line_number'].to_numpy() , depth = 15)\n",
    "test_line_onehot = tf.one_hot(test_frame['line_number'].to_numpy() , depth = 15)"
   ]
  },
  {
   "cell_type": "code",
   "execution_count": 92,
   "id": "8af7d9ca",
   "metadata": {},
   "outputs": [
    {
     "data": {
      "text/plain": [
       "(TensorShape([180040, 15]),\n",
       " <tf.Tensor: shape=(20, 15), dtype=float32, numpy=\n",
       " array([[0., 1., 0., 0., 0., 0., 0., 0., 0., 0., 0., 0., 0., 0., 0.],\n",
       "        [0., 0., 1., 0., 0., 0., 0., 0., 0., 0., 0., 0., 0., 0., 0.],\n",
       "        [0., 0., 0., 1., 0., 0., 0., 0., 0., 0., 0., 0., 0., 0., 0.],\n",
       "        [0., 0., 0., 0., 1., 0., 0., 0., 0., 0., 0., 0., 0., 0., 0.],\n",
       "        [0., 0., 0., 0., 0., 1., 0., 0., 0., 0., 0., 0., 0., 0., 0.],\n",
       "        [0., 0., 0., 0., 0., 0., 1., 0., 0., 0., 0., 0., 0., 0., 0.],\n",
       "        [0., 0., 0., 0., 0., 0., 0., 1., 0., 0., 0., 0., 0., 0., 0.],\n",
       "        [0., 0., 0., 0., 0., 0., 0., 0., 1., 0., 0., 0., 0., 0., 0.],\n",
       "        [0., 0., 0., 0., 0., 0., 0., 0., 0., 1., 0., 0., 0., 0., 0.],\n",
       "        [0., 0., 0., 0., 0., 0., 0., 0., 0., 0., 1., 0., 0., 0., 0.],\n",
       "        [0., 0., 0., 0., 0., 0., 0., 0., 0., 0., 0., 1., 0., 0., 0.],\n",
       "        [0., 0., 0., 0., 0., 0., 0., 0., 0., 0., 0., 0., 1., 0., 0.],\n",
       "        [0., 1., 0., 0., 0., 0., 0., 0., 0., 0., 0., 0., 0., 0., 0.],\n",
       "        [0., 0., 1., 0., 0., 0., 0., 0., 0., 0., 0., 0., 0., 0., 0.],\n",
       "        [0., 0., 0., 1., 0., 0., 0., 0., 0., 0., 0., 0., 0., 0., 0.],\n",
       "        [0., 0., 0., 0., 1., 0., 0., 0., 0., 0., 0., 0., 0., 0., 0.],\n",
       "        [0., 0., 0., 0., 0., 1., 0., 0., 0., 0., 0., 0., 0., 0., 0.],\n",
       "        [0., 0., 0., 0., 0., 0., 1., 0., 0., 0., 0., 0., 0., 0., 0.],\n",
       "        [0., 0., 0., 0., 0., 0., 0., 1., 0., 0., 0., 0., 0., 0., 0.],\n",
       "        [0., 0., 0., 0., 0., 0., 0., 0., 1., 0., 0., 0., 0., 0., 0.]],\n",
       "       dtype=float32)>)"
      ]
     },
     "execution_count": 92,
     "metadata": {},
     "output_type": "execute_result"
    }
   ],
   "source": [
    "train_line_onehot.shape, train_line_onehot[:20]"
   ]
  },
  {
   "cell_type": "code",
   "execution_count": 95,
   "id": "4095c2fb",
   "metadata": {},
   "outputs": [
    {
     "data": {
      "text/plain": [
       "4        32\n",
       "5       215\n",
       "6      1146\n",
       "7      3353\n",
       "8      7464\n",
       "9     12285\n",
       "10    19400\n",
       "11    23639\n",
       "12    24468\n",
       "13    22113\n",
       "14    18438\n",
       "15    14610\n",
       "16    10768\n",
       "17     7429\n",
       "18     5202\n",
       "19     3344\n",
       "20     2480\n",
       "21     1281\n",
       "22      770\n",
       "23      759\n",
       "24      264\n",
       "25      200\n",
       "26      182\n",
       "27       81\n",
       "28       28\n",
       "29       58\n",
       "31       31\n",
       "Name: total_lines, dtype: int64"
      ]
     },
     "execution_count": 95,
     "metadata": {},
     "output_type": "execute_result"
    }
   ],
   "source": [
    "train_frame['total_lines'].value_counts(sort = False)"
   ]
  },
  {
   "cell_type": "code",
   "execution_count": 94,
   "id": "96c5f97f",
   "metadata": {},
   "outputs": [
    {
     "data": {
      "text/plain": [
       "<AxesSubplot:ylabel='Frequency'>"
      ]
     },
     "execution_count": 94,
     "metadata": {},
     "output_type": "execute_result"
    },
    {
     "data": {
      "image/png": "[encoded data removed]",
      "text/plain": [
       "<Figure size 432x288 with 1 Axes>"
      ]
     },
     "metadata": {
      "needs_background": "light"
     },
     "output_type": "display_data"
    }
   ],
   "source": [
    "train_frame['total_lines'].plot.hist()"
   ]
  },
  {
   "cell_type": "code",
   "execution_count": 96,
   "id": "1bc6938d",
   "metadata": {},
   "outputs": [
    {
     "data": {
      "text/plain": [
       "21.0"
      ]
     },
     "execution_count": 96,
     "metadata": {},
     "output_type": "execute_result"
    }
   ],
   "source": [
    "np.percentile(train_frame['total_lines'] , 98)"
   ]
  },
  {
   "cell_type": "code",
   "execution_count": 97,
   "id": "a74cecfd",
   "metadata": {},
   "outputs": [
    {
     "data": {
      "text/plain": [
       "(TensorShape([180040, 20]),\n",
       " <tf.Tensor: shape=(10, 20), dtype=float32, numpy=\n",
       " array([[0., 0., 0., 0., 0., 0., 0., 0., 0., 0., 0., 0., 1., 0., 0., 0.,\n",
       "         0., 0., 0., 0.],\n",
       "        [0., 0., 0., 0., 0., 0., 0., 0., 0., 0., 0., 0., 1., 0., 0., 0.,\n",
       "         0., 0., 0., 0.],\n",
       "        [0., 0., 0., 0., 0., 0., 0., 0., 0., 0., 0., 0., 1., 0., 0., 0.,\n",
       "         0., 0., 0., 0.],\n",
       "        [0., 0., 0., 0., 0., 0., 0., 0., 0., 0., 0., 0., 1., 0., 0., 0.,\n",
       "         0., 0., 0., 0.],\n",
       "        [0., 0., 0., 0., 0., 0., 0., 0., 0., 0., 0., 0., 1., 0., 0., 0.,\n",
       "         0., 0., 0., 0.],\n",
       "        [0., 0., 0., 0., 0., 0., 0., 0., 0., 0., 0., 0., 1., 0., 0., 0.,\n",
       "         0., 0., 0., 0.],\n",
       "        [0., 0., 0., 0., 0., 0., 0., 0., 0., 0., 0., 0., 1., 0., 0., 0.,\n",
       "         0., 0., 0., 0.],\n",
       "        [0., 0., 0., 0., 0., 0., 0., 0., 0., 0., 0., 0., 1., 0., 0., 0.,\n",
       "         0., 0., 0., 0.],\n",
       "        [0., 0., 0., 0., 0., 0., 0., 0., 0., 0., 0., 0., 1., 0., 0., 0.,\n",
       "         0., 0., 0., 0.],\n",
       "        [0., 0., 0., 0., 0., 0., 0., 0., 0., 0., 0., 0., 1., 0., 0., 0.,\n",
       "         0., 0., 0., 0.]], dtype=float32)>)"
      ]
     },
     "execution_count": 97,
     "metadata": {},
     "output_type": "execute_result"
    }
   ],
   "source": [
    "train_total_onehot = tf.one_hot(train_frame['total_lines'].to_numpy() , depth = 20)\n",
    "val_total_onehot = tf.one_hot(val_frame['total_lines'].to_numpy() , depth = 20)\n",
    "test_total_onehot = tf.one_hot(test_frame['total_lines'].to_numpy() , depth = 20)\n",
    "\n",
    "train_total_onehot.shape , train_total_onehot[:10]"
   ]
  },
  {
   "cell_type": "code",
   "execution_count": 100,
   "id": "efbd6447",
   "metadata": {},
   "outputs": [],
   "source": [
    "# Token Inputs\n",
    "token_input = layers.Input(shape = [] , dtype = 'string' , name = 'token_inputs')\n",
    "token_embedding = tf_hub_embedding_layer(token_input)\n",
    "token_output = layers.Dense(128 , activation = 'relu')(token_embedding)\n",
    "token_model = tf.keras.Model(token_input , token_output)\n",
    "\n",
    "# Char Input\n",
    "char_input = layers.Input(shape = (1 , ) , dtype = 'string' , name = 'char_inputs')\n",
    "char_vector = char_vectorizer(char_input)\n",
    "char_embedding = char_embed(char_vector)\n",
    "char_output = layers.Bidirectional(layers.LSTM(32))(char_embedding)\n",
    "char_model = tf.keras.Model(char_input , char_output)\n",
    "\n",
    "# Line number inputs\n",
    "line_number_input = layers.Input(shape = (15 , ) , dtype = tf.int32 , name = 'line_number_input')\n",
    "x = layers.Dense(32 , activation = 'relu')(line_number_input)\n",
    "line_number_model = tf.keras.Model(line_number_input , x)\n",
    "\n",
    "# Total lines inputs\n",
    "total_line_input = layers.Input(shape = (20 , ) , dtype = tf.int32 , name = 'total_lines_input')\n",
    "y = layers.Dense(32 , activation = 'relu')(total_line_input)\n",
    "total_line_model = tf.keras.Model(total_line_input , y)\n",
    "\n",
    "# Combine token and char embedding into hybrid embedding\n",
    "combined_embedding = layers.Concatenate(name = 'token_char_hybrid_embedding')([token_model.output , \n",
    "                                                                              char_model.output])\n",
    "z = layers.Dense(256 , activation = 'relu')(combined_embedding)\n",
    "z = layers.Dropout(0.5)(z)\n",
    "\n",
    "# Combine positional embedding with combined token and char embedding input into tribid embedding\n",
    "z = layers.Concatenate(name = 'token_char_positional_embedding')([line_number_model.output , \n",
    "                                                                 total_line_model.output , \n",
    "                                                                 z])\n",
    "\n",
    "output_layer = layers.Dense(5 , activation = 'softmax' , name = 'output_layer')(z)\n",
    "\n",
    "model_5 = tf.keras.Model(inputs = [line_number_model.input , \n",
    "                                  total_line_model.input , \n",
    "                                  token_model.input , \n",
    "                                  char_model.input] , \n",
    "                        outputs = output_layer)"
   ]
  },
  {
   "cell_type": "code",
   "execution_count": 101,
   "id": "a1cd3ff3",
   "metadata": {},
   "outputs": [
    {
     "name": "stdout",
     "output_type": "stream",
     "text": [
      "Model: \"model_14\"\n",
      "__________________________________________________________________________________________________\n",
      "Layer (type)                    Output Shape         Param #     Connected to                     \n",
      "==================================================================================================\n",
      "char_inputs (InputLayer)        [(None, 1)]          0                                            \n",
      "__________________________________________________________________________________________________\n",
      "token_inputs (InputLayer)       [(None,)]            0                                            \n",
      "__________________________________________________________________________________________________\n",
      "char_vectorizer (TextVectorizat (None, 290)          0           char_inputs[0][0]                \n",
      "__________________________________________________________________________________________________\n",
      "universal_sentence_encoder (Ker (None, 512)          256797824   token_inputs[0][0]               \n",
      "__________________________________________________________________________________________________\n",
      "char_embed (Embedding)          (None, 290, 25)      1750        char_vectorizer[4][0]            \n",
      "__________________________________________________________________________________________________\n",
      "dense_12 (Dense)                (None, 128)          65664       universal_sentence_encoder[4][0] \n",
      "__________________________________________________________________________________________________\n",
      "bidirectional_3 (Bidirectional) (None, 64)           14848       char_embed[4][0]                 \n",
      "__________________________________________________________________________________________________\n",
      "token_char_hybrid_embedding (Co (None, 192)          0           dense_12[0][0]                   \n",
      "                                                                 bidirectional_3[0][0]            \n",
      "__________________________________________________________________________________________________\n",
      "line_number_input (InputLayer)  [(None, 15)]         0                                            \n",
      "__________________________________________________________________________________________________\n",
      "total_lines_input (InputLayer)  [(None, 20)]         0                                            \n",
      "__________________________________________________________________________________________________\n",
      "dense_15 (Dense)                (None, 256)          49408       token_char_hybrid_embedding[0][0]\n",
      "__________________________________________________________________________________________________\n",
      "dense_13 (Dense)                (None, 32)           512         line_number_input[0][0]          \n",
      "__________________________________________________________________________________________________\n",
      "dense_14 (Dense)                (None, 32)           672         total_lines_input[0][0]          \n",
      "__________________________________________________________________________________________________\n",
      "dropout_3 (Dropout)             (None, 256)          0           dense_15[0][0]                   \n",
      "__________________________________________________________________________________________________\n",
      "token_char_positional_embedding (None, 320)          0           dense_13[0][0]                   \n",
      "                                                                 dense_14[0][0]                   \n",
      "                                                                 dropout_3[0][0]                  \n",
      "__________________________________________________________________________________________________\n",
      "output_layer (Dense)            (None, 5)            1605        token_char_positional_embedding[0\n",
      "==================================================================================================\n",
      "Total params: 256,932,283\n",
      "Trainable params: 134,459\n",
      "Non-trainable params: 256,797,824\n",
      "__________________________________________________________________________________________________\n"
     ]
    }
   ],
   "source": [
    "model_5.summary()"
   ]
  },
  {
   "cell_type": "code",
   "execution_count": 102,
   "id": "6baea51b",
   "metadata": {},
   "outputs": [],
   "source": [
    "model_5.compile(loss = tf.keras.losses.CategoricalCrossentropy(label_smoothing = 0.2) , \n",
    "               optimizer = tf.keras.optimizers.Adam() , \n",
    "               metrics = ['accuracy'])"
   ]
  },
  {
   "cell_type": "code",
   "execution_count": 126,
   "id": "cd0838f7",
   "metadata": {},
   "outputs": [
    {
     "data": {
      "text/plain": [
       "(<PrefetchDataset shapes: (((None, 15), (None, 20), (None,), (None,)), (None, 5)), types: ((tf.float32, tf.float32, tf.string, tf.string), tf.float64)>,\n",
       " <PrefetchDataset shapes: (((None, 15), (None, 20), (None,), (None,)), (None, 5)), types: ((tf.float32, tf.float32, tf.string, tf.string), tf.float64)>)"
      ]
     },
     "execution_count": 126,
     "metadata": {},
     "output_type": "execute_result"
    }
   ],
   "source": [
    "# Training Dataset\n",
    "train_pos_char_token_data = tf.data.Dataset.from_tensor_slices((train_line_onehot , \n",
    "                                                               train_total_onehot , \n",
    "                                                               train_sentence ,\n",
    "                                                                train_chars))\n",
    "train_pos_char_token_label = tf.data.Dataset.from_tensor_slices(train_label_onehot)\n",
    "train_pos_char_token_dataset = tf.data.Dataset.zip((train_pos_char_token_data , train_pos_char_token_label))\n",
    "train_pos_char_token_dataset = train_pos_char_token_dataset.batch(32).prefetch(tf.data.AUTOTUNE)\n",
    "\n",
    "# Validation Dataset\n",
    "val_pos_char_token_data = tf.data.Dataset.from_tensor_slices((val_line_onehot , \n",
    "                                                             val_total_onehot , \n",
    "                                                             val_sentence , \n",
    "                                                             valid_chars))\n",
    "val_pos_char_token_label = tf.data.Dataset.from_tensor_slices(train_label_onehot)\n",
    "val_pos_char_token_dataset = tf.data.Dataset.zip((val_pos_char_token_data , val_pos_char_token_label))\n",
    "val_pos_char_token_dataset = val_pos_char_token_dataset.batch(32).prefetch(tf.data.AUTOTUNE)\n",
    "\n",
    "train_pos_char_token_dataset , val_pos_char_token_dataset"
   ]
  },
  {
   "cell_type": "code",
   "execution_count": 127,
   "id": "7ea3f5dc",
   "metadata": {},
   "outputs": [
    {
     "name": "stdout",
     "output_type": "stream",
     "text": [
      "Epoch 1/3\n",
      "562/562 [==============================] - 178s 278ms/step - loss: 1.0955 - accuracy: 0.7275 - val_loss: 2.0681 - val_accuracy: 0.3009\n",
      "Epoch 2/3\n",
      "562/562 [==============================] - 158s 282ms/step - loss: 0.9670 - accuracy: 0.8174 - val_loss: 2.1053 - val_accuracy: 0.3049\n",
      "Epoch 3/3\n",
      "562/562 [==============================] - 161s 286ms/step - loss: 0.9504 - accuracy: 0.8236 - val_loss: 2.1451 - val_accuracy: 0.3005\n"
     ]
    }
   ],
   "source": [
    "history_5 = model_5.fit(train_pos_char_token_dataset , \n",
    "                       steps_per_epoch = int(0.1 * len(train_pos_char_token_dataset)) , \n",
    "                       epochs = 3 , \n",
    "                       validation_data = val_pos_char_token_dataset , \n",
    "                       validation_steps = int(0.1 * len(val_pos_char_token_dataset)))"
   ]
  },
  {
   "cell_type": "code",
   "execution_count": 128,
   "id": "e7a3414b",
   "metadata": {},
   "outputs": [
    {
     "name": "stdout",
     "output_type": "stream",
     "text": [
      "945/945 [==============================] - 77s 75ms/step\n"
     ]
    },
    {
     "data": {
      "text/plain": [
       "array([[0.51213145, 0.10244042, 0.01197157, 0.35629532, 0.01716127],\n",
       "       [0.5893952 , 0.09573703, 0.03826762, 0.2682204 , 0.00837973],\n",
       "       [0.31043497, 0.11589043, 0.12153692, 0.3921193 , 0.06001837],\n",
       "       ...,\n",
       "       [0.03868804, 0.11208918, 0.03701704, 0.0314129 , 0.78079283],\n",
       "       [0.03214038, 0.2698941 , 0.06657565, 0.02380353, 0.6075863 ],\n",
       "       [0.18625098, 0.6704044 , 0.07245719, 0.03558099, 0.03530642]],\n",
       "      dtype=float32)"
      ]
     },
     "execution_count": 128,
     "metadata": {},
     "output_type": "execute_result"
    }
   ],
   "source": [
    "model_5_pred_prob = model_5.predict(val_pos_char_token_dataset , verbose = 1)\n",
    "model_5_pred_prob"
   ]
  },
  {
   "cell_type": "code",
   "execution_count": 129,
   "id": "6d474f25",
   "metadata": {},
   "outputs": [
    {
     "data": {
      "text/plain": [
       "<tf.Tensor: shape=(30212,), dtype=int64, numpy=array([0, 0, 3, ..., 4, 4, 1], dtype=int64)>"
      ]
     },
     "execution_count": 129,
     "metadata": {},
     "output_type": "execute_result"
    }
   ],
   "source": [
    "model_5_pred = tf.argmax(model_5_pred_prob , axis = 1)\n",
    "model_5_pred"
   ]
  },
  {
   "cell_type": "code",
   "execution_count": 130,
   "id": "42ede047",
   "metadata": {},
   "outputs": [
    {
     "name": "stdout",
     "output_type": "stream",
     "text": [
      "{'Accuracy': 0.8327154772937906, 'Precision': 0.8321836801210829, 'Recall': 0.8327154772937906, 'F1 Score': 0.831720898882686}\n"
     ]
    }
   ],
   "source": [
    "model_5_results = calculate_result(val_label , model_5_pred)\n",
    "print(model_5_results)"
   ]
  },
  {
   "cell_type": "markdown",
   "id": "b300076e",
   "metadata": {},
   "source": [
    "## Compare Model Results"
   ]
  },
  {
   "cell_type": "code",
   "execution_count": 131,
   "id": "53c94f61",
   "metadata": {},
   "outputs": [
    {
     "data": {
      "text/html": [
       "<div>\n",
       "<style scoped>\n",
       "    .dataframe tbody tr th:only-of-type {\n",
       "        vertical-align: middle;\n",
       "    }\n",
       "\n",
       "    .dataframe tbody tr th {\n",
       "        vertical-align: top;\n",
       "    }\n",
       "\n",
       "    .dataframe thead th {\n",
       "        text-align: right;\n",
       "    }\n",
       "</style>\n",
       "<table border=\"1\" class=\"dataframe\">\n",
       "  <thead>\n",
       "    <tr style=\"text-align: right;\">\n",
       "      <th></th>\n",
       "      <th>Accuracy</th>\n",
       "      <th>Precision</th>\n",
       "      <th>Recall</th>\n",
       "      <th>F1 Score</th>\n",
       "    </tr>\n",
       "  </thead>\n",
       "  <tbody>\n",
       "    <tr>\n",
       "      <th>baseline</th>\n",
       "      <td>0.721832</td>\n",
       "      <td>0.718647</td>\n",
       "      <td>0.721832</td>\n",
       "      <td>0.698925</td>\n",
       "    </tr>\n",
       "    <tr>\n",
       "      <th>custom_token_embed_conv1d</th>\n",
       "      <td>0.786111</td>\n",
       "      <td>0.783056</td>\n",
       "      <td>0.786111</td>\n",
       "      <td>0.783319</td>\n",
       "    </tr>\n",
       "    <tr>\n",
       "      <th>pretrained_token_embed</th>\n",
       "      <td>0.714584</td>\n",
       "      <td>0.715116</td>\n",
       "      <td>0.714584</td>\n",
       "      <td>0.711770</td>\n",
       "    </tr>\n",
       "    <tr>\n",
       "      <th>custom_char_embed_conv1d</th>\n",
       "      <td>0.652125</td>\n",
       "      <td>0.645467</td>\n",
       "      <td>0.652125</td>\n",
       "      <td>0.642912</td>\n",
       "    </tr>\n",
       "    <tr>\n",
       "      <th>hybrid_char_token_embed</th>\n",
       "      <td>0.737290</td>\n",
       "      <td>0.737367</td>\n",
       "      <td>0.737290</td>\n",
       "      <td>0.734652</td>\n",
       "    </tr>\n",
       "    <tr>\n",
       "      <th>tribrid_pos_char_token_embed</th>\n",
       "      <td>0.832715</td>\n",
       "      <td>0.832184</td>\n",
       "      <td>0.832715</td>\n",
       "      <td>0.831721</td>\n",
       "    </tr>\n",
       "  </tbody>\n",
       "</table>\n",
       "</div>"
      ],
      "text/plain": [
       "                              Accuracy  Precision    Recall  F1 Score\n",
       "baseline                      0.721832   0.718647  0.721832  0.698925\n",
       "custom_token_embed_conv1d     0.786111   0.783056  0.786111  0.783319\n",
       "pretrained_token_embed        0.714584   0.715116  0.714584  0.711770\n",
       "custom_char_embed_conv1d      0.652125   0.645467  0.652125  0.642912\n",
       "hybrid_char_token_embed       0.737290   0.737367  0.737290  0.734652\n",
       "tribrid_pos_char_token_embed  0.832715   0.832184  0.832715  0.831721"
      ]
     },
     "execution_count": 131,
     "metadata": {},
     "output_type": "execute_result"
    }
   ],
   "source": [
    "all_model_results = pd.DataFrame({\"baseline\": baseline_results,\n",
    "                                  \"custom_token_embed_conv1d\": model_1_results,\n",
    "                                  \"pretrained_token_embed\": model_2_results,\n",
    "                                  \"custom_char_embed_conv1d\": model_3_results,\n",
    "                                  \"hybrid_char_token_embed\": model_4_results,\n",
    "                                  \"tribrid_pos_char_token_embed\": model_5_results})\n",
    "\n",
    "all_model_results = all_model_results.transpose()\n",
    "all_model_results"
   ]
  },
  {
   "cell_type": "code",
   "execution_count": 132,
   "id": "3668a560",
   "metadata": {},
   "outputs": [
    {
     "data": {
      "image/png": "[encoded data removed]",
      "text/plain": [
       "<Figure size 720x504 with 1 Axes>"
      ]
     },
     "metadata": {
      "needs_background": "light"
     },
     "output_type": "display_data"
    }
   ],
   "source": [
    "all_model_results.plot(kind=\"bar\", figsize=(10, 7)).legend(bbox_to_anchor=(1.0, 1.0));"
   ]
  },
  {
   "cell_type": "code",
   "execution_count": 135,
   "id": "7402efbb",
   "metadata": {},
   "outputs": [
    {
     "data": {
      "image/png": "[encoded data removed]",
      "text/plain": [
       "<Figure size 720x504 with 1 Axes>"
      ]
     },
     "metadata": {
      "needs_background": "light"
     },
     "output_type": "display_data"
    }
   ],
   "source": [
    "all_model_results.sort_values(\"F1 Score\", ascending=False)[\"F1 Score\"].plot(kind=\"bar\", figsize=(10, 7));"
   ]
  }
 ],
 "metadata": {
  "kernelspec": {
   "display_name": "Python 3",
   "language": "python",
   "name": "python3"
  },
  "language_info": {
   "codemirror_mode": {
    "name": "ipython",
    "version": 3
   },
   "file_extension": ".py",
   "mimetype": "text/x-python",
   "name": "python",
   "nbconvert_exporter": "python",
   "pygments_lexer": "ipython3",
   "version": "3.8.8"
  }
 },
 "nbformat": 4,
 "nbformat_minor": 5
}
