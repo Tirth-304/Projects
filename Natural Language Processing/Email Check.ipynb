{
 "cells": [
  {
   "cell_type": "code",
   "execution_count": 37,
   "metadata": {},
   "outputs": [],
   "source": [
    "import pandas as pd\n",
    "import numpy as np\n",
    "import matplotlib.pyplot as plt\n",
    "# nltk - natural language tool kit\n",
    "# To read word in english\n",
    "import nltk\n",
    "from nltk.corpus import stopwords\n",
    "import string"
   ]
  },
  {
   "cell_type": "code",
   "execution_count": 2,
   "metadata": {},
   "outputs": [],
   "source": [
    "data=pd.read_csv('C:/Users/Tirth/Desktop/Machine_learning/machine learning/my codes/Email Check.csv')"
   ]
  },
  {
   "cell_type": "code",
   "execution_count": 3,
   "metadata": {},
   "outputs": [
    {
     "data": {
      "text/html": [
       "<div>\n",
       "<style scoped>\n",
       "    .dataframe tbody tr th:only-of-type {\n",
       "        vertical-align: middle;\n",
       "    }\n",
       "\n",
       "    .dataframe tbody tr th {\n",
       "        vertical-align: top;\n",
       "    }\n",
       "\n",
       "    .dataframe thead th {\n",
       "        text-align: right;\n",
       "    }\n",
       "</style>\n",
       "<table border=\"1\" class=\"dataframe\">\n",
       "  <thead>\n",
       "    <tr style=\"text-align: right;\">\n",
       "      <th></th>\n",
       "      <th>Unnamed: 0</th>\n",
       "      <th>label</th>\n",
       "      <th>text</th>\n",
       "      <th>label_num</th>\n",
       "    </tr>\n",
       "  </thead>\n",
       "  <tbody>\n",
       "    <tr>\n",
       "      <td>0</td>\n",
       "      <td>605</td>\n",
       "      <td>ham</td>\n",
       "      <td>Subject: enron methanol ; meter # : 988291\\r\\n...</td>\n",
       "      <td>0</td>\n",
       "    </tr>\n",
       "    <tr>\n",
       "      <td>1</td>\n",
       "      <td>2349</td>\n",
       "      <td>ham</td>\n",
       "      <td>Subject: hpl nom for january 9 , 2001\\r\\n( see...</td>\n",
       "      <td>0</td>\n",
       "    </tr>\n",
       "    <tr>\n",
       "      <td>2</td>\n",
       "      <td>3624</td>\n",
       "      <td>ham</td>\n",
       "      <td>Subject: neon retreat\\r\\nho ho ho , we ' re ar...</td>\n",
       "      <td>0</td>\n",
       "    </tr>\n",
       "    <tr>\n",
       "      <td>3</td>\n",
       "      <td>4685</td>\n",
       "      <td>spam</td>\n",
       "      <td>Subject: photoshop , windows , office . cheap ...</td>\n",
       "      <td>1</td>\n",
       "    </tr>\n",
       "    <tr>\n",
       "      <td>4</td>\n",
       "      <td>2030</td>\n",
       "      <td>ham</td>\n",
       "      <td>Subject: re : indian springs\\r\\nthis deal is t...</td>\n",
       "      <td>0</td>\n",
       "    </tr>\n",
       "  </tbody>\n",
       "</table>\n",
       "</div>"
      ],
      "text/plain": [
       "   Unnamed: 0 label                                               text  \\\n",
       "0         605   ham  Subject: enron methanol ; meter # : 988291\\r\\n...   \n",
       "1        2349   ham  Subject: hpl nom for january 9 , 2001\\r\\n( see...   \n",
       "2        3624   ham  Subject: neon retreat\\r\\nho ho ho , we ' re ar...   \n",
       "3        4685  spam  Subject: photoshop , windows , office . cheap ...   \n",
       "4        2030   ham  Subject: re : indian springs\\r\\nthis deal is t...   \n",
       "\n",
       "   label_num  \n",
       "0          0  \n",
       "1          0  \n",
       "2          0  \n",
       "3          1  \n",
       "4          0  "
      ]
     },
     "execution_count": 3,
     "metadata": {},
     "output_type": "execute_result"
    }
   ],
   "source": [
    "data.head()"
   ]
  },
  {
   "cell_type": "code",
   "execution_count": 4,
   "metadata": {},
   "outputs": [],
   "source": [
    "data.drop([\"Unnamed: 0\" , 'label_num'] , axis = 1 , inplace = True)"
   ]
  },
  {
   "cell_type": "code",
   "execution_count": 5,
   "metadata": {},
   "outputs": [
    {
     "data": {
      "text/plain": [
       "(5171, 2)"
      ]
     },
     "execution_count": 5,
     "metadata": {},
     "output_type": "execute_result"
    }
   ],
   "source": [
    "data.shape"
   ]
  },
  {
   "cell_type": "code",
   "execution_count": 6,
   "metadata": {},
   "outputs": [
    {
     "name": "stdout",
     "output_type": "stream",
     "text": [
      "<class 'pandas.core.frame.DataFrame'>\n",
      "RangeIndex: 5171 entries, 0 to 5170\n",
      "Data columns (total 2 columns):\n",
      "label    5171 non-null object\n",
      "text     5171 non-null object\n",
      "dtypes: object(2)\n",
      "memory usage: 80.9+ KB\n"
     ]
    }
   ],
   "source": [
    "data.info()"
   ]
  },
  {
   "cell_type": "code",
   "execution_count": 7,
   "metadata": {},
   "outputs": [],
   "source": [
    "from sklearn.preprocessing import LabelEncoder\n",
    "encoder=LabelEncoder()\n",
    "data['label']=encoder.fit_transform(data['label'])"
   ]
  },
  {
   "cell_type": "code",
   "execution_count": 8,
   "metadata": {},
   "outputs": [
    {
     "data": {
      "text/html": [
       "<div>\n",
       "<style scoped>\n",
       "    .dataframe tbody tr th:only-of-type {\n",
       "        vertical-align: middle;\n",
       "    }\n",
       "\n",
       "    .dataframe tbody tr th {\n",
       "        vertical-align: top;\n",
       "    }\n",
       "\n",
       "    .dataframe thead th {\n",
       "        text-align: right;\n",
       "    }\n",
       "</style>\n",
       "<table border=\"1\" class=\"dataframe\">\n",
       "  <thead>\n",
       "    <tr style=\"text-align: right;\">\n",
       "      <th></th>\n",
       "      <th>label</th>\n",
       "      <th>text</th>\n",
       "    </tr>\n",
       "  </thead>\n",
       "  <tbody>\n",
       "    <tr>\n",
       "      <td>0</td>\n",
       "      <td>0</td>\n",
       "      <td>Subject: enron methanol ; meter # : 988291\\r\\n...</td>\n",
       "    </tr>\n",
       "    <tr>\n",
       "      <td>1</td>\n",
       "      <td>0</td>\n",
       "      <td>Subject: hpl nom for january 9 , 2001\\r\\n( see...</td>\n",
       "    </tr>\n",
       "    <tr>\n",
       "      <td>2</td>\n",
       "      <td>0</td>\n",
       "      <td>Subject: neon retreat\\r\\nho ho ho , we ' re ar...</td>\n",
       "    </tr>\n",
       "    <tr>\n",
       "      <td>3</td>\n",
       "      <td>1</td>\n",
       "      <td>Subject: photoshop , windows , office . cheap ...</td>\n",
       "    </tr>\n",
       "    <tr>\n",
       "      <td>4</td>\n",
       "      <td>0</td>\n",
       "      <td>Subject: re : indian springs\\r\\nthis deal is t...</td>\n",
       "    </tr>\n",
       "  </tbody>\n",
       "</table>\n",
       "</div>"
      ],
      "text/plain": [
       "   label                                               text\n",
       "0      0  Subject: enron methanol ; meter # : 988291\\r\\n...\n",
       "1      0  Subject: hpl nom for january 9 , 2001\\r\\n( see...\n",
       "2      0  Subject: neon retreat\\r\\nho ho ho , we ' re ar...\n",
       "3      1  Subject: photoshop , windows , office . cheap ...\n",
       "4      0  Subject: re : indian springs\\r\\nthis deal is t..."
      ]
     },
     "execution_count": 8,
     "metadata": {},
     "output_type": "execute_result"
    }
   ],
   "source": [
    "data.head()"
   ]
  },
  {
   "cell_type": "code",
   "execution_count": 9,
   "metadata": {},
   "outputs": [],
   "source": [
    "# Drop Duplicate rows\n",
    "data.drop_duplicates(inplace = True)"
   ]
  },
  {
   "cell_type": "code",
   "execution_count": 10,
   "metadata": {},
   "outputs": [
    {
     "data": {
      "text/plain": [
       "(4993, 2)"
      ]
     },
     "execution_count": 10,
     "metadata": {},
     "output_type": "execute_result"
    }
   ],
   "source": [
    "data.shape"
   ]
  },
  {
   "cell_type": "code",
   "execution_count": 11,
   "metadata": {},
   "outputs": [
    {
     "name": "stderr",
     "output_type": "stream",
     "text": [
      "[nltk_data] Error loading stopwords: HTTP Error 502: Gateway Error\n"
     ]
    },
    {
     "data": {
      "text/plain": [
       "False"
      ]
     },
     "execution_count": 11,
     "metadata": {},
     "output_type": "execute_result"
    }
   ],
   "source": [
    "# Download stopword package\n",
    "nltk.download('stopwords')"
   ]
  },
  {
   "cell_type": "code",
   "execution_count": 12,
   "metadata": {},
   "outputs": [],
   "source": [
    "def process_text(text):\n",
    "    # remove punctuation\n",
    "    nopunc = [char for char in text if char not in string.punctuation]\n",
    "    nopunc = ''.join(nopunc)\n",
    "    \n",
    "    # remove stopwords\n",
    "    clean_words = [word for word in nopunc.split() if word.lower() not in stopwords.words('english')]\n",
    "    \n",
    "    return clean_words"
   ]
  },
  {
   "cell_type": "code",
   "execution_count": 13,
   "metadata": {},
   "outputs": [
    {
     "data": {
      "text/plain": [
       "0    [Subject, enron, methanol, meter, 988291, foll...\n",
       "1    [Subject, hpl, nom, january, 9, 2001, see, att...\n",
       "2    [Subject, neon, retreat, ho, ho, ho, around, w...\n",
       "3    [Subject, photoshop, windows, office, cheap, m...\n",
       "4    [Subject, indian, springs, deal, book, teco, p...\n",
       "Name: text, dtype: object"
      ]
     },
     "execution_count": 13,
     "metadata": {},
     "output_type": "execute_result"
    }
   ],
   "source": [
    "# Tokenised words\n",
    "data['text'].head().apply(process_text)"
   ]
  },
  {
   "cell_type": "code",
   "execution_count": 14,
   "metadata": {},
   "outputs": [
    {
     "name": "stdout",
     "output_type": "stream",
     "text": [
      "['i', 'me', 'my', 'myself', 'we', 'our', 'ours', 'ourselves', 'you', \"you're\", \"you've\", \"you'll\", \"you'd\", 'your', 'yours', 'yourself', 'yourselves', 'he', 'him', 'his', 'himself', 'she', \"she's\", 'her', 'hers', 'herself', 'it', \"it's\", 'its', 'itself', 'they', 'them', 'their', 'theirs', 'themselves', 'what', 'which', 'who', 'whom', 'this', 'that', \"that'll\", 'these', 'those', 'am', 'is', 'are', 'was', 'were', 'be', 'been', 'being', 'have', 'has', 'had', 'having', 'do', 'does', 'did', 'doing', 'a', 'an', 'the', 'and', 'but', 'if', 'or', 'because', 'as', 'until', 'while', 'of', 'at', 'by', 'for', 'with', 'about', 'against', 'between', 'into', 'through', 'during', 'before', 'after', 'above', 'below', 'to', 'from', 'up', 'down', 'in', 'out', 'on', 'off', 'over', 'under', 'again', 'further', 'then', 'once', 'here', 'there', 'when', 'where', 'why', 'how', 'all', 'any', 'both', 'each', 'few', 'more', 'most', 'other', 'some', 'such', 'no', 'nor', 'not', 'only', 'own', 'same', 'so', 'than', 'too', 'very', 's', 't', 'can', 'will', 'just', 'don', \"don't\", 'should', \"should've\", 'now', 'd', 'll', 'm', 'o', 're', 've', 'y', 'ain', 'aren', \"aren't\", 'couldn', \"couldn't\", 'didn', \"didn't\", 'doesn', \"doesn't\", 'hadn', \"hadn't\", 'hasn', \"hasn't\", 'haven', \"haven't\", 'isn', \"isn't\", 'ma', 'mightn', \"mightn't\", 'mustn', \"mustn't\", 'needn', \"needn't\", 'shan', \"shan't\", 'shouldn', \"shouldn't\", 'wasn', \"wasn't\", 'weren', \"weren't\", 'won', \"won't\", 'wouldn', \"wouldn't\"]\n"
     ]
    }
   ],
   "source": [
    "# Stopwords\n",
    "print(stopwords.words('english'))"
   ]
  },
  {
   "cell_type": "code",
   "execution_count": 15,
   "metadata": {},
   "outputs": [],
   "source": [
    "# Convert collection of text into matrix of tokens\n",
    "from sklearn.feature_extraction.text import CountVectorizer\n",
    "mat = CountVectorizer(analyzer = process_text).fit_transform(data['text'])"
   ]
  },
  {
   "cell_type": "code",
   "execution_count": 16,
   "metadata": {},
   "outputs": [],
   "source": [
    "from sklearn.model_selection import train_test_split\n",
    "X_train, X_test, y_train, y_test = train_test_split(mat , data['label'] , test_size=0.2, random_state=11)"
   ]
  },
  {
   "cell_type": "code",
   "execution_count": 17,
   "metadata": {},
   "outputs": [
    {
     "data": {
      "text/plain": [
       "(4993, 50381)"
      ]
     },
     "execution_count": 17,
     "metadata": {},
     "output_type": "execute_result"
    }
   ],
   "source": [
    "mat.shape"
   ]
  },
  {
   "cell_type": "code",
   "execution_count": 18,
   "metadata": {},
   "outputs": [],
   "source": [
    "from sklearn.naive_bayes import MultinomialNB\n",
    "model = MultinomialNB().fit(X_train , y_train)"
   ]
  },
  {
   "cell_type": "code",
   "execution_count": 19,
   "metadata": {},
   "outputs": [],
   "source": [
    "y_pred = model.predict(X_test)"
   ]
  },
  {
   "cell_type": "code",
   "execution_count": 20,
   "metadata": {},
   "outputs": [
    {
     "data": {
      "text/plain": [
       "0.9819819819819819"
      ]
     },
     "execution_count": 20,
     "metadata": {},
     "output_type": "execute_result"
    }
   ],
   "source": [
    "from sklearn import metrics\n",
    "metrics.accuracy_score(y_test, y_pred)"
   ]
  },
  {
   "cell_type": "code",
   "execution_count": 21,
   "metadata": {},
   "outputs": [
    {
     "name": "stdout",
     "output_type": "stream",
     "text": [
      "Confusion Matrix: \n",
      " [[687  10]\n",
      " [  8 294]]\n"
     ]
    }
   ],
   "source": [
    "# pd.crosstab(y_test , y_pred , rownames = ['Actual Type'] , colnames = ['Predict Type'])\n",
    "print('Confusion Matrix: \\n' , metrics.confusion_matrix(y_test , y_pred))"
   ]
  },
  {
   "cell_type": "code",
   "execution_count": 22,
   "metadata": {},
   "outputs": [
    {
     "name": "stderr",
     "output_type": "stream",
     "text": [
      "C:\\Users\\Tirth\\Anaconda3\\lib\\site-packages\\sklearn\\linear_model\\logistic.py:432: FutureWarning: Default solver will be changed to 'lbfgs' in 0.22. Specify a solver to silence this warning.\n",
      "  FutureWarning)\n"
     ]
    }
   ],
   "source": [
    "from sklearn.linear_model import LogisticRegression\n",
    "model = LogisticRegression().fit(X_train , y_train)"
   ]
  },
  {
   "cell_type": "code",
   "execution_count": 23,
   "metadata": {},
   "outputs": [
    {
     "name": "stdout",
     "output_type": "stream",
     "text": [
      "0.977977977977978\n",
      "Confusion Matrix: \n",
      " [[681  16]\n",
      " [  6 296]]\n"
     ]
    }
   ],
   "source": [
    "y_pred = model.predict(X_test)\n",
    "print(metrics.accuracy_score(y_test, y_pred))\n",
    "print('Confusion Matrix: \\n' , metrics.confusion_matrix(y_test , y_pred))"
   ]
  },
  {
   "cell_type": "code",
   "execution_count": 24,
   "metadata": {},
   "outputs": [],
   "source": [
    "from sklearn.neighbors import KNeighborsClassifier\n",
    "model = KNeighborsClassifier().fit(X_train , y_train)"
   ]
  },
  {
   "cell_type": "code",
   "execution_count": 25,
   "metadata": {},
   "outputs": [
    {
     "name": "stdout",
     "output_type": "stream",
     "text": [
      "0.8108108108108109\n",
      "Confusion Matrix: \n",
      " [[517 180]\n",
      " [  9 293]]\n"
     ]
    }
   ],
   "source": [
    "y_pred = model.predict(X_test)\n",
    "print(metrics.accuracy_score(y_test, y_pred))\n",
    "print('Confusion Matrix: \\n' , metrics.confusion_matrix(y_test , y_pred))"
   ]
  },
  {
   "cell_type": "code",
   "execution_count": 26,
   "metadata": {},
   "outputs": [
    {
     "name": "stderr",
     "output_type": "stream",
     "text": [
      "C:\\Users\\Tirth\\Anaconda3\\lib\\site-packages\\sklearn\\ensemble\\forest.py:245: FutureWarning: The default value of n_estimators will change from 10 in version 0.20 to 100 in 0.22.\n",
      "  \"10 in version 0.20 to 100 in 0.22.\", FutureWarning)\n"
     ]
    }
   ],
   "source": [
    "from sklearn.ensemble import RandomForestClassifier\n",
    "model = RandomForestClassifier(n_jobs = 2 , random_state = 0).fit(X_train , y_train)"
   ]
  },
  {
   "cell_type": "code",
   "execution_count": 27,
   "metadata": {},
   "outputs": [
    {
     "name": "stdout",
     "output_type": "stream",
     "text": [
      "0.953953953953954\n",
      "Confusion Matrix: \n",
      " [[680  17]\n",
      " [ 29 273]]\n"
     ]
    }
   ],
   "source": [
    "y_pred = model.predict(X_test)\n",
    "print(metrics.accuracy_score(y_test, y_pred))\n",
    "print('Confusion Matrix: \\n' , metrics.confusion_matrix(y_test , y_pred))"
   ]
  },
  {
   "cell_type": "code",
   "execution_count": 38,
   "metadata": {},
   "outputs": [
    {
     "data": {
      "text/plain": [
       "DecisionTreeClassifier(class_weight=None, criterion='gini', max_depth=None,\n",
       "                       max_features=None, max_leaf_nodes=None,\n",
       "                       min_impurity_decrease=0.0, min_impurity_split=None,\n",
       "                       min_samples_leaf=1, min_samples_split=2,\n",
       "                       min_weight_fraction_leaf=0.0, presort=False,\n",
       "                       random_state=0, splitter='best')"
      ]
     },
     "execution_count": 38,
     "metadata": {},
     "output_type": "execute_result"
    }
   ],
   "source": [
    "from sklearn import tree\n",
    "model = tree.DecisionTreeClassifier(random_state = 0)\n",
    "model.fit(X_train, y_train)"
   ]
  },
  {
   "cell_type": "code",
   "execution_count": 39,
   "metadata": {},
   "outputs": [
    {
     "name": "stdout",
     "output_type": "stream",
     "text": [
      "0.94994994994995\n",
      "Confusion Matrix: \n",
      " [[672  25]\n",
      " [ 25 277]]\n"
     ]
    }
   ],
   "source": [
    "y_pred = model.predict(X_test)\n",
    "print(metrics.accuracy_score(y_test, y_pred))\n",
    "print('Confusion Matrix: \\n' , metrics.confusion_matrix(y_test , y_pred))"
   ]
  },
  {
   "cell_type": "code",
   "execution_count": 40,
   "metadata": {},
   "outputs": [
    {
     "data": {
      "text/plain": [
       "[Text(780.8793103448276, 540.7085106382979, 'X[18720] <= 0.5\\ngini = 0.412\\nsamples = 3994\\nvalue = [2834, 1160]'),\n",
       " Text(775.1781609195402, 534.9255319148937, 'X[24565] <= 0.5\\ngini = 0.482\\nsamples = 2867\\nvalue = [1707, 1160]'),\n",
       " Text(724.7586206896552, 529.1425531914894, 'X[44817] <= 0.5\\ngini = 0.438\\nsamples = 2440\\nvalue = [1648, 792]'),\n",
       " Text(688.0574712643678, 523.3595744680852, 'X[24473] <= 0.5\\ngini = 0.485\\nsamples = 1841\\nvalue = [1080, 761]'),\n",
       " Text(682.3563218390805, 517.5765957446808, 'X[31017] <= 0.5\\ngini = 0.5\\nsamples = 1533\\nvalue = [772, 761]'),\n",
       " Text(676.6551724137931, 511.79361702127665, 'X[7540] <= 0.5\\ngini = 0.494\\nsamples = 1376\\nvalue = [615, 761]'),\n",
       " Text(654.5632183908046, 506.01063829787233, 'X[15235] <= 0.5\\ngini = 0.48\\nsamples = 1256\\nvalue = [502, 754]'),\n",
       " Text(648.8620689655172, 500.22765957446813, 'X[1129] <= 0.5\\ngini = 0.466\\nsamples = 1196\\nvalue = [442, 754]'),\n",
       " Text(633.183908045977, 494.4446808510638, 'X[33091] <= 0.5\\ngini = 0.448\\nsamples = 1135\\nvalue = [384, 751]'),\n",
       " Text(627.4827586206897, 488.6617021276596, 'X[37879] <= 0.5\\ngini = 0.429\\nsamples = 1090\\nvalue = [339, 751]'),\n",
       " Text(613.2298850574713, 482.8787234042553, 'X[32670] <= 0.5\\ngini = 0.404\\nsamples = 1035\\nvalue = [291, 744]'),\n",
       " Text(607.528735632184, 477.0957446808511, 'X[41897] <= 0.5\\ngini = 0.388\\nsamples = 1010\\nvalue = [266, 744]'),\n",
       " Text(601.8275862068965, 471.3127659574468, 'X[36101] <= 0.5\\ngini = 0.374\\nsamples = 991\\nvalue = [247, 744]'),\n",
       " Text(590.4252873563219, 465.5297872340426, 'X[27577] <= 0.5\\ngini = 0.354\\nsamples = 958\\nvalue = [220, 738]'),\n",
       " Text(584.7241379310345, 459.7468085106383, 'X[27267] <= 0.5\\ngini = 0.34\\nsamples = 943\\nvalue = [205, 738]'),\n",
       " Text(579.0229885057471, 453.9638297872341, 'X[35956] <= 0.5\\ngini = 0.331\\nsamples = 933\\nvalue = [195, 738]'),\n",
       " Text(564.7701149425287, 448.1808510638298, 'X[31554] <= 0.5\\ngini = 0.315\\nsamples = 908\\nvalue = [178, 730]'),\n",
       " Text(559.0689655172414, 442.3978723404256, 'X[5581] <= 0.5\\ngini = 0.306\\nsamples = 900\\nvalue = [170, 730]'),\n",
       " Text(553.3678160919541, 436.61489361702127, 'X[9591] <= 0.5\\ngini = 0.297\\nsamples = 892\\nvalue = [162, 730]'),\n",
       " Text(541.9655172413793, 430.83191489361707, 'X[47831] <= 0.5\\ngini = 0.286\\nsamples = 880\\nvalue = [152, 728]'),\n",
       " Text(536.264367816092, 425.04893617021276, 'X[39242] <= 0.5\\ngini = 0.277\\nsamples = 873\\nvalue = [145, 728]'),\n",
       " Text(524.8620689655172, 419.26595744680856, 'X[44613] <= 0.5\\ngini = 0.266\\nsamples = 862\\nvalue = [136, 726]'),\n",
       " Text(519.1609195402299, 413.48297872340424, 'X[10930] <= 1.5\\ngini = 0.258\\nsamples = 856\\nvalue = [130, 726]'),\n",
       " Text(513.4597701149426, 407.70000000000005, 'X[47060] <= 0.5\\ngini = 0.249\\nsamples = 850\\nvalue = [124, 726]'),\n",
       " Text(507.7586206896552, 401.91702127659573, 'X[18546] <= 0.5\\ngini = 0.242\\nsamples = 845\\nvalue = [119, 726]'),\n",
       " Text(502.05747126436785, 396.13404255319153, 'X[22124] <= 0.5\\ngini = 0.235\\nsamples = 840\\nvalue = [114, 726]'),\n",
       " Text(490.65517241379314, 390.3510638297872, 'X[34892] <= 0.5\\ngini = 0.224\\nsamples = 831\\nvalue = [107, 724]'),\n",
       " Text(484.95402298850576, 384.568085106383, 'X[39808] <= 0.5\\ngini = 0.218\\nsamples = 827\\nvalue = [103, 724]'),\n",
       " Text(479.25287356321843, 378.7851063829787, 'X[6294] <= 0.5\\ngini = 0.212\\nsamples = 823\\nvalue = [99, 724]'),\n",
       " Text(460.7241379310345, 373.0021276595745, 'X[22039] <= 0.5\\ngini = 0.204\\nsamples = 817\\nvalue = [94, 723]'),\n",
       " Text(440.7701149425287, 367.2191489361702, 'X[3465] <= 0.5\\ngini = 0.193\\nsamples = 806\\nvalue = [87, 719]'),\n",
       " Text(429.367816091954, 361.436170212766, 'X[49475] <= 0.5\\ngini = 0.186\\nsamples = 801\\nvalue = [83, 718]'),\n",
       " Text(423.6666666666667, 355.6531914893617, 'X[2963] <= 0.5\\ngini = 0.18\\nsamples = 798\\nvalue = [80, 718]'),\n",
       " Text(417.9655172413793, 349.8702127659575, 'X[43993] <= 0.5\\ngini = 0.175\\nsamples = 795\\nvalue = [77, 718]'),\n",
       " Text(406.5632183908046, 344.0872340425532, 'X[969] <= 0.5\\ngini = 0.17\\nsamples = 791\\nvalue = [74, 717]'),\n",
       " Text(400.86206896551727, 338.304255319149, 'X[2174] <= 0.5\\ngini = 0.166\\nsamples = 789\\nvalue = [72, 717]'),\n",
       " Text(395.1609195402299, 332.52127659574467, 'X[31021] <= 0.5\\ngini = 0.162\\nsamples = 787\\nvalue = [70, 717]'),\n",
       " Text(389.45977011494256, 326.73829787234047, 'X[10703] <= 0.5\\ngini = 0.158\\nsamples = 785\\nvalue = [68, 717]'),\n",
       " Text(383.7586206896552, 320.95531914893616, 'X[46238] <= 0.5\\ngini = 0.154\\nsamples = 783\\nvalue = [66, 717]'),\n",
       " Text(378.05747126436785, 315.17234042553196, 'X[15269] <= 0.5\\ngini = 0.15\\nsamples = 781\\nvalue = [64, 717]'),\n",
       " Text(372.35632183908046, 309.38936170212764, 'X[24038] <= 0.5\\ngini = 0.147\\nsamples = 779\\nvalue = [62, 717]'),\n",
       " Text(366.65517241379314, 303.60638297872345, 'X[46787] <= 0.5\\ngini = 0.143\\nsamples = 777\\nvalue = [60, 717]'),\n",
       " Text(349.9080459770115, 297.82340425531913, 'X[21704] <= 0.5\\ngini = 0.137\\nsamples = 772\\nvalue = [57, 715]'),\n",
       " Text(333.51724137931035, 292.04042553191493, 'X[24096] <= 0.5\\ngini = 0.133\\nsamples = 769\\nvalue = [55, 714]'),\n",
       " Text(317.8390804597701, 286.2574468085106, 'X[39352] <= 0.5\\ngini = 0.129\\nsamples = 766\\nvalue = [53, 713]'),\n",
       " Text(303.58620689655174, 280.4744680851064, 'X[35718] <= 0.5\\ngini = 0.125\\nsamples = 763\\nvalue = [51, 712]'),\n",
       " Text(292.18390804597703, 274.6914893617021, 'X[23286] <= 0.5\\ngini = 0.116\\nsamples = 747\\nvalue = [46, 701]'),\n",
       " Text(286.48275862068965, 268.9085106382979, 'X[30668] <= 0.5\\ngini = 0.113\\nsamples = 746\\nvalue = [45, 701]'),\n",
       " Text(280.7816091954023, 263.1255319148936, 'X[31765] <= 0.5\\ngini = 0.111\\nsamples = 745\\nvalue = [44, 701]'),\n",
       " Text(275.08045977011494, 257.3425531914894, 'X[168] <= 0.5\\ngini = 0.109\\nsamples = 744\\nvalue = [43, 701]'),\n",
       " Text(269.3793103448276, 251.5595744680851, 'X[14843] <= 0.5\\ngini = 0.107\\nsamples = 743\\nvalue = [42, 701]'),\n",
       " Text(263.67816091954023, 245.7765957446809, 'X[46620] <= 0.5\\ngini = 0.104\\nsamples = 742\\nvalue = [41, 701]'),\n",
       " Text(257.9770114942529, 239.99361702127658, 'X[21813] <= 0.5\\ngini = 0.102\\nsamples = 741\\nvalue = [40, 701]'),\n",
       " Text(252.27586206896552, 234.21063829787238, 'X[39828] <= 0.5\\ngini = 0.1\\nsamples = 740\\nvalue = [39, 701]'),\n",
       " Text(246.57471264367817, 228.42765957446807, 'X[14304] <= 0.5\\ngini = 0.098\\nsamples = 739\\nvalue = [38, 701]'),\n",
       " Text(240.8735632183908, 222.64468085106387, 'X[11204] <= 1.5\\ngini = 0.095\\nsamples = 738\\nvalue = [37, 701]'),\n",
       " Text(235.17241379310346, 216.86170212765956, 'X[41097] <= 0.5\\ngini = 0.093\\nsamples = 737\\nvalue = [36, 701]'),\n",
       " Text(229.4712643678161, 211.07872340425536, 'X[46025] <= 0.5\\ngini = 0.091\\nsamples = 736\\nvalue = [35, 701]'),\n",
       " Text(223.77011494252875, 205.29574468085104, 'X[20426] <= 1.5\\ngini = 0.088\\nsamples = 735\\nvalue = [34, 701]'),\n",
       " Text(218.0689655172414, 199.51276595744685, 'X[35225] <= 0.5\\ngini = 0.086\\nsamples = 734\\nvalue = [33, 701]'),\n",
       " Text(212.36781609195404, 193.72978723404253, 'X[15697] <= 0.5\\ngini = 0.084\\nsamples = 733\\nvalue = [32, 701]'),\n",
       " Text(206.66666666666669, 187.94680851063833, 'X[2785] <= 0.5\\ngini = 0.081\\nsamples = 732\\nvalue = [31, 701]'),\n",
       " Text(200.9655172413793, 182.16382978723402, 'X[4632] <= 0.5\\ngini = 0.079\\nsamples = 731\\nvalue = [30, 701]'),\n",
       " Text(195.26436781609195, 176.38085106382982, 'X[17831] <= 0.5\\ngini = 0.076\\nsamples = 730\\nvalue = [29, 701]'),\n",
       " Text(189.5632183908046, 170.5978723404255, 'X[28425] <= 0.5\\ngini = 0.074\\nsamples = 729\\nvalue = [28, 701]'),\n",
       " Text(183.86206896551724, 164.8148936170213, 'X[35038] <= 1.0\\ngini = 0.071\\nsamples = 728\\nvalue = [27, 701]'),\n",
       " Text(178.16091954022988, 159.031914893617, 'X[49018] <= 1.5\\ngini = 0.069\\nsamples = 727\\nvalue = [26, 701]'),\n",
       " Text(172.45977011494253, 153.2489361702128, 'X[31152] <= 0.5\\ngini = 0.066\\nsamples = 726\\nvalue = [25, 701]'),\n",
       " Text(166.75862068965517, 147.4659574468085, 'X[8348] <= 0.5\\ngini = 0.064\\nsamples = 725\\nvalue = [24, 701]'),\n",
       " Text(161.05747126436782, 141.6829787234043, 'X[36616] <= 0.5\\ngini = 0.062\\nsamples = 724\\nvalue = [23, 701]'),\n",
       " Text(155.35632183908046, 135.89999999999998, 'X[1215] <= 0.5\\ngini = 0.059\\nsamples = 723\\nvalue = [22, 701]'),\n",
       " Text(149.6551724137931, 130.11702127659578, 'X[48407] <= 0.5\\ngini = 0.056\\nsamples = 722\\nvalue = [21, 701]'),\n",
       " Text(143.95402298850576, 124.33404255319147, 'X[33492] <= 0.5\\ngini = 0.054\\nsamples = 721\\nvalue = [20, 701]'),\n",
       " Text(138.2528735632184, 118.55106382978727, 'X[29713] <= 1.0\\ngini = 0.051\\nsamples = 720\\nvalue = [19, 701]'),\n",
       " Text(132.55172413793105, 112.76808510638296, 'X[38324] <= 0.5\\ngini = 0.049\\nsamples = 719\\nvalue = [18, 701]'),\n",
       " Text(126.85057471264368, 106.98510638297876, 'X[2934] <= 0.5\\ngini = 0.046\\nsamples = 718\\nvalue = [17, 701]'),\n",
       " Text(121.14942528735632, 101.20212765957444, 'X[42118] <= 0.5\\ngini = 0.044\\nsamples = 717\\nvalue = [16, 701]'),\n",
       " Text(115.44827586206897, 95.41914893617025, 'X[20835] <= 0.5\\ngini = 0.041\\nsamples = 716\\nvalue = [15, 701]'),\n",
       " Text(109.74712643678161, 89.63617021276593, 'X[30906] <= 1.0\\ngini = 0.038\\nsamples = 715\\nvalue = [14, 701]'),\n",
       " Text(104.04597701149426, 83.85319148936173, 'X[6910] <= 0.5\\ngini = 0.036\\nsamples = 714\\nvalue = [13, 701]'),\n",
       " Text(98.3448275862069, 78.07021276595742, 'X[32834] <= 1.0\\ngini = 0.033\\nsamples = 713\\nvalue = [12, 701]'),\n",
       " Text(92.64367816091955, 72.28723404255322, 'X[47528] <= 2.5\\ngini = 0.03\\nsamples = 712\\nvalue = [11, 701]'),\n",
       " Text(86.94252873563218, 66.50425531914891, 'X[19072] <= 0.5\\ngini = 0.028\\nsamples = 711\\nvalue = [10, 701]'),\n",
       " Text(81.24137931034483, 60.72127659574471, 'X[34812] <= 0.5\\ngini = 0.025\\nsamples = 710\\nvalue = [9, 701]'),\n",
       " Text(75.54022988505747, 54.9382978723404, 'X[19585] <= 0.5\\ngini = 0.022\\nsamples = 709\\nvalue = [8, 701]'),\n",
       " Text(69.83908045977012, 49.1553191489362, 'X[16501] <= 0.5\\ngini = 0.02\\nsamples = 708\\nvalue = [7, 701]'),\n",
       " Text(64.13793103448276, 43.37234042553189, 'X[35714] <= 1.5\\ngini = 0.017\\nsamples = 707\\nvalue = [6, 701]'),\n",
       " Text(58.43678160919541, 37.58936170212769, 'X[27735] <= 0.5\\ngini = 0.014\\nsamples = 706\\nvalue = [5, 701]'),\n",
       " Text(52.735632183908045, 31.806382978723377, 'X[38554] <= 0.5\\ngini = 0.011\\nsamples = 705\\nvalue = [4, 701]'),\n",
       " Text(37.05747126436782, 26.02340425531918, 'X[10452] <= 0.5\\ngini = 0.008\\nsamples = 703\\nvalue = [3, 700]'),\n",
       " Text(22.804597701149426, 20.240425531914866, 'X[15300] <= 1.5\\ngini = 0.006\\nsamples = 701\\nvalue = [2, 699]'),\n",
       " Text(11.402298850574713, 14.457446808510667, 'X[30172] <= 0.5\\ngini = 0.003\\nsamples = 699\\nvalue = [1, 698]'),\n",
       " Text(5.7011494252873565, 8.674468085106355, 'gini = 0.0\\nsamples = 694\\nvalue = [0, 694]'),\n",
       " Text(17.10344827586207, 8.674468085106355, 'X[12040] <= 0.5\\ngini = 0.32\\nsamples = 5\\nvalue = [1, 4]'),\n",
       " Text(11.402298850574713, 2.891489361702156, 'gini = 0.0\\nsamples = 4\\nvalue = [0, 4]'),\n",
       " Text(22.804597701149426, 2.891489361702156, 'gini = 0.0\\nsamples = 1\\nvalue = [1, 0]'),\n",
       " Text(34.20689655172414, 14.457446808510667, 'X[41634] <= 0.5\\ngini = 0.5\\nsamples = 2\\nvalue = [1, 1]'),\n",
       " Text(28.50574712643678, 8.674468085106355, 'gini = 0.0\\nsamples = 1\\nvalue = [1, 0]'),\n",
       " Text(39.9080459770115, 8.674468085106355, 'gini = 0.0\\nsamples = 1\\nvalue = [0, 1]'),\n",
       " Text(51.310344827586206, 20.240425531914866, 'X[15810] <= 0.5\\ngini = 0.5\\nsamples = 2\\nvalue = [1, 1]'),\n",
       " Text(45.60919540229885, 14.457446808510667, 'gini = 0.0\\nsamples = 1\\nvalue = [1, 0]'),\n",
       " Text(57.01149425287356, 14.457446808510667, 'gini = 0.0\\nsamples = 1\\nvalue = [0, 1]'),\n",
       " Text(68.41379310344828, 26.02340425531918, 'X[17523] <= 0.5\\ngini = 0.5\\nsamples = 2\\nvalue = [1, 1]'),\n",
       " Text(62.71264367816092, 20.240425531914866, 'gini = 0.0\\nsamples = 1\\nvalue = [1, 0]'),\n",
       " Text(74.11494252873564, 20.240425531914866, 'gini = 0.0\\nsamples = 1\\nvalue = [0, 1]'),\n",
       " Text(64.13793103448276, 31.806382978723377, 'gini = 0.0\\nsamples = 1\\nvalue = [1, 0]'),\n",
       " Text(69.83908045977012, 37.58936170212769, 'gini = 0.0\\nsamples = 1\\nvalue = [1, 0]'),\n",
       " Text(75.54022988505747, 43.37234042553189, 'gini = 0.0\\nsamples = 1\\nvalue = [1, 0]'),\n",
       " Text(81.24137931034483, 49.1553191489362, 'gini = 0.0\\nsamples = 1\\nvalue = [1, 0]'),\n",
       " Text(86.94252873563218, 54.9382978723404, 'gini = 0.0\\nsamples = 1\\nvalue = [1, 0]'),\n",
       " Text(92.64367816091955, 60.72127659574471, 'gini = 0.0\\nsamples = 1\\nvalue = [1, 0]'),\n",
       " Text(98.3448275862069, 66.50425531914891, 'gini = 0.0\\nsamples = 1\\nvalue = [1, 0]'),\n",
       " Text(104.04597701149426, 72.28723404255322, 'gini = 0.0\\nsamples = 1\\nvalue = [1, 0]'),\n",
       " Text(109.74712643678161, 78.07021276595742, 'gini = 0.0\\nsamples = 1\\nvalue = [1, 0]'),\n",
       " Text(115.44827586206897, 83.85319148936173, 'gini = 0.0\\nsamples = 1\\nvalue = [1, 0]'),\n",
       " Text(121.14942528735632, 89.63617021276593, 'gini = 0.0\\nsamples = 1\\nvalue = [1, 0]'),\n",
       " Text(126.85057471264368, 95.41914893617025, 'gini = 0.0\\nsamples = 1\\nvalue = [1, 0]'),\n",
       " Text(132.55172413793105, 101.20212765957444, 'gini = 0.0\\nsamples = 1\\nvalue = [1, 0]'),\n",
       " Text(138.2528735632184, 106.98510638297876, 'gini = 0.0\\nsamples = 1\\nvalue = [1, 0]'),\n",
       " Text(143.95402298850576, 112.76808510638296, 'gini = 0.0\\nsamples = 1\\nvalue = [1, 0]'),\n",
       " Text(149.6551724137931, 118.55106382978727, 'gini = 0.0\\nsamples = 1\\nvalue = [1, 0]'),\n",
       " Text(155.35632183908046, 124.33404255319147, 'gini = 0.0\\nsamples = 1\\nvalue = [1, 0]'),\n",
       " Text(161.05747126436782, 130.11702127659578, 'gini = 0.0\\nsamples = 1\\nvalue = [1, 0]'),\n",
       " Text(166.75862068965517, 135.89999999999998, 'gini = 0.0\\nsamples = 1\\nvalue = [1, 0]'),\n",
       " Text(172.45977011494253, 141.6829787234043, 'gini = 0.0\\nsamples = 1\\nvalue = [1, 0]'),\n",
       " Text(178.16091954022988, 147.4659574468085, 'gini = 0.0\\nsamples = 1\\nvalue = [1, 0]'),\n",
       " Text(183.86206896551724, 153.2489361702128, 'gini = 0.0\\nsamples = 1\\nvalue = [1, 0]'),\n",
       " Text(189.5632183908046, 159.031914893617, 'gini = 0.0\\nsamples = 1\\nvalue = [1, 0]'),\n",
       " Text(195.26436781609195, 164.8148936170213, 'gini = 0.0\\nsamples = 1\\nvalue = [1, 0]'),\n",
       " Text(200.9655172413793, 170.5978723404255, 'gini = 0.0\\nsamples = 1\\nvalue = [1, 0]'),\n",
       " Text(206.66666666666669, 176.38085106382982, 'gini = 0.0\\nsamples = 1\\nvalue = [1, 0]'),\n",
       " Text(212.36781609195404, 182.16382978723402, 'gini = 0.0\\nsamples = 1\\nvalue = [1, 0]'),\n",
       " Text(218.0689655172414, 187.94680851063833, 'gini = 0.0\\nsamples = 1\\nvalue = [1, 0]'),\n",
       " Text(223.77011494252875, 193.72978723404253, 'gini = 0.0\\nsamples = 1\\nvalue = [1, 0]'),\n",
       " Text(229.4712643678161, 199.51276595744685, 'gini = 0.0\\nsamples = 1\\nvalue = [1, 0]'),\n",
       " Text(235.17241379310346, 205.29574468085104, 'gini = 0.0\\nsamples = 1\\nvalue = [1, 0]'),\n",
       " Text(240.8735632183908, 211.07872340425536, 'gini = 0.0\\nsamples = 1\\nvalue = [1, 0]'),\n",
       " Text(246.57471264367817, 216.86170212765956, 'gini = 0.0\\nsamples = 1\\nvalue = [1, 0]'),\n",
       " Text(252.27586206896552, 222.64468085106387, 'gini = 0.0\\nsamples = 1\\nvalue = [1, 0]'),\n",
       " Text(257.9770114942529, 228.42765957446807, 'gini = 0.0\\nsamples = 1\\nvalue = [1, 0]'),\n",
       " Text(263.67816091954023, 234.21063829787238, 'gini = 0.0\\nsamples = 1\\nvalue = [1, 0]'),\n",
       " Text(269.3793103448276, 239.99361702127658, 'gini = 0.0\\nsamples = 1\\nvalue = [1, 0]'),\n",
       " Text(275.08045977011494, 245.7765957446809, 'gini = 0.0\\nsamples = 1\\nvalue = [1, 0]'),\n",
       " Text(280.7816091954023, 251.5595744680851, 'gini = 0.0\\nsamples = 1\\nvalue = [1, 0]'),\n",
       " Text(286.48275862068965, 257.3425531914894, 'gini = 0.0\\nsamples = 1\\nvalue = [1, 0]'),\n",
       " Text(292.18390804597703, 263.1255319148936, 'gini = 0.0\\nsamples = 1\\nvalue = [1, 0]'),\n",
       " Text(297.88505747126436, 268.9085106382979, 'gini = 0.0\\nsamples = 1\\nvalue = [1, 0]'),\n",
       " Text(314.98850574712645, 274.6914893617021, 'X[2980] <= 0.5\\ngini = 0.43\\nsamples = 16\\nvalue = [5, 11]'),\n",
       " Text(309.28735632183907, 268.9085106382979, 'X[41847] <= 0.5\\ngini = 0.496\\nsamples = 11\\nvalue = [5, 6]'),\n",
       " Text(303.58620689655174, 263.1255319148936, 'X[24405] <= 0.5\\ngini = 0.469\\nsamples = 8\\nvalue = [5, 3]'),\n",
       " Text(297.88505747126436, 257.3425531914894, 'X[15232] <= 0.5\\ngini = 0.278\\nsamples = 6\\nvalue = [5, 1]'),\n",
       " Text(292.18390804597703, 251.5595744680851, 'gini = 0.0\\nsamples = 5\\nvalue = [5, 0]'),\n",
       " Text(303.58620689655174, 251.5595744680851, 'gini = 0.0\\nsamples = 1\\nvalue = [0, 1]'),\n",
       " Text(309.28735632183907, 257.3425531914894, 'gini = 0.0\\nsamples = 2\\nvalue = [0, 2]'),\n",
       " Text(314.98850574712645, 263.1255319148936, 'gini = 0.0\\nsamples = 3\\nvalue = [0, 3]'),\n",
       " Text(320.6896551724138, 268.9085106382979, 'gini = 0.0\\nsamples = 5\\nvalue = [0, 5]'),\n",
       " Text(332.0919540229885, 280.4744680851064, 'X[40905] <= 0.5\\ngini = 0.444\\nsamples = 3\\nvalue = [2, 1]'),\n",
       " Text(326.39080459770116, 274.6914893617021, 'gini = 0.0\\nsamples = 2\\nvalue = [2, 0]'),\n",
       " Text(337.7931034482759, 274.6914893617021, 'gini = 0.0\\nsamples = 1\\nvalue = [0, 1]'),\n",
       " Text(349.1954022988506, 286.2574468085106, 'X[24701] <= 0.5\\ngini = 0.444\\nsamples = 3\\nvalue = [2, 1]'),\n",
       " Text(343.49425287356325, 280.4744680851064, 'gini = 0.0\\nsamples = 2\\nvalue = [2, 0]'),\n",
       " Text(354.89655172413796, 280.4744680851064, 'gini = 0.0\\nsamples = 1\\nvalue = [0, 1]'),\n",
       " Text(366.2988505747127, 292.04042553191493, 'X[20530] <= 0.5\\ngini = 0.444\\nsamples = 3\\nvalue = [2, 1]'),\n",
       " Text(360.5977011494253, 286.2574468085106, 'gini = 0.0\\nsamples = 2\\nvalue = [2, 0]'),\n",
       " Text(372.0, 286.2574468085106, 'gini = 0.0\\nsamples = 1\\nvalue = [0, 1]'),\n",
       " Text(383.4022988505747, 297.82340425531913, 'X[19720] <= 0.5\\ngini = 0.48\\nsamples = 5\\nvalue = [3, 2]'),\n",
       " Text(377.7011494252874, 292.04042553191493, 'gini = 0.0\\nsamples = 3\\nvalue = [3, 0]'),\n",
       " Text(389.1034482758621, 292.04042553191493, 'gini = 0.0\\nsamples = 2\\nvalue = [0, 2]'),\n",
       " Text(378.05747126436785, 303.60638297872345, 'gini = 0.0\\nsamples = 2\\nvalue = [2, 0]'),\n",
       " Text(383.7586206896552, 309.38936170212764, 'gini = 0.0\\nsamples = 2\\nvalue = [2, 0]'),\n",
       " Text(389.45977011494256, 315.17234042553196, 'gini = 0.0\\nsamples = 2\\nvalue = [2, 0]'),\n",
       " Text(395.1609195402299, 320.95531914893616, 'gini = 0.0\\nsamples = 2\\nvalue = [2, 0]'),\n",
       " Text(400.86206896551727, 326.73829787234047, 'gini = 0.0\\nsamples = 2\\nvalue = [2, 0]'),\n",
       " Text(406.5632183908046, 332.52127659574467, 'gini = 0.0\\nsamples = 2\\nvalue = [2, 0]'),\n",
       " Text(412.264367816092, 338.304255319149, 'gini = 0.0\\nsamples = 2\\nvalue = [2, 0]'),\n",
       " Text(429.367816091954, 344.0872340425532, 'X[16081] <= 0.5\\ngini = 0.375\\nsamples = 4\\nvalue = [3, 1]'),\n",
       " Text(423.6666666666667, 338.304255319149, 'gini = 0.0\\nsamples = 3\\nvalue = [3, 0]'),\n",
       " Text(435.0689655172414, 338.304255319149, 'gini = 0.0\\nsamples = 1\\nvalue = [0, 1]'),\n",
       " Text(429.367816091954, 349.8702127659575, 'gini = 0.0\\nsamples = 3\\nvalue = [3, 0]'),\n",
       " Text(435.0689655172414, 355.6531914893617, 'gini = 0.0\\nsamples = 3\\nvalue = [3, 0]'),\n",
       " Text(452.1724137931035, 361.436170212766, 'X[33224] <= 0.5\\ngini = 0.32\\nsamples = 5\\nvalue = [4, 1]'),\n",
       " Text(446.4712643678161, 355.6531914893617, 'gini = 0.0\\nsamples = 4\\nvalue = [4, 0]'),\n",
       " Text(457.8735632183908, 355.6531914893617, 'gini = 0.0\\nsamples = 1\\nvalue = [0, 1]'),\n",
       " Text(480.67816091954023, 367.2191489361702, 'X[22438] <= 0.5\\ngini = 0.463\\nsamples = 11\\nvalue = [7, 4]'),\n",
       " Text(474.9770114942529, 361.436170212766, 'X[13050] <= 0.5\\ngini = 0.32\\nsamples = 5\\nvalue = [1, 4]'),\n",
       " Text(469.2758620689655, 355.6531914893617, 'gini = 0.0\\nsamples = 4\\nvalue = [0, 4]'),\n",
       " Text(480.67816091954023, 355.6531914893617, 'gini = 0.0\\nsamples = 1\\nvalue = [1, 0]'),\n",
       " Text(486.3793103448276, 361.436170212766, 'gini = 0.0\\nsamples = 6\\nvalue = [6, 0]'),\n",
       " Text(497.7816091954023, 373.0021276595745, 'X[38563] <= 0.5\\ngini = 0.278\\nsamples = 6\\nvalue = [5, 1]'),\n",
       " Text(492.08045977011494, 367.2191489361702, 'gini = 0.0\\nsamples = 5\\nvalue = [5, 0]'),\n",
       " Text(503.48275862068965, 367.2191489361702, 'gini = 0.0\\nsamples = 1\\nvalue = [0, 1]'),\n",
       " Text(490.65517241379314, 378.7851063829787, 'gini = 0.0\\nsamples = 4\\nvalue = [4, 0]'),\n",
       " Text(496.35632183908046, 384.568085106383, 'gini = 0.0\\nsamples = 4\\nvalue = [4, 0]'),\n",
       " Text(513.4597701149426, 390.3510638297872, 'X[42621] <= 0.5\\ngini = 0.346\\nsamples = 9\\nvalue = [7, 2]'),\n",
       " Text(507.7586206896552, 384.568085106383, 'X[19335] <= 0.5\\ngini = 0.444\\nsamples = 3\\nvalue = [1, 2]'),\n",
       " Text(502.05747126436785, 378.7851063829787, 'gini = 0.0\\nsamples = 2\\nvalue = [0, 2]'),\n",
       " Text(513.4597701149426, 378.7851063829787, 'gini = 0.0\\nsamples = 1\\nvalue = [1, 0]'),\n",
       " Text(519.1609195402299, 384.568085106383, 'gini = 0.0\\nsamples = 6\\nvalue = [6, 0]'),\n",
       " Text(513.4597701149426, 396.13404255319153, 'gini = 0.0\\nsamples = 5\\nvalue = [5, 0]'),\n",
       " Text(519.1609195402299, 401.91702127659573, 'gini = 0.0\\nsamples = 5\\nvalue = [5, 0]'),\n",
       " Text(524.8620689655172, 407.70000000000005, 'gini = 0.0\\nsamples = 6\\nvalue = [6, 0]'),\n",
       " Text(530.5632183908046, 413.48297872340424, 'gini = 0.0\\nsamples = 6\\nvalue = [6, 0]'),\n",
       " Text(547.6666666666666, 419.26595744680856, 'X[45341] <= 0.5\\ngini = 0.298\\nsamples = 11\\nvalue = [9, 2]'),\n",
       " Text(541.9655172413793, 413.48297872340424, 'gini = 0.0\\nsamples = 9\\nvalue = [9, 0]'),\n",
       " Text(553.3678160919541, 413.48297872340424, 'gini = 0.0\\nsamples = 2\\nvalue = [0, 2]'),\n",
       " Text(547.6666666666666, 425.04893617021276, 'gini = 0.0\\nsamples = 7\\nvalue = [7, 0]'),\n",
       " Text(564.7701149425287, 430.83191489361707, 'X[40186] <= 0.5\\ngini = 0.278\\nsamples = 12\\nvalue = [10, 2]'),\n",
       " Text(559.0689655172414, 425.04893617021276, 'gini = 0.0\\nsamples = 10\\nvalue = [10, 0]'),\n",
       " Text(570.4712643678162, 425.04893617021276, 'gini = 0.0\\nsamples = 2\\nvalue = [0, 2]'),\n",
       " Text(564.7701149425287, 436.61489361702127, 'gini = 0.0\\nsamples = 8\\nvalue = [8, 0]'),\n",
       " Text(570.4712643678162, 442.3978723404256, 'gini = 0.0\\nsamples = 8\\nvalue = [8, 0]'),\n",
       " Text(593.2758620689656, 448.1808510638298, 'X[32749] <= 0.5\\ngini = 0.435\\nsamples = 25\\nvalue = [17, 8]'),\n",
       " Text(587.5747126436781, 442.3978723404256, 'X[30043] <= 0.5\\ngini = 0.308\\nsamples = 21\\nvalue = [17, 4]'),\n",
       " Text(581.8735632183908, 436.61489361702127, 'X[30399] <= 0.5\\ngini = 0.188\\nsamples = 19\\nvalue = [17, 2]'),\n",
       " Text(576.1724137931035, 430.83191489361707, 'gini = 0.0\\nsamples = 17\\nvalue = [17, 0]'),\n",
       " Text(587.5747126436781, 430.83191489361707, 'gini = 0.0\\nsamples = 2\\nvalue = [0, 2]'),\n",
       " Text(593.2758620689656, 436.61489361702127, 'gini = 0.0\\nsamples = 2\\nvalue = [0, 2]'),\n",
       " Text(598.9770114942529, 442.3978723404256, 'gini = 0.0\\nsamples = 4\\nvalue = [0, 4]'),\n",
       " Text(590.4252873563219, 453.9638297872341, 'gini = 0.0\\nsamples = 10\\nvalue = [10, 0]'),\n",
       " Text(596.1264367816092, 459.7468085106383, 'gini = 0.0\\nsamples = 15\\nvalue = [15, 0]'),\n",
       " Text(613.2298850574713, 465.5297872340426, 'X[32771] <= 1.5\\ngini = 0.298\\nsamples = 33\\nvalue = [27, 6]'),\n",
       " Text(607.528735632184, 459.7468085106383, 'X[2594] <= 1.5\\ngini = 0.128\\nsamples = 29\\nvalue = [27, 2]'),\n",
       " Text(601.8275862068965, 453.9638297872341, 'gini = 0.0\\nsamples = 27\\nvalue = [27, 0]'),\n",
       " Text(613.2298850574713, 453.9638297872341, 'gini = 0.0\\nsamples = 2\\nvalue = [0, 2]'),\n",
       " Text(618.9310344827586, 459.7468085106383, 'gini = 0.0\\nsamples = 4\\nvalue = [0, 4]'),\n",
       " Text(613.2298850574713, 471.3127659574468, 'gini = 0.0\\nsamples = 19\\nvalue = [19, 0]'),\n",
       " Text(618.9310344827586, 477.0957446808511, 'gini = 0.0\\nsamples = 25\\nvalue = [25, 0]'),\n",
       " Text(641.735632183908, 482.8787234042553, 'X[47661] <= 0.5\\ngini = 0.222\\nsamples = 55\\nvalue = [48, 7]'),\n",
       " Text(636.0344827586207, 477.0957446808511, 'X[25597] <= 0.5\\ngini = 0.111\\nsamples = 51\\nvalue = [48, 3]'),\n",
       " Text(630.3333333333334, 471.3127659574468, 'X[34042] <= 0.5\\ngini = 0.04\\nsamples = 49\\nvalue = [48, 1]'),\n",
       " Text(624.632183908046, 465.5297872340426, 'gini = 0.0\\nsamples = 48\\nvalue = [48, 0]'),\n",
       " Text(636.0344827586207, 465.5297872340426, 'gini = 0.0\\nsamples = 1\\nvalue = [0, 1]'),\n",
       " Text(641.735632183908, 471.3127659574468, 'gini = 0.0\\nsamples = 2\\nvalue = [0, 2]'),\n",
       " Text(647.4367816091955, 477.0957446808511, 'gini = 0.0\\nsamples = 4\\nvalue = [0, 4]'),\n",
       " Text(638.8850574712644, 488.6617021276596, 'gini = 0.0\\nsamples = 45\\nvalue = [45, 0]'),\n",
       " Text(664.5402298850574, 494.4446808510638, 'X[26190] <= 0.5\\ngini = 0.094\\nsamples = 61\\nvalue = [58, 3]'),\n",
       " Text(658.8390804597701, 488.6617021276596, 'X[19205] <= 0.5\\ngini = 0.033\\nsamples = 59\\nvalue = [58, 1]'),\n",
       " Text(653.1379310344828, 482.8787234042553, 'gini = 0.0\\nsamples = 58\\nvalue = [58, 0]'),\n",
       " Text(664.5402298850574, 482.8787234042553, 'gini = 0.0\\nsamples = 1\\nvalue = [0, 1]'),\n",
       " Text(670.2413793103449, 488.6617021276596, 'gini = 0.0\\nsamples = 2\\nvalue = [0, 2]'),\n",
       " Text(660.264367816092, 500.22765957446813, 'gini = 0.0\\nsamples = 60\\nvalue = [60, 0]'),\n",
       " Text(698.7471264367816, 506.01063829787233, 'X[31274] <= 0.5\\ngini = 0.11\\nsamples = 120\\nvalue = [113, 7]'),\n",
       " Text(693.0459770114943, 500.22765957446813, 'X[46759] <= 0.5\\ngini = 0.034\\nsamples = 115\\nvalue = [113, 2]'),\n",
       " Text(687.3448275862069, 494.4446808510638, 'X[38294] <= 0.5\\ngini = 0.017\\nsamples = 114\\nvalue = [113, 1]'),\n",
       " Text(681.6436781609195, 488.6617021276596, 'gini = 0.0\\nsamples = 112\\nvalue = [112, 0]'),\n",
       " Text(693.0459770114943, 488.6617021276596, 'X[27474] <= 0.5\\ngini = 0.5\\nsamples = 2\\nvalue = [1, 1]'),\n",
       " Text(687.3448275862069, 482.8787234042553, 'gini = 0.0\\nsamples = 1\\nvalue = [0, 1]'),\n",
       " Text(698.7471264367816, 482.8787234042553, 'gini = 0.0\\nsamples = 1\\nvalue = [1, 0]'),\n",
       " Text(698.7471264367816, 494.4446808510638, 'gini = 0.0\\nsamples = 1\\nvalue = [0, 1]'),\n",
       " Text(704.448275862069, 500.22765957446813, 'gini = 0.0\\nsamples = 5\\nvalue = [0, 5]'),\n",
       " Text(688.0574712643678, 511.79361702127665, 'gini = 0.0\\nsamples = 157\\nvalue = [157, 0]'),\n",
       " Text(693.7586206896552, 517.5765957446808, 'gini = 0.0\\nsamples = 308\\nvalue = [308, 0]'),\n",
       " Text(761.4597701149426, 523.3595744680852, 'X[26188] <= 0.5\\ngini = 0.098\\nsamples = 599\\nvalue = [568, 31]'),\n",
       " Text(755.7586206896552, 517.5765957446808, 'X[7511] <= 0.5\\ngini = 0.053\\nsamples = 584\\nvalue = [568, 16]'),\n",
       " Text(750.0574712643678, 511.79361702127665, 'X[23715] <= 0.5\\ngini = 0.041\\nsamples = 580\\nvalue = [568, 12]'),\n",
       " Text(738.6551724137931, 506.01063829787233, 'X[48946] <= 0.5\\ngini = 0.024\\nsamples = 573\\nvalue = [566, 7]'),\n",
       " Text(732.9540229885058, 500.22765957446813, 'X[24435] <= 0.5\\ngini = 0.017\\nsamples = 571\\nvalue = [566, 5]'),\n",
       " Text(727.2528735632184, 494.4446808510638, 'X[49065] <= 0.5\\ngini = 0.01\\nsamples = 569\\nvalue = [566, 3]'),\n",
       " Text(715.8505747126437, 488.6617021276596, 'X[7704] <= 0.5\\ngini = 0.004\\nsamples = 566\\nvalue = [565, 1]'),\n",
       " Text(710.1494252873564, 482.8787234042553, 'gini = 0.0\\nsamples = 565\\nvalue = [565, 0]'),\n",
       " Text(721.551724137931, 482.8787234042553, 'gini = 0.0\\nsamples = 1\\nvalue = [0, 1]'),\n",
       " Text(738.6551724137931, 488.6617021276596, 'X[24458] <= 0.5\\ngini = 0.444\\nsamples = 3\\nvalue = [1, 2]'),\n",
       " Text(732.9540229885058, 482.8787234042553, 'gini = 0.0\\nsamples = 2\\nvalue = [0, 2]'),\n",
       " Text(744.3563218390805, 482.8787234042553, 'gini = 0.0\\nsamples = 1\\nvalue = [1, 0]'),\n",
       " Text(738.6551724137931, 494.4446808510638, 'gini = 0.0\\nsamples = 2\\nvalue = [0, 2]'),\n",
       " Text(744.3563218390805, 500.22765957446813, 'gini = 0.0\\nsamples = 2\\nvalue = [0, 2]'),\n",
       " Text(761.4597701149426, 506.01063829787233, 'X[33337] <= 0.5\\ngini = 0.408\\nsamples = 7\\nvalue = [2, 5]'),\n",
       " Text(755.7586206896552, 500.22765957446813, 'gini = 0.0\\nsamples = 5\\nvalue = [0, 5]'),\n",
       " Text(767.1609195402299, 500.22765957446813, 'gini = 0.0\\nsamples = 2\\nvalue = [2, 0]'),\n",
       " Text(761.4597701149426, 511.79361702127665, 'gini = 0.0\\nsamples = 4\\nvalue = [0, 4]'),\n",
       " Text(767.1609195402299, 517.5765957446808, 'gini = 0.0\\nsamples = 15\\nvalue = [0, 15]'),\n",
       " Text(825.5977011494253, 529.1425531914894, 'X[42803] <= 0.5\\ngini = 0.238\\nsamples = 427\\nvalue = [59, 368]'),\n",
       " Text(819.8965517241379, 523.3595744680852, 'X[24417] <= 0.5\\ngini = 0.187\\nsamples = 411\\nvalue = [43, 368]'),\n",
       " Text(814.1954022988506, 517.5765957446808, 'X[1594] <= 1.0\\ngini = 0.147\\nsamples = 400\\nvalue = [32, 368]'),\n",
       " Text(808.4942528735633, 511.79361702127665, 'X[46730] <= 1.5\\ngini = 0.119\\nsamples = 393\\nvalue = [25, 368]'),\n",
       " Text(792.816091954023, 506.01063829787233, 'X[37879] <= 0.5\\ngini = 0.094\\nsamples = 386\\nvalue = [19, 367]'),\n",
       " Text(778.5632183908046, 500.22765957446813, 'X[48249] <= 0.5\\ngini = 0.058\\nsamples = 369\\nvalue = [11, 358]'),\n",
       " Text(772.8620689655172, 494.4446808510638, 'X[24648] <= 0.5\\ngini = 0.048\\nsamples = 367\\nvalue = [9, 358]'),\n",
       " Text(767.1609195402299, 488.6617021276596, 'X[12705] <= 0.5\\ngini = 0.038\\nsamples = 365\\nvalue = [7, 358]'),\n",
       " Text(755.7586206896552, 482.8787234042553, 'X[44106] <= 0.5\\ngini = 0.027\\nsamples = 362\\nvalue = [5, 357]'),\n",
       " Text(750.0574712643678, 477.0957446808511, 'X[10182] <= 0.5\\ngini = 0.022\\nsamples = 361\\nvalue = [4, 357]'),\n",
       " Text(744.3563218390805, 471.3127659574468, 'X[27992] <= 0.5\\ngini = 0.017\\nsamples = 360\\nvalue = [3, 357]'),\n",
       " Text(738.6551724137931, 465.5297872340426, 'X[44746] <= 0.5\\ngini = 0.011\\nsamples = 359\\nvalue = [2, 357]'),\n",
       " Text(732.9540229885058, 459.7468085106383, 'X[1195] <= 0.5\\ngini = 0.006\\nsamples = 358\\nvalue = [1, 357]'),\n",
       " Text(727.2528735632184, 453.9638297872341, 'gini = 0.0\\nsamples = 357\\nvalue = [0, 357]'),\n",
       " Text(738.6551724137931, 453.9638297872341, 'gini = 0.0\\nsamples = 1\\nvalue = [1, 0]'),\n",
       " Text(744.3563218390805, 459.7468085106383, 'gini = 0.0\\nsamples = 1\\nvalue = [1, 0]'),\n",
       " Text(750.0574712643678, 465.5297872340426, 'gini = 0.0\\nsamples = 1\\nvalue = [1, 0]'),\n",
       " Text(755.7586206896552, 471.3127659574468, 'gini = 0.0\\nsamples = 1\\nvalue = [1, 0]'),\n",
       " Text(761.4597701149426, 477.0957446808511, 'gini = 0.0\\nsamples = 1\\nvalue = [1, 0]'),\n",
       " Text(778.5632183908046, 482.8787234042553, 'X[25690] <= 1.0\\ngini = 0.444\\nsamples = 3\\nvalue = [2, 1]'),\n",
       " Text(772.8620689655172, 477.0957446808511, 'gini = 0.0\\nsamples = 2\\nvalue = [2, 0]'),\n",
       " Text(784.264367816092, 477.0957446808511, 'gini = 0.0\\nsamples = 1\\nvalue = [0, 1]'),\n",
       " Text(778.5632183908046, 488.6617021276596, 'gini = 0.0\\nsamples = 2\\nvalue = [2, 0]'),\n",
       " Text(784.264367816092, 494.4446808510638, 'gini = 0.0\\nsamples = 2\\nvalue = [2, 0]'),\n",
       " Text(807.0689655172414, 500.22765957446813, 'X[49259] <= 0.5\\ngini = 0.498\\nsamples = 17\\nvalue = [8, 9]'),\n",
       " Text(795.6666666666667, 494.4446808510638, 'X[390] <= 0.5\\ngini = 0.32\\nsamples = 10\\nvalue = [2, 8]'),\n",
       " Text(789.9655172413793, 488.6617021276596, 'gini = 0.0\\nsamples = 8\\nvalue = [0, 8]'),\n",
       " Text(801.3678160919541, 488.6617021276596, 'gini = 0.0\\nsamples = 2\\nvalue = [2, 0]'),\n",
       " Text(818.4712643678162, 494.4446808510638, 'X[7568] <= 0.5\\ngini = 0.245\\nsamples = 7\\nvalue = [6, 1]'),\n",
       " Text(812.7701149425287, 488.6617021276596, 'gini = 0.0\\nsamples = 6\\nvalue = [6, 0]'),\n",
       " Text(824.1724137931035, 488.6617021276596, 'gini = 0.0\\nsamples = 1\\nvalue = [0, 1]'),\n",
       " Text(824.1724137931035, 506.01063829787233, 'X[7868] <= 0.5\\ngini = 0.245\\nsamples = 7\\nvalue = [6, 1]'),\n",
       " Text(818.4712643678162, 500.22765957446813, 'gini = 0.0\\nsamples = 6\\nvalue = [6, 0]'),\n",
       " Text(829.8735632183908, 500.22765957446813, 'gini = 0.0\\nsamples = 1\\nvalue = [0, 1]'),\n",
       " Text(819.8965517241379, 511.79361702127665, 'gini = 0.0\\nsamples = 7\\nvalue = [7, 0]'),\n",
       " Text(825.5977011494253, 517.5765957446808, 'gini = 0.0\\nsamples = 11\\nvalue = [11, 0]'),\n",
       " Text(831.2988505747127, 523.3595744680852, 'gini = 0.0\\nsamples = 16\\nvalue = [16, 0]'),\n",
       " Text(786.580459770115, 534.9255319148937, 'gini = 0.0\\nsamples = 1127\\nvalue = [1127, 0]')]"
      ]
     },
     "execution_count": 40,
     "metadata": {},
     "output_type": "execute_result"
    },
    {
     "data": {
      "image/png": "[encoded data removed]",
      "text/plain": [
       "<Figure size 1080x720 with 1 Axes>"
      ]
     },
     "metadata": {
      "needs_background": "light"
     },
     "output_type": "display_data"
    }
   ],
   "source": [
    "plt.figure(figsize = (15, 10))\n",
    "tree.plot_tree(model , filled = True)"
   ]
  },
  {
   "cell_type": "code",
   "execution_count": null,
   "metadata": {},
   "outputs": [],
   "source": []
  },
  {
   "cell_type": "code",
   "execution_count": null,
   "metadata": {},
   "outputs": [],
   "source": []
  }
 ],
 "metadata": {
  "kernelspec": {
   "display_name": "Python 3",
   "language": "python",
   "name": "python3"
  },
  "language_info": {
   "codemirror_mode": {
    "name": "ipython",
    "version": 3
   },
   "file_extension": ".py",
   "mimetype": "text/x-python",
   "name": "python",
   "nbconvert_exporter": "python",
   "pygments_lexer": "ipython3",
   "version": "3.8.8"
  }
 },
 "nbformat": 4,
 "nbformat_minor": 2
}
